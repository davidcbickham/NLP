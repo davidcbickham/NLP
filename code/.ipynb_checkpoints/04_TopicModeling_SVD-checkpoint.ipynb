{
 "cells": [
  {
   "cell_type": "markdown",
   "metadata": {},
   "source": [
    "# Topic Modeling"
   ]
  },
  {
   "cell_type": "markdown",
   "metadata": {},
   "source": [
    "Topic modeling is the process of discovering groups of co-occurring words in text documents. These groups co-occurring words makes are related in some way, and can be considered 'topics'.\n",
    "\n",
    "Topic models are built around the idea that we can derive meaning from our document based on some hidden, or “latent,” association between variables that we are not observing. As a result, the goal of topic modeling is to uncover these latent variables — topics — that can provide additional insight into the language used in documents.\n",
    "\n",
    "It is a form of unsupervised text modeling technique. Topic modeling in and of itself is not a text classification technique. Rather than attempt to classify text, we seek to find commonly co-occurring terms across documents. However, the result of the topic modeling process can be used as inputs to a classfication model.\n",
    "\n",
    "[Source](https://www.datacamp.com/community/tutorials/discovering-hidden-topics-python)"
   ]
  },
  {
   "cell_type": "markdown",
   "metadata": {},
   "source": [
    "## Latent Semantic Analysis"
   ]
  },
  {
   "cell_type": "markdown",
   "metadata": {},
   "source": [
    "Latent Semanti Analysis is a topic modeling technique which results in a term-document matrix (occurrence of terms in a document). Rows represent terms and columns represent documents. LSA is typically used as a dimension reduction or noise reducing technique. LSA models typically replace raw counts in the document-term matrix with a tf-idf score."
   ]
  },
  {
   "cell_type": "markdown",
   "metadata": {},
   "source": [
    "## Importing Libraries"
   ]
  },
  {
   "cell_type": "code",
   "execution_count": 1,
   "metadata": {},
   "outputs": [],
   "source": [
    "import pandas as pd\n",
    "import json\n",
    "import spacy\n",
    "from sklearn.feature_extraction.text import TfidfVectorizer\n",
    "from sklearn.decomposition import TruncatedSVD\n",
    "from sklearn.metrics.pairwise import cosine_similarity\n",
    "from sklearn.model_selection import train_test_split, GridSearchCV\n",
    "import numpy as np\n",
    "\n",
    "np.random.seed(42)\n",
    "\n",
    "import matplotlib.pyplot as plt\n",
    "%matplotlib inline"
   ]
  },
  {
   "cell_type": "code",
   "execution_count": 2,
   "metadata": {},
   "outputs": [],
   "source": [
    "nlp = spacy.load(\"en_core_web_sm\",disable=['parser'])"
   ]
  },
  {
   "cell_type": "markdown",
   "metadata": {},
   "source": [
    "### Import Data"
   ]
  },
  {
   "cell_type": "code",
   "execution_count": 3,
   "metadata": {},
   "outputs": [
    {
     "data": {
      "text/html": [
       "<div>\n",
       "<style scoped>\n",
       "    .dataframe tbody tr th:only-of-type {\n",
       "        vertical-align: middle;\n",
       "    }\n",
       "\n",
       "    .dataframe tbody tr th {\n",
       "        vertical-align: top;\n",
       "    }\n",
       "\n",
       "    .dataframe thead th {\n",
       "        text-align: right;\n",
       "    }\n",
       "</style>\n",
       "<table border=\"1\" class=\"dataframe\">\n",
       "  <thead>\n",
       "    <tr style=\"text-align: right;\">\n",
       "      <th></th>\n",
       "      <th>author</th>\n",
       "      <th>author_fullname</th>\n",
       "      <th>subreddit_suicidewatch</th>\n",
       "      <th>id</th>\n",
       "      <th>created_utc</th>\n",
       "      <th>retrieved_on</th>\n",
       "      <th>permalink</th>\n",
       "      <th>url</th>\n",
       "      <th>num_comments</th>\n",
       "      <th>title</th>\n",
       "      <th>selftext</th>\n",
       "      <th>selftext_char_cnt</th>\n",
       "      <th>selftext_word_count</th>\n",
       "    </tr>\n",
       "  </thead>\n",
       "  <tbody>\n",
       "    <tr>\n",
       "      <th>0</th>\n",
       "      <td>gothic_reality</td>\n",
       "      <td>t2_39c20e2f</td>\n",
       "      <td>0</td>\n",
       "      <td>b7vfje</td>\n",
       "      <td>1554081327</td>\n",
       "      <td>1554081328</td>\n",
       "      <td>/r/depression/comments/b7vfje/how_do_i_explain...</td>\n",
       "      <td>https://www.reddit.com/r/depression/comments/b...</td>\n",
       "      <td>0</td>\n",
       "      <td>How do i explain to my mom that liking dark st...</td>\n",
       "      <td>I love my mom, but sometimes she overreacts to...</td>\n",
       "      <td>391</td>\n",
       "      <td>80</td>\n",
       "    </tr>\n",
       "    <tr>\n",
       "      <th>1</th>\n",
       "      <td>3453456346346</td>\n",
       "      <td>t2_335d0qqi</td>\n",
       "      <td>0</td>\n",
       "      <td>b7vf2d</td>\n",
       "      <td>1554081250</td>\n",
       "      <td>1554081251</td>\n",
       "      <td>/r/depression/comments/b7vf2d/i_want_to_lie_do...</td>\n",
       "      <td>https://www.reddit.com/r/depression/comments/b...</td>\n",
       "      <td>0</td>\n",
       "      <td>I want to lie down on a bed and curl up to sle...</td>\n",
       "      <td>I hate doing anything - i hate typing this but...</td>\n",
       "      <td>762</td>\n",
       "      <td>153</td>\n",
       "    </tr>\n",
       "  </tbody>\n",
       "</table>\n",
       "</div>"
      ],
      "text/plain": [
       "           author author_fullname  subreddit_suicidewatch      id  \\\n",
       "0  gothic_reality     t2_39c20e2f                       0  b7vfje   \n",
       "1   3453456346346     t2_335d0qqi                       0  b7vf2d   \n",
       "\n",
       "   created_utc  retrieved_on  \\\n",
       "0   1554081327    1554081328   \n",
       "1   1554081250    1554081251   \n",
       "\n",
       "                                           permalink  \\\n",
       "0  /r/depression/comments/b7vfje/how_do_i_explain...   \n",
       "1  /r/depression/comments/b7vf2d/i_want_to_lie_do...   \n",
       "\n",
       "                                                 url  num_comments  \\\n",
       "0  https://www.reddit.com/r/depression/comments/b...             0   \n",
       "1  https://www.reddit.com/r/depression/comments/b...             0   \n",
       "\n",
       "                                               title  \\\n",
       "0  How do i explain to my mom that liking dark st...   \n",
       "1  I want to lie down on a bed and curl up to sle...   \n",
       "\n",
       "                                            selftext  selftext_char_cnt  \\\n",
       "0  I love my mom, but sometimes she overreacts to...                391   \n",
       "1  I hate doing anything - i hate typing this but...                762   \n",
       "\n",
       "   selftext_word_count  \n",
       "0                   80  \n",
       "1                  153  "
      ]
     },
     "execution_count": 3,
     "metadata": {},
     "output_type": "execute_result"
    }
   ],
   "source": [
    "df = pd.read_csv('../data/df_combined.csv',index_col='Unnamed: 0')\n",
    "df.head(2)"
   ]
  },
  {
   "cell_type": "markdown",
   "metadata": {},
   "source": [
    "## Text Preprocessing\n",
    "\n",
    "The below code will prepare subreddit submissions for topic modeling\n",
    "\n",
    "### Process Text via spaCy\n",
    "\n",
    "spaCy is a free open-source library for Natural Language Processing in Python. It provides capability to recognize parts-of-speech, named entities (companies, locations, etc.), word vectorization, etc.\n",
    "\n",
    "Below we'll pass our reddit submissions through the spaCy text processor. This will tokenize our text, meaning it will separate each word in the document."
   ]
  },
  {
   "cell_type": "code",
   "execution_count": 4,
   "metadata": {},
   "outputs": [],
   "source": [
    "df['selftext_nlp'] = df['selftext'].apply(lambda x: nlp(x))"
   ]
  },
  {
   "cell_type": "code",
   "execution_count": 5,
   "metadata": {},
   "outputs": [
    {
     "data": {
      "text/html": [
       "<div>\n",
       "<style scoped>\n",
       "    .dataframe tbody tr th:only-of-type {\n",
       "        vertical-align: middle;\n",
       "    }\n",
       "\n",
       "    .dataframe tbody tr th {\n",
       "        vertical-align: top;\n",
       "    }\n",
       "\n",
       "    .dataframe thead th {\n",
       "        text-align: right;\n",
       "    }\n",
       "</style>\n",
       "<table border=\"1\" class=\"dataframe\">\n",
       "  <thead>\n",
       "    <tr style=\"text-align: right;\">\n",
       "      <th></th>\n",
       "      <th>author</th>\n",
       "      <th>author_fullname</th>\n",
       "      <th>subreddit_suicidewatch</th>\n",
       "      <th>id</th>\n",
       "      <th>created_utc</th>\n",
       "      <th>retrieved_on</th>\n",
       "      <th>permalink</th>\n",
       "      <th>url</th>\n",
       "      <th>num_comments</th>\n",
       "      <th>title</th>\n",
       "      <th>selftext</th>\n",
       "      <th>selftext_char_cnt</th>\n",
       "      <th>selftext_word_count</th>\n",
       "      <th>selftext_nlp</th>\n",
       "    </tr>\n",
       "  </thead>\n",
       "  <tbody>\n",
       "    <tr>\n",
       "      <th>0</th>\n",
       "      <td>gothic_reality</td>\n",
       "      <td>t2_39c20e2f</td>\n",
       "      <td>0</td>\n",
       "      <td>b7vfje</td>\n",
       "      <td>1554081327</td>\n",
       "      <td>1554081328</td>\n",
       "      <td>/r/depression/comments/b7vfje/how_do_i_explain...</td>\n",
       "      <td>https://www.reddit.com/r/depression/comments/b...</td>\n",
       "      <td>0</td>\n",
       "      <td>How do i explain to my mom that liking dark st...</td>\n",
       "      <td>I love my mom, but sometimes she overreacts to...</td>\n",
       "      <td>391</td>\n",
       "      <td>80</td>\n",
       "      <td>(I, love, my, mom, ,, but, sometimes, she, ove...</td>\n",
       "    </tr>\n",
       "    <tr>\n",
       "      <th>1</th>\n",
       "      <td>3453456346346</td>\n",
       "      <td>t2_335d0qqi</td>\n",
       "      <td>0</td>\n",
       "      <td>b7vf2d</td>\n",
       "      <td>1554081250</td>\n",
       "      <td>1554081251</td>\n",
       "      <td>/r/depression/comments/b7vf2d/i_want_to_lie_do...</td>\n",
       "      <td>https://www.reddit.com/r/depression/comments/b...</td>\n",
       "      <td>0</td>\n",
       "      <td>I want to lie down on a bed and curl up to sle...</td>\n",
       "      <td>I hate doing anything - i hate typing this but...</td>\n",
       "      <td>762</td>\n",
       "      <td>153</td>\n",
       "      <td>(I, hate, doing, anything, -, i, hate, typing,...</td>\n",
       "    </tr>\n",
       "  </tbody>\n",
       "</table>\n",
       "</div>"
      ],
      "text/plain": [
       "           author author_fullname  subreddit_suicidewatch      id  \\\n",
       "0  gothic_reality     t2_39c20e2f                       0  b7vfje   \n",
       "1   3453456346346     t2_335d0qqi                       0  b7vf2d   \n",
       "\n",
       "   created_utc  retrieved_on  \\\n",
       "0   1554081327    1554081328   \n",
       "1   1554081250    1554081251   \n",
       "\n",
       "                                           permalink  \\\n",
       "0  /r/depression/comments/b7vfje/how_do_i_explain...   \n",
       "1  /r/depression/comments/b7vf2d/i_want_to_lie_do...   \n",
       "\n",
       "                                                 url  num_comments  \\\n",
       "0  https://www.reddit.com/r/depression/comments/b...             0   \n",
       "1  https://www.reddit.com/r/depression/comments/b...             0   \n",
       "\n",
       "                                               title  \\\n",
       "0  How do i explain to my mom that liking dark st...   \n",
       "1  I want to lie down on a bed and curl up to sle...   \n",
       "\n",
       "                                            selftext  selftext_char_cnt  \\\n",
       "0  I love my mom, but sometimes she overreacts to...                391   \n",
       "1  I hate doing anything - i hate typing this but...                762   \n",
       "\n",
       "   selftext_word_count                                       selftext_nlp  \n",
       "0                   80  (I, love, my, mom, ,, but, sometimes, she, ove...  \n",
       "1                  153  (I, hate, doing, anything, -, i, hate, typing,...  "
      ]
     },
     "execution_count": 5,
     "metadata": {},
     "output_type": "execute_result"
    }
   ],
   "source": [
    "df.head(2)"
   ]
  },
  {
   "cell_type": "code",
   "execution_count": null,
   "metadata": {},
   "outputs": [],
   "source": [
    "for token in nlp(df.loc[0,'selftext']):\n",
    "    POS_counts = token.count_by(spacy.attrs.POS)"
   ]
  },
  {
   "cell_type": "code",
   "execution_count": 21,
   "metadata": {},
   "outputs": [],
   "source": [
    "doc = nlp(df.loc[0,'selftext'])\n",
    "#     POS_counts = token.count_by(spacy.attrs.POS)"
   ]
  },
  {
   "cell_type": "code",
   "execution_count": 24,
   "metadata": {},
   "outputs": [],
   "source": [
    "doc2 = df.loc[0,'selftext_nlp']"
   ]
  },
  {
   "cell_type": "code",
   "execution_count": 59,
   "metadata": {},
   "outputs": [
    {
     "ename": "SyntaxError",
     "evalue": "invalid syntax (<ipython-input-59-ef8a596bad4b>, line 1)",
     "output_type": "error",
     "traceback": [
      "\u001b[0;36m  File \u001b[0;32m\"<ipython-input-59-ef8a596bad4b>\"\u001b[0;36m, line \u001b[0;32m1\u001b[0m\n\u001b[0;31m    [doc2.count_by(spacy.attrs.POS) for doc2]\u001b[0m\n\u001b[0m                                            ^\u001b[0m\n\u001b[0;31mSyntaxError\u001b[0m\u001b[0;31m:\u001b[0m invalid syntax\n"
     ]
    }
   ],
   "source": [
    "[doc2.count_by(spacy.attrs.POS) for doc2]"
   ]
  },
  {
   "cell_type": "code",
   "execution_count": 25,
   "metadata": {},
   "outputs": [],
   "source": [
    "POS_counts = doc2.count_by(spacy.attrs.POS)"
   ]
  },
  {
   "cell_type": "code",
   "execution_count": 39,
   "metadata": {},
   "outputs": [
    {
     "data": {
      "text/plain": [
       "{97: 9,\n",
       " 100: 19,\n",
       " 84: 3,\n",
       " 85: 10,\n",
       " 86: 7,\n",
       " 89: 6,\n",
       " 90: 6,\n",
       " 91: 1,\n",
       " 92: 13,\n",
       " 94: 2,\n",
       " 95: 13}"
      ]
     },
     "execution_count": 39,
     "metadata": {},
     "output_type": "execute_result"
    }
   ],
   "source": [
    "POS_counts"
   ]
  },
  {
   "cell_type": "code",
   "execution_count": 34,
   "metadata": {},
   "outputs": [],
   "source": [
    "foo = pd.DataFrame.from_dict(data=POS_counts, orient='index').T"
   ]
  },
  {
   "cell_type": "code",
   "execution_count": 35,
   "metadata": {},
   "outputs": [
    {
     "data": {
      "text/html": [
       "<div>\n",
       "<style scoped>\n",
       "    .dataframe tbody tr th:only-of-type {\n",
       "        vertical-align: middle;\n",
       "    }\n",
       "\n",
       "    .dataframe tbody tr th {\n",
       "        vertical-align: top;\n",
       "    }\n",
       "\n",
       "    .dataframe thead th {\n",
       "        text-align: right;\n",
       "    }\n",
       "</style>\n",
       "<table border=\"1\" class=\"dataframe\">\n",
       "  <thead>\n",
       "    <tr style=\"text-align: right;\">\n",
       "      <th></th>\n",
       "      <th>97</th>\n",
       "      <th>100</th>\n",
       "      <th>84</th>\n",
       "      <th>85</th>\n",
       "      <th>86</th>\n",
       "      <th>89</th>\n",
       "      <th>90</th>\n",
       "      <th>91</th>\n",
       "      <th>92</th>\n",
       "      <th>94</th>\n",
       "      <th>95</th>\n",
       "    </tr>\n",
       "  </thead>\n",
       "  <tbody>\n",
       "    <tr>\n",
       "      <th>0</th>\n",
       "      <td>9</td>\n",
       "      <td>19</td>\n",
       "      <td>3</td>\n",
       "      <td>10</td>\n",
       "      <td>7</td>\n",
       "      <td>6</td>\n",
       "      <td>6</td>\n",
       "      <td>1</td>\n",
       "      <td>13</td>\n",
       "      <td>2</td>\n",
       "      <td>13</td>\n",
       "    </tr>\n",
       "  </tbody>\n",
       "</table>\n",
       "</div>"
      ],
      "text/plain": [
       "   97   100  84   85   86   89   90   91   92   94   95 \n",
       "0    9   19    3   10    7    6    6    1   13    2   13"
      ]
     },
     "execution_count": 35,
     "metadata": {},
     "output_type": "execute_result"
    }
   ],
   "source": [
    "foo"
   ]
  },
  {
   "cell_type": "code",
   "execution_count": 57,
   "metadata": {},
   "outputs": [],
   "source": [
    "bar3 = pd.DataFrame.from_dict(data=POS_counts, orient='index')"
   ]
  },
  {
   "cell_type": "code",
   "execution_count": 58,
   "metadata": {},
   "outputs": [
    {
     "data": {
      "text/html": [
       "<div>\n",
       "<style scoped>\n",
       "    .dataframe tbody tr th:only-of-type {\n",
       "        vertical-align: middle;\n",
       "    }\n",
       "\n",
       "    .dataframe tbody tr th {\n",
       "        vertical-align: top;\n",
       "    }\n",
       "\n",
       "    .dataframe thead th {\n",
       "        text-align: right;\n",
       "    }\n",
       "</style>\n",
       "<table border=\"1\" class=\"dataframe\">\n",
       "  <thead>\n",
       "    <tr style=\"text-align: right;\">\n",
       "      <th></th>\n",
       "      <th>0</th>\n",
       "    </tr>\n",
       "  </thead>\n",
       "  <tbody>\n",
       "    <tr>\n",
       "      <th>97</th>\n",
       "      <td>9</td>\n",
       "    </tr>\n",
       "    <tr>\n",
       "      <th>100</th>\n",
       "      <td>19</td>\n",
       "    </tr>\n",
       "    <tr>\n",
       "      <th>84</th>\n",
       "      <td>3</td>\n",
       "    </tr>\n",
       "    <tr>\n",
       "      <th>85</th>\n",
       "      <td>10</td>\n",
       "    </tr>\n",
       "    <tr>\n",
       "      <th>86</th>\n",
       "      <td>7</td>\n",
       "    </tr>\n",
       "    <tr>\n",
       "      <th>89</th>\n",
       "      <td>6</td>\n",
       "    </tr>\n",
       "    <tr>\n",
       "      <th>90</th>\n",
       "      <td>6</td>\n",
       "    </tr>\n",
       "    <tr>\n",
       "      <th>91</th>\n",
       "      <td>1</td>\n",
       "    </tr>\n",
       "    <tr>\n",
       "      <th>92</th>\n",
       "      <td>13</td>\n",
       "    </tr>\n",
       "    <tr>\n",
       "      <th>94</th>\n",
       "      <td>2</td>\n",
       "    </tr>\n",
       "    <tr>\n",
       "      <th>95</th>\n",
       "      <td>13</td>\n",
       "    </tr>\n",
       "  </tbody>\n",
       "</table>\n",
       "</div>"
      ],
      "text/plain": [
       "      0\n",
       "97    9\n",
       "100  19\n",
       "84    3\n",
       "85   10\n",
       "86    7\n",
       "89    6\n",
       "90    6\n",
       "91    1\n",
       "92   13\n",
       "94    2\n",
       "95   13"
      ]
     },
     "execution_count": 58,
     "metadata": {},
     "output_type": "execute_result"
    }
   ],
   "source": [
    "bar3.rename()"
   ]
  },
  {
   "cell_type": "markdown",
   "metadata": {},
   "source": [
    "### Lemantizing Text\n",
    "\n",
    "Lemantizing is the process of converting words to the base form of the word. The goal is that by lemantizing the text, we can reduce the number of individual terms in the corpus"
   ]
  },
  {
   "cell_type": "code",
   "execution_count": 81,
   "metadata": {},
   "outputs": [],
   "source": [
    "df['selftext_nlp_lem'] = df['selftext_nlp'].map(lambda x: \\\n",
    "                        ' '.join([token.lemma_.replace('-PRON-','') for token in x]))"
   ]
  },
  {
   "cell_type": "code",
   "execution_count": 82,
   "metadata": {},
   "outputs": [
    {
     "data": {
      "text/html": [
       "<div>\n",
       "<style scoped>\n",
       "    .dataframe tbody tr th:only-of-type {\n",
       "        vertical-align: middle;\n",
       "    }\n",
       "\n",
       "    .dataframe tbody tr th {\n",
       "        vertical-align: top;\n",
       "    }\n",
       "\n",
       "    .dataframe thead th {\n",
       "        text-align: right;\n",
       "    }\n",
       "</style>\n",
       "<table border=\"1\" class=\"dataframe\">\n",
       "  <thead>\n",
       "    <tr style=\"text-align: right;\">\n",
       "      <th></th>\n",
       "      <th>author</th>\n",
       "      <th>author_fullname</th>\n",
       "      <th>subreddit_suicidewatch</th>\n",
       "      <th>id</th>\n",
       "      <th>created_utc</th>\n",
       "      <th>retrieved_on</th>\n",
       "      <th>permalink</th>\n",
       "      <th>url</th>\n",
       "      <th>num_comments</th>\n",
       "      <th>title</th>\n",
       "      <th>selftext</th>\n",
       "      <th>selftext_char_cnt</th>\n",
       "      <th>selftext_word_count</th>\n",
       "      <th>selftext_nlp</th>\n",
       "      <th>selftext_nlp_lem</th>\n",
       "    </tr>\n",
       "  </thead>\n",
       "  <tbody>\n",
       "    <tr>\n",
       "      <th>0</th>\n",
       "      <td>gothic_reality</td>\n",
       "      <td>t2_39c20e2f</td>\n",
       "      <td>0</td>\n",
       "      <td>b7vfje</td>\n",
       "      <td>1554081327</td>\n",
       "      <td>1554081328</td>\n",
       "      <td>/r/depression/comments/b7vfje/how_do_i_explain...</td>\n",
       "      <td>https://www.reddit.com/r/depression/comments/b...</td>\n",
       "      <td>0</td>\n",
       "      <td>How do i explain to my mom that liking dark st...</td>\n",
       "      <td>I love my mom, but sometimes she overreacts to...</td>\n",
       "      <td>391</td>\n",
       "      <td>80</td>\n",
       "      <td>(I, love, my, mom, ,, but, sometimes, she, ove...</td>\n",
       "      <td>love  mom , but sometimes  overreact to thing...</td>\n",
       "    </tr>\n",
       "    <tr>\n",
       "      <th>1</th>\n",
       "      <td>3453456346346</td>\n",
       "      <td>t2_335d0qqi</td>\n",
       "      <td>0</td>\n",
       "      <td>b7vf2d</td>\n",
       "      <td>1554081250</td>\n",
       "      <td>1554081251</td>\n",
       "      <td>/r/depression/comments/b7vf2d/i_want_to_lie_do...</td>\n",
       "      <td>https://www.reddit.com/r/depression/comments/b...</td>\n",
       "      <td>0</td>\n",
       "      <td>I want to lie down on a bed and curl up to sle...</td>\n",
       "      <td>I hate doing anything - i hate typing this but...</td>\n",
       "      <td>762</td>\n",
       "      <td>153</td>\n",
       "      <td>(I, hate, doing, anything, -, i, hate, typing,...</td>\n",
       "      <td>hate do anything - i hate type this but i nee...</td>\n",
       "    </tr>\n",
       "  </tbody>\n",
       "</table>\n",
       "</div>"
      ],
      "text/plain": [
       "           author author_fullname  subreddit_suicidewatch      id  \\\n",
       "0  gothic_reality     t2_39c20e2f                       0  b7vfje   \n",
       "1   3453456346346     t2_335d0qqi                       0  b7vf2d   \n",
       "\n",
       "   created_utc  retrieved_on  \\\n",
       "0   1554081327    1554081328   \n",
       "1   1554081250    1554081251   \n",
       "\n",
       "                                           permalink  \\\n",
       "0  /r/depression/comments/b7vfje/how_do_i_explain...   \n",
       "1  /r/depression/comments/b7vf2d/i_want_to_lie_do...   \n",
       "\n",
       "                                                 url  num_comments  \\\n",
       "0  https://www.reddit.com/r/depression/comments/b...             0   \n",
       "1  https://www.reddit.com/r/depression/comments/b...             0   \n",
       "\n",
       "                                               title  \\\n",
       "0  How do i explain to my mom that liking dark st...   \n",
       "1  I want to lie down on a bed and curl up to sle...   \n",
       "\n",
       "                                            selftext  selftext_char_cnt  \\\n",
       "0  I love my mom, but sometimes she overreacts to...                391   \n",
       "1  I hate doing anything - i hate typing this but...                762   \n",
       "\n",
       "   selftext_word_count                                       selftext_nlp  \\\n",
       "0                   80  (I, love, my, mom, ,, but, sometimes, she, ove...   \n",
       "1                  153  (I, hate, doing, anything, -, i, hate, typing,...   \n",
       "\n",
       "                                    selftext_nlp_lem  \n",
       "0   love  mom , but sometimes  overreact to thing...  \n",
       "1   hate do anything - i hate type this but i nee...  "
      ]
     },
     "execution_count": 82,
     "metadata": {},
     "output_type": "execute_result"
    }
   ],
   "source": [
    "df.head(2)"
   ]
  },
  {
   "cell_type": "markdown",
   "metadata": {},
   "source": [
    "## Assigning X and Y Variables\n",
    "\n",
    "Our y, 'subreddit_suicidewatch' is our response variable that we're trying to correctly classify. The 'selftext' will be the foundation of our predictor variables. We will vectorize this text using the TD-IDF method."
   ]
  },
  {
   "cell_type": "code",
   "execution_count": 83,
   "metadata": {},
   "outputs": [],
   "source": [
    "X = df[['selftext_nlp_lem']]\n",
    "y = df['subreddit_suicidewatch']"
   ]
  },
  {
   "cell_type": "markdown",
   "metadata": {},
   "source": [
    "## Train/Test/Split\n",
    "\n",
    "Next we'll use `train_test_split` to create a train and test set for our data. We'll train our model on the training data and test our fitted model on the test date to measure our accuracy. By default, we'll fit our model on 75% of the observations (training data) and use the remaining 25% to generate our predictions."
   ]
  },
  {
   "cell_type": "code",
   "execution_count": 84,
   "metadata": {},
   "outputs": [],
   "source": [
    "np.random.seed(23)\n",
    "X_train, X_test, y_train, y_test = train_test_split(X, y, \n",
    "                                                    stratify=y\n",
    "                                                   )"
   ]
  },
  {
   "cell_type": "markdown",
   "metadata": {},
   "source": [
    "### Filtering Out Explicit Terms\n",
    "\n",
    "The main goal of this investigation is to identify users that may be struggling with mental health issues based on comments/posts made on public forums. While we certainly aim to create a model that can identify explicit references to depression or self harm, we also want to analyze the accuracy of our model when the language used is not as explicit.\n",
    "\n",
    "We'll identify terms that 1) Explicitly mention depression or self harm and 2) Had large coefficient values from our logistic regression model. We'll add these words to our stop words prior to modeling"
   ]
  },
  {
   "cell_type": "markdown",
   "metadata": {},
   "source": [
    "For reference, we'll import the df with our logistic regression features and coefficients"
   ]
  },
  {
   "cell_type": "code",
   "execution_count": 85,
   "metadata": {},
   "outputs": [
    {
     "data": {
      "text/html": [
       "<div>\n",
       "<style scoped>\n",
       "    .dataframe tbody tr th:only-of-type {\n",
       "        vertical-align: middle;\n",
       "    }\n",
       "\n",
       "    .dataframe tbody tr th {\n",
       "        vertical-align: top;\n",
       "    }\n",
       "\n",
       "    .dataframe thead th {\n",
       "        text-align: right;\n",
       "    }\n",
       "</style>\n",
       "<table border=\"1\" class=\"dataframe\">\n",
       "  <thead>\n",
       "    <tr style=\"text-align: right;\">\n",
       "      <th></th>\n",
       "      <th>logodds</th>\n",
       "      <th>odds</th>\n",
       "    </tr>\n",
       "  </thead>\n",
       "  <tbody>\n",
       "    <tr>\n",
       "      <th>suicide</th>\n",
       "      <td>3.536649</td>\n",
       "      <td>34.35</td>\n",
       "    </tr>\n",
       "    <tr>\n",
       "      <th>kill</th>\n",
       "      <td>3.039500</td>\n",
       "      <td>20.89</td>\n",
       "    </tr>\n",
       "    <tr>\n",
       "      <th>suicidal</th>\n",
       "      <td>3.000084</td>\n",
       "      <td>20.09</td>\n",
       "    </tr>\n",
       "    <tr>\n",
       "      <th>die</th>\n",
       "      <td>2.872858</td>\n",
       "      <td>17.69</td>\n",
       "    </tr>\n",
       "    <tr>\n",
       "      <th>end</th>\n",
       "      <td>2.493258</td>\n",
       "      <td>12.10</td>\n",
       "    </tr>\n",
       "  </tbody>\n",
       "</table>\n",
       "</div>"
      ],
      "text/plain": [
       "           logodds   odds\n",
       "suicide   3.536649  34.35\n",
       "kill      3.039500  20.89\n",
       "suicidal  3.000084  20.09\n",
       "die       2.872858  17.69\n",
       "end       2.493258  12.10"
      ]
     },
     "execution_count": 85,
     "metadata": {},
     "output_type": "execute_result"
    }
   ],
   "source": [
    "lr_features_coef = pd.read_csv('../data/logreg_coef_df.csv',index_col='Unnamed: 0')\n",
    "lr_features_coef.head(5)"
   ]
  },
  {
   "cell_type": "markdown",
   "metadata": {},
   "source": [
    "Below we'll return the top 25 words associated with the suicidewatch subreddit"
   ]
  },
  {
   "cell_type": "code",
   "execution_count": 86,
   "metadata": {},
   "outputs": [
    {
     "data": {
      "text/plain": [
       "Index(['suicide', 'kill', 'suicidal', 'die', 'end', 'death', 'pills', 'pain',\n",
       "       'family', 'gun', 'killing', 'goodbye', 'attempt', 'rope', 'way', 'life',\n",
       "       'tonight', 'overdose', 'alive', 'live', 'ending', 'neck', 'hospital',\n",
       "       'anymore', 'won', 'killed', 'method', 'tried', 'jumping', 'plan',\n",
       "       'gonna', 'jump', 'want', 'note', 'living', 'painful', 'decision',\n",
       "       'bottle', 'knife', 'fucking', 'failed', 'peace', 'think', 'leave',\n",
       "       'planning', 'reason', 'parents', 'hopeless', 'world', 'debt'],\n",
       "      dtype='object')"
      ]
     },
     "execution_count": 86,
     "metadata": {},
     "output_type": "execute_result"
    }
   ],
   "source": [
    "lr_features_coef.head(50).index"
   ]
  },
  {
   "cell_type": "markdown",
   "metadata": {},
   "source": [
    "The below list of terms explicitly refer to self harm and we'll add them to our stop words list:"
   ]
  },
  {
   "cell_type": "code",
   "execution_count": 87,
   "metadata": {},
   "outputs": [],
   "source": [
    "new_stop_words = {'suicide', 'kill', 'suicidal', 'die', 'end', 'death', 'pills', 'pain',\n",
    "        'gun', 'killing', 'goodbye', 'rope', \n",
    "        'overdose', 'alive', 'live', 'ending',\n",
    "        'killed',  'jump', 'living', 'painful', \n",
    "       'bottle', 'knife'}"
   ]
  },
  {
   "cell_type": "markdown",
   "metadata": {},
   "source": [
    "We'll now look at the top terms associated with depression. These terms will have the lowest logodds values:"
   ]
  },
  {
   "cell_type": "code",
   "execution_count": 89,
   "metadata": {},
   "outputs": [
    {
     "data": {
      "text/plain": [
       "Index(['depression', 'depressed', 'bed', 'motivation', 'feeling', 'feel',\n",
       "       'start', 'like', 'started', 'sad', 'recently', 'used', 'energy', 'work',\n",
       "       'class', 'doctor', 'experience', 'went', 'having', 'video', 'advice',\n",
       "       'working', 'depressive', 'problem', 'makes', 'happy', 'lazy',\n",
       "       'relationship', 'days', 'normal', 'time', 'conversation', 'gym', 'past',\n",
       "       'bring', 'games', 'feelings', 'lately', 'music', 'progress', 'self',\n",
       "       'sleep', 'eat', 'team', 'positive', 'similar', 'group', 'frustrating',\n",
       "       'sucks', 'does'],\n",
       "      dtype='object')"
      ]
     },
     "execution_count": 89,
     "metadata": {},
     "output_type": "execute_result"
    }
   ],
   "source": [
    "lr_features_coef.sort_values('logodds', ascending=True).head(50).index"
   ]
  },
  {
   "cell_type": "markdown",
   "metadata": {},
   "source": [
    "We'll add the below terms to our list of `new_stop_words`"
   ]
  },
  {
   "cell_type": "code",
   "execution_count": 90,
   "metadata": {},
   "outputs": [],
   "source": [
    "new_stop_words.update(['depression', 'depressed','feeling', 'feel',\n",
    "        'sad',  'energy', 'doctor',\n",
    "       'depressive', 'problem'])"
   ]
  },
  {
   "cell_type": "markdown",
   "metadata": {},
   "source": [
    "Next we'll add these new words to our list of stop words"
   ]
  },
  {
   "cell_type": "code",
   "execution_count": 91,
   "metadata": {},
   "outputs": [],
   "source": [
    "nlp.Defaults.stop_words.update(new_stop_words)"
   ]
  },
  {
   "cell_type": "markdown",
   "metadata": {},
   "source": [
    "## Instantiate TDIDF\n",
    "\n",
    "TF-IDF stands 'Term Frequency — Inverse Data Frequency'. It provides both a measure for how often a word is present in a given document, while taking into account how often the word appears across the entire corpus of documents.\n",
    "\n",
    "The 'TF' stands for 'Term Frequency' and is the ratio of number of times the word appears in a document relative to the total number of words in that document. If the word appears more frequently, the value will increase"
   ]
  },
  {
   "cell_type": "code",
   "execution_count": 93,
   "metadata": {},
   "outputs": [],
   "source": [
    "tfidf = TfidfVectorizer(stop_words=nlp.Defaults.stop_words, min_df=5, max_df=0.95)\n",
    "train_raw = tfidf.fit_transform(X_train['selftext_nlp_lem'])"
   ]
  },
  {
   "cell_type": "code",
   "execution_count": 95,
   "metadata": {},
   "outputs": [
    {
     "data": {
      "text/plain": [
       "(13576, 6676)"
      ]
     },
     "execution_count": 95,
     "metadata": {},
     "output_type": "execute_result"
    }
   ],
   "source": [
    "train_raw.shape"
   ]
  },
  {
   "cell_type": "markdown",
   "metadata": {},
   "source": [
    "We see the vectorized training set has 6676 features"
   ]
  },
  {
   "cell_type": "markdown",
   "metadata": {},
   "source": [
    "### Creating a Sparse Matrix\n",
    "\n",
    "We'll convert the tfidf matrix to a sparse data frame. Sparse data frames contain mostly zeros. Stored apprpriate data in a sparse matrix allow the matrix to be stored more efficiently, and typically speed up machine learning processes"
   ]
  },
  {
   "cell_type": "code",
   "execution_count": 97,
   "metadata": {},
   "outputs": [
    {
     "data": {
      "text/html": [
       "<div>\n",
       "<style scoped>\n",
       "    .dataframe tbody tr th:only-of-type {\n",
       "        vertical-align: middle;\n",
       "    }\n",
       "\n",
       "    .dataframe tbody tr th {\n",
       "        vertical-align: top;\n",
       "    }\n",
       "\n",
       "    .dataframe thead th {\n",
       "        text-align: right;\n",
       "    }\n",
       "</style>\n",
       "<table border=\"1\" class=\"dataframe\">\n",
       "  <thead>\n",
       "    <tr style=\"text-align: right;\">\n",
       "      <th></th>\n",
       "      <th>00</th>\n",
       "      <th>000</th>\n",
       "      <th>00am</th>\n",
       "      <th>01</th>\n",
       "      <th>03</th>\n",
       "      <th>10</th>\n",
       "      <th>100</th>\n",
       "      <th>1000</th>\n",
       "      <th>100k</th>\n",
       "      <th>10k</th>\n",
       "      <th>...</th>\n",
       "      <th>yr</th>\n",
       "      <th>yrs</th>\n",
       "      <th>yup</th>\n",
       "      <th>zap</th>\n",
       "      <th>zealand</th>\n",
       "      <th>zen</th>\n",
       "      <th>zero</th>\n",
       "      <th>zoloft</th>\n",
       "      <th>zombie</th>\n",
       "      <th>zone</th>\n",
       "    </tr>\n",
       "  </thead>\n",
       "  <tbody>\n",
       "    <tr>\n",
       "      <th>0</th>\n",
       "      <td>0.0</td>\n",
       "      <td>0.0</td>\n",
       "      <td>0.0</td>\n",
       "      <td>0.0</td>\n",
       "      <td>0.0</td>\n",
       "      <td>0.0</td>\n",
       "      <td>0.0</td>\n",
       "      <td>0.0</td>\n",
       "      <td>0.0</td>\n",
       "      <td>0.0</td>\n",
       "      <td>...</td>\n",
       "      <td>0.0</td>\n",
       "      <td>0.0</td>\n",
       "      <td>0.0</td>\n",
       "      <td>0.0</td>\n",
       "      <td>0.0</td>\n",
       "      <td>0.0</td>\n",
       "      <td>0.0</td>\n",
       "      <td>0.0</td>\n",
       "      <td>0.0</td>\n",
       "      <td>0.0</td>\n",
       "    </tr>\n",
       "    <tr>\n",
       "      <th>1</th>\n",
       "      <td>0.0</td>\n",
       "      <td>0.0</td>\n",
       "      <td>0.0</td>\n",
       "      <td>0.0</td>\n",
       "      <td>0.0</td>\n",
       "      <td>0.0</td>\n",
       "      <td>0.0</td>\n",
       "      <td>0.0</td>\n",
       "      <td>0.0</td>\n",
       "      <td>0.0</td>\n",
       "      <td>...</td>\n",
       "      <td>0.0</td>\n",
       "      <td>0.0</td>\n",
       "      <td>0.0</td>\n",
       "      <td>0.0</td>\n",
       "      <td>0.0</td>\n",
       "      <td>0.0</td>\n",
       "      <td>0.0</td>\n",
       "      <td>0.0</td>\n",
       "      <td>0.0</td>\n",
       "      <td>0.0</td>\n",
       "    </tr>\n",
       "  </tbody>\n",
       "</table>\n",
       "<p>2 rows × 6676 columns</p>\n",
       "</div>"
      ],
      "text/plain": [
       "    00  000  00am   01   03   10  100  1000  100k  10k  ...   yr  yrs  yup  \\\n",
       "0  0.0  0.0   0.0  0.0  0.0  0.0  0.0   0.0   0.0  0.0  ...  0.0  0.0  0.0   \n",
       "1  0.0  0.0   0.0  0.0  0.0  0.0  0.0   0.0   0.0  0.0  ...  0.0  0.0  0.0   \n",
       "\n",
       "   zap  zealand  zen  zero  zoloft  zombie  zone  \n",
       "0  0.0      0.0  0.0   0.0     0.0     0.0   0.0  \n",
       "1  0.0      0.0  0.0   0.0     0.0     0.0   0.0  \n",
       "\n",
       "[2 rows x 6676 columns]"
      ]
     },
     "execution_count": 97,
     "metadata": {},
     "output_type": "execute_result"
    }
   ],
   "source": [
    "train_df = pd.SparseDataFrame(train_raw, columns=tfidf.get_feature_names())\n",
    "train_df.fillna(0, inplace=True)\n",
    "train_df.head(2)"
   ]
  },
  {
   "cell_type": "code",
   "execution_count": 98,
   "metadata": {},
   "outputs": [],
   "source": [
    "test_df = pd.SparseDataFrame(tfidf.transform(X_test['selftext_nlp_lem']), columns=tfidf.get_feature_names())\n",
    "test_df.fillna(0, inplace=True)"
   ]
  },
  {
   "cell_type": "code",
   "execution_count": 99,
   "metadata": {},
   "outputs": [
    {
     "name": "stdout",
     "output_type": "stream",
     "text": [
      "(13576, 6676)\n",
      "(4526, 6676)\n"
     ]
    }
   ],
   "source": [
    "print(train_df.shape)\n",
    "print(test_df.shape)"
   ]
  },
  {
   "cell_type": "markdown",
   "metadata": {},
   "source": [
    "### Singular Value Decomposition\n",
    "\n",
    "Singular Value Decomposition (SVD) is a dimensionality reduction technique in linear algebra that factorizes any matrix M into the product of 3 separate matrices.\n",
    "\n",
    "- This is very similar to an eigendecomposition, which is \n",
    "$$X = S\\Lambda S^T$$\n",
    "\n",
    "- This is similar but for non-square matrices.\n",
    " \n",
    "\n",
    "- Factors matrix into the product of three matrices\n",
    "\n",
    "  $$X = USV^T$$\n",
    "  \n",
    "- $m$ is the number of documents\n",
    "- $n$ is the number of terms\n",
    "- $U$ is $m\\times n$, which are analogous to the eigenvectors in PCA\n",
    "- $S$ is $n\\times n$, which is analgous to the eigenvalues in PCA\n",
    "- $V$ is $n\\times n$\n",
    "\n",
    "Source: DSI Lecture notes"
   ]
  },
  {
   "cell_type": "markdown",
   "metadata": {},
   "source": [
    "### Computing the SVD Matrix"
   ]
  },
  {
   "cell_type": "markdown",
   "metadata": {},
   "source": [
    "Creating SVD matrix with 100 components or 'topics'"
   ]
  },
  {
   "cell_type": "code",
   "execution_count": 100,
   "metadata": {},
   "outputs": [],
   "source": [
    "SVD = TruncatedSVD(n_components=100)\n",
    "svd_train = SVD.fit_transform(train_df)"
   ]
  },
  {
   "cell_type": "code",
   "execution_count": 102,
   "metadata": {},
   "outputs": [
    {
     "data": {
      "text/plain": [
       "(13576, 100)"
      ]
     },
     "execution_count": 102,
     "metadata": {},
     "output_type": "execute_result"
    }
   ],
   "source": [
    "svd_train.shape"
   ]
  },
  {
   "cell_type": "markdown",
   "metadata": {},
   "source": [
    "Repeat process for X_test"
   ]
  },
  {
   "cell_type": "code",
   "execution_count": 104,
   "metadata": {},
   "outputs": [
    {
     "data": {
      "text/plain": [
       "(4526, 100)"
      ]
     },
     "execution_count": 104,
     "metadata": {},
     "output_type": "execute_result"
    }
   ],
   "source": [
    "SVD = TruncatedSVD(n_components=100)\n",
    "svd_test = SVD.fit_transform(test_df)\n",
    "svd_test.shape"
   ]
  },
  {
   "cell_type": "code",
   "execution_count": 105,
   "metadata": {},
   "outputs": [
    {
     "data": {
      "text/plain": [
       "(100, 6676)"
      ]
     },
     "execution_count": 105,
     "metadata": {},
     "output_type": "execute_result"
    }
   ],
   "source": [
    "SVD.components_.shape"
   ]
  },
  {
   "cell_type": "markdown",
   "metadata": {},
   "source": [
    "### Plot the Explained Variance by Component"
   ]
  },
  {
   "cell_type": "code",
   "execution_count": 107,
   "metadata": {},
   "outputs": [
    {
     "data": {
      "image/png": "[encoded data removed]",
      "text/plain": [
       "<Figure size 1440x720 with 1 Axes>"
      ]
     },
     "metadata": {
      "needs_background": "light"
     },
     "output_type": "display_data"
    }
   ],
   "source": [
    "fig = plt.figure(figsize=(20,10))\n",
    "plt.bar(np.array(range(100))+1, \n",
    "        SVD.explained_variance_ratio_, \n",
    "        color='g', \n",
    "        label='explained variance')\n",
    "plt.plot(np.array(range(100))+1, \n",
    "         np.cumsum(SVD.explained_variance_ratio_), \n",
    "         label='cumulative explained variance')\n",
    "plt.legend(fontsize=16)\n",
    "plt.xlabel('component', fontsize=20)\n",
    "plt.ylabel('variance ratio', fontsize=20)\n",
    "plt.title('Explained variance by component', fontsize=36);"
   ]
  },
  {
   "cell_type": "markdown",
   "metadata": {},
   "source": [
    "Above we're plotting the cumulative sum of explained variance with each additional component"
   ]
  },
  {
   "cell_type": "markdown",
   "metadata": {},
   "source": [
    "### Convert Component Matrix to Data Frame"
   ]
  },
  {
   "cell_type": "markdown",
   "metadata": {},
   "source": [
    "We'll do this for both train/test matrices"
   ]
  },
  {
   "cell_type": "code",
   "execution_count": 108,
   "metadata": {},
   "outputs": [],
   "source": [
    "component_names = [\"component_\"+str(i+1) for i in range(100)]\n",
    "svd_train_df = pd.DataFrame(svd_train,\n",
    "                      columns=component_names)"
   ]
  },
  {
   "cell_type": "code",
   "execution_count": 109,
   "metadata": {},
   "outputs": [],
   "source": [
    "component_names = [\"component_\"+str(i+1) for i in range(100)]\n",
    "svd_test_df = pd.DataFrame(svd_test,\n",
    "                      columns=component_names)"
   ]
  },
  {
   "cell_type": "code",
   "execution_count": 112,
   "metadata": {},
   "outputs": [
    {
     "data": {
      "text/html": [
       "<div>\n",
       "<style scoped>\n",
       "    .dataframe tbody tr th:only-of-type {\n",
       "        vertical-align: middle;\n",
       "    }\n",
       "\n",
       "    .dataframe tbody tr th {\n",
       "        vertical-align: top;\n",
       "    }\n",
       "\n",
       "    .dataframe thead th {\n",
       "        text-align: right;\n",
       "    }\n",
       "</style>\n",
       "<table border=\"1\" class=\"dataframe\">\n",
       "  <thead>\n",
       "    <tr style=\"text-align: right;\">\n",
       "      <th></th>\n",
       "      <th>component_1</th>\n",
       "      <th>component_2</th>\n",
       "      <th>component_3</th>\n",
       "      <th>component_4</th>\n",
       "      <th>component_5</th>\n",
       "      <th>component_6</th>\n",
       "      <th>component_7</th>\n",
       "      <th>component_8</th>\n",
       "      <th>component_9</th>\n",
       "      <th>component_10</th>\n",
       "      <th>...</th>\n",
       "      <th>component_91</th>\n",
       "      <th>component_92</th>\n",
       "      <th>component_93</th>\n",
       "      <th>component_94</th>\n",
       "      <th>component_95</th>\n",
       "      <th>component_96</th>\n",
       "      <th>component_97</th>\n",
       "      <th>component_98</th>\n",
       "      <th>component_99</th>\n",
       "      <th>component_100</th>\n",
       "    </tr>\n",
       "  </thead>\n",
       "  <tbody>\n",
       "    <tr>\n",
       "      <th>0</th>\n",
       "      <td>0.155172</td>\n",
       "      <td>-0.003670</td>\n",
       "      <td>-0.002124</td>\n",
       "      <td>0.014478</td>\n",
       "      <td>0.002681</td>\n",
       "      <td>-0.052865</td>\n",
       "      <td>-0.059001</td>\n",
       "      <td>0.038124</td>\n",
       "      <td>0.018633</td>\n",
       "      <td>0.022193</td>\n",
       "      <td>...</td>\n",
       "      <td>-0.010760</td>\n",
       "      <td>-0.018826</td>\n",
       "      <td>0.001786</td>\n",
       "      <td>0.023956</td>\n",
       "      <td>0.005599</td>\n",
       "      <td>-0.028989</td>\n",
       "      <td>0.053657</td>\n",
       "      <td>0.010791</td>\n",
       "      <td>0.014747</td>\n",
       "      <td>-0.024673</td>\n",
       "    </tr>\n",
       "    <tr>\n",
       "      <th>1</th>\n",
       "      <td>0.205836</td>\n",
       "      <td>-0.060872</td>\n",
       "      <td>-0.043165</td>\n",
       "      <td>0.006340</td>\n",
       "      <td>-0.042640</td>\n",
       "      <td>-0.039046</td>\n",
       "      <td>0.028612</td>\n",
       "      <td>0.078522</td>\n",
       "      <td>0.014946</td>\n",
       "      <td>-0.076008</td>\n",
       "      <td>...</td>\n",
       "      <td>-0.068778</td>\n",
       "      <td>-0.036343</td>\n",
       "      <td>0.003453</td>\n",
       "      <td>-0.020360</td>\n",
       "      <td>0.022209</td>\n",
       "      <td>-0.036672</td>\n",
       "      <td>0.030255</td>\n",
       "      <td>0.000675</td>\n",
       "      <td>-0.004755</td>\n",
       "      <td>-0.047940</td>\n",
       "    </tr>\n",
       "    <tr>\n",
       "      <th>2</th>\n",
       "      <td>0.351283</td>\n",
       "      <td>0.179486</td>\n",
       "      <td>0.073329</td>\n",
       "      <td>0.132833</td>\n",
       "      <td>-0.017563</td>\n",
       "      <td>-0.011364</td>\n",
       "      <td>-0.118971</td>\n",
       "      <td>0.004924</td>\n",
       "      <td>0.022352</td>\n",
       "      <td>0.066759</td>\n",
       "      <td>...</td>\n",
       "      <td>-0.037898</td>\n",
       "      <td>-0.050107</td>\n",
       "      <td>0.011966</td>\n",
       "      <td>0.016616</td>\n",
       "      <td>-0.006331</td>\n",
       "      <td>-0.043140</td>\n",
       "      <td>0.010610</td>\n",
       "      <td>-0.008940</td>\n",
       "      <td>-0.015674</td>\n",
       "      <td>0.050169</td>\n",
       "    </tr>\n",
       "    <tr>\n",
       "      <th>3</th>\n",
       "      <td>0.136349</td>\n",
       "      <td>-0.015884</td>\n",
       "      <td>-0.030976</td>\n",
       "      <td>0.033367</td>\n",
       "      <td>0.069266</td>\n",
       "      <td>-0.164193</td>\n",
       "      <td>0.130675</td>\n",
       "      <td>-0.092371</td>\n",
       "      <td>-0.000665</td>\n",
       "      <td>0.023290</td>\n",
       "      <td>...</td>\n",
       "      <td>-0.025427</td>\n",
       "      <td>-0.007477</td>\n",
       "      <td>0.037288</td>\n",
       "      <td>0.014251</td>\n",
       "      <td>-0.014316</td>\n",
       "      <td>0.014765</td>\n",
       "      <td>0.010102</td>\n",
       "      <td>0.009868</td>\n",
       "      <td>0.013789</td>\n",
       "      <td>-0.033550</td>\n",
       "    </tr>\n",
       "    <tr>\n",
       "      <th>4</th>\n",
       "      <td>0.268819</td>\n",
       "      <td>-0.089988</td>\n",
       "      <td>-0.054031</td>\n",
       "      <td>0.027371</td>\n",
       "      <td>-0.108067</td>\n",
       "      <td>-0.015675</td>\n",
       "      <td>0.024032</td>\n",
       "      <td>-0.038320</td>\n",
       "      <td>0.016212</td>\n",
       "      <td>0.006592</td>\n",
       "      <td>...</td>\n",
       "      <td>-0.038898</td>\n",
       "      <td>-0.037600</td>\n",
       "      <td>0.019091</td>\n",
       "      <td>0.039374</td>\n",
       "      <td>-0.030224</td>\n",
       "      <td>-0.041736</td>\n",
       "      <td>0.058367</td>\n",
       "      <td>-0.043293</td>\n",
       "      <td>-0.008118</td>\n",
       "      <td>-0.052189</td>\n",
       "    </tr>\n",
       "  </tbody>\n",
       "</table>\n",
       "<p>5 rows × 100 columns</p>\n",
       "</div>"
      ],
      "text/plain": [
       "   component_1  component_2  component_3  component_4  component_5  \\\n",
       "0     0.155172    -0.003670    -0.002124     0.014478     0.002681   \n",
       "1     0.205836    -0.060872    -0.043165     0.006340    -0.042640   \n",
       "2     0.351283     0.179486     0.073329     0.132833    -0.017563   \n",
       "3     0.136349    -0.015884    -0.030976     0.033367     0.069266   \n",
       "4     0.268819    -0.089988    -0.054031     0.027371    -0.108067   \n",
       "\n",
       "   component_6  component_7  component_8  component_9  component_10  ...  \\\n",
       "0    -0.052865    -0.059001     0.038124     0.018633      0.022193  ...   \n",
       "1    -0.039046     0.028612     0.078522     0.014946     -0.076008  ...   \n",
       "2    -0.011364    -0.118971     0.004924     0.022352      0.066759  ...   \n",
       "3    -0.164193     0.130675    -0.092371    -0.000665      0.023290  ...   \n",
       "4    -0.015675     0.024032    -0.038320     0.016212      0.006592  ...   \n",
       "\n",
       "   component_91  component_92  component_93  component_94  component_95  \\\n",
       "0     -0.010760     -0.018826      0.001786      0.023956      0.005599   \n",
       "1     -0.068778     -0.036343      0.003453     -0.020360      0.022209   \n",
       "2     -0.037898     -0.050107      0.011966      0.016616     -0.006331   \n",
       "3     -0.025427     -0.007477      0.037288      0.014251     -0.014316   \n",
       "4     -0.038898     -0.037600      0.019091      0.039374     -0.030224   \n",
       "\n",
       "   component_96  component_97  component_98  component_99  component_100  \n",
       "0     -0.028989      0.053657      0.010791      0.014747      -0.024673  \n",
       "1     -0.036672      0.030255      0.000675     -0.004755      -0.047940  \n",
       "2     -0.043140      0.010610     -0.008940     -0.015674       0.050169  \n",
       "3      0.014765      0.010102      0.009868      0.013789      -0.033550  \n",
       "4     -0.041736      0.058367     -0.043293     -0.008118      -0.052189  \n",
       "\n",
       "[5 rows x 100 columns]"
      ]
     },
     "execution_count": 112,
     "metadata": {},
     "output_type": "execute_result"
    }
   ],
   "source": [
    "svd_train_df.head()"
   ]
  },
  {
   "cell_type": "markdown",
   "metadata": {},
   "source": [
    "### Make feature loadings matrix"
   ]
  },
  {
   "cell_type": "code",
   "execution_count": 113,
   "metadata": {},
   "outputs": [],
   "source": [
    "loadings = pd.DataFrame(SVD.components_,\n",
    "                        index=component_names,\n",
    "                        columns=train_df.columns).T"
   ]
  },
  {
   "cell_type": "code",
   "execution_count": 153,
   "metadata": {},
   "outputs": [],
   "source": [
    "# def append_components(dataframe):\n",
    "#     for i in range(1,100,1):\n",
    "#         dataframe[f'abs_component_{i}'] = np.abs(dataframe[f'component_{i}'])\n",
    "#         return dataframe"
   ]
  },
  {
   "cell_type": "markdown",
   "metadata": {},
   "source": [
    "### Analyze the Top Components and Features"
   ]
  },
  {
   "cell_type": "code",
   "execution_count": 157,
   "metadata": {},
   "outputs": [],
   "source": [
    "loadings['abs_component_1'] = np.abs(loadings.component_1)\n",
    "loadings['abs_component_2'] = np.abs(loadings.component_2)\n",
    "loadings['abs_component_3'] = np.abs(loadings.component_3)\n",
    "loadings['abs_component_4'] = np.abs(loadings.component_4)\n",
    "loadings['abs_component_5'] = np.abs(loadings.component_5)"
   ]
  },
  {
   "cell_type": "code",
   "execution_count": 158,
   "metadata": {},
   "outputs": [
    {
     "data": {
      "text/plain": [
       "(6676, 105)"
      ]
     },
     "execution_count": 158,
     "metadata": {},
     "output_type": "execute_result"
    }
   ],
   "source": [
    "loadings.shape"
   ]
  },
  {
   "cell_type": "code",
   "execution_count": 171,
   "metadata": {
    "scrolled": true
   },
   "outputs": [
    {
     "data": {
      "text/html": [
       "<div>\n",
       "<style scoped>\n",
       "    .dataframe tbody tr th:only-of-type {\n",
       "        vertical-align: middle;\n",
       "    }\n",
       "\n",
       "    .dataframe tbody tr th {\n",
       "        vertical-align: top;\n",
       "    }\n",
       "\n",
       "    .dataframe thead th {\n",
       "        text-align: right;\n",
       "    }\n",
       "</style>\n",
       "<table border=\"1\" class=\"dataframe\">\n",
       "  <thead>\n",
       "    <tr style=\"text-align: right;\">\n",
       "      <th></th>\n",
       "      <th>component_1</th>\n",
       "    </tr>\n",
       "  </thead>\n",
       "  <tbody>\n",
       "    <tr>\n",
       "      <th>want</th>\n",
       "      <td>0.270686</td>\n",
       "    </tr>\n",
       "    <tr>\n",
       "      <th>like</th>\n",
       "      <td>0.260414</td>\n",
       "    </tr>\n",
       "    <tr>\n",
       "      <th>know</th>\n",
       "      <td>0.227246</td>\n",
       "    </tr>\n",
       "    <tr>\n",
       "      <th>life</th>\n",
       "      <td>0.198625</td>\n",
       "    </tr>\n",
       "    <tr>\n",
       "      <th>think</th>\n",
       "      <td>0.169512</td>\n",
       "    </tr>\n",
       "    <tr>\n",
       "      <th>people</th>\n",
       "      <td>0.159862</td>\n",
       "    </tr>\n",
       "    <tr>\n",
       "      <th>time</th>\n",
       "      <td>0.159039</td>\n",
       "    </tr>\n",
       "    <tr>\n",
       "      <th>friend</th>\n",
       "      <td>0.154300</td>\n",
       "    </tr>\n",
       "    <tr>\n",
       "      <th>day</th>\n",
       "      <td>0.143519</td>\n",
       "    </tr>\n",
       "    <tr>\n",
       "      <th>year</th>\n",
       "      <td>0.136490</td>\n",
       "    </tr>\n",
       "  </tbody>\n",
       "</table>\n",
       "</div>"
      ],
      "text/plain": [
       "        component_1\n",
       "want       0.270686\n",
       "like       0.260414\n",
       "know       0.227246\n",
       "life       0.198625\n",
       "think      0.169512\n",
       "people     0.159862\n",
       "time       0.159039\n",
       "friend     0.154300\n",
       "day        0.143519\n",
       "year       0.136490"
      ]
     },
     "execution_count": 171,
     "metadata": {},
     "output_type": "execute_result"
    }
   ],
   "source": [
    "loadings.sort_values('abs_component_1',ascending=False).head(10)[['component_1']]"
   ]
  },
  {
   "cell_type": "code",
   "execution_count": 161,
   "metadata": {},
   "outputs": [
    {
     "data": {
      "text/html": [
       "<div>\n",
       "<style scoped>\n",
       "    .dataframe tbody tr th:only-of-type {\n",
       "        vertical-align: middle;\n",
       "    }\n",
       "\n",
       "    .dataframe tbody tr th {\n",
       "        vertical-align: top;\n",
       "    }\n",
       "\n",
       "    .dataframe thead th {\n",
       "        text-align: right;\n",
       "    }\n",
       "</style>\n",
       "<table border=\"1\" class=\"dataframe\">\n",
       "  <thead>\n",
       "    <tr style=\"text-align: right;\">\n",
       "      <th></th>\n",
       "      <th>component_2</th>\n",
       "    </tr>\n",
       "  </thead>\n",
       "  <tbody>\n",
       "    <tr>\n",
       "      <th>want</th>\n",
       "      <td>0.784613</td>\n",
       "    </tr>\n",
       "    <tr>\n",
       "      <th>year</th>\n",
       "      <td>-0.155109</td>\n",
       "    </tr>\n",
       "    <tr>\n",
       "      <th>day</th>\n",
       "      <td>-0.144354</td>\n",
       "    </tr>\n",
       "    <tr>\n",
       "      <th>work</th>\n",
       "      <td>-0.128443</td>\n",
       "    </tr>\n",
       "    <tr>\n",
       "      <th>time</th>\n",
       "      <td>-0.128136</td>\n",
       "    </tr>\n",
       "    <tr>\n",
       "      <th>anymore</th>\n",
       "      <td>0.125553</td>\n",
       "    </tr>\n",
       "    <tr>\n",
       "      <th>amp</th>\n",
       "      <td>-0.117033</td>\n",
       "    </tr>\n",
       "    <tr>\n",
       "      <th>fuck</th>\n",
       "      <td>0.116577</td>\n",
       "    </tr>\n",
       "    <tr>\n",
       "      <th>tired</th>\n",
       "      <td>0.114507</td>\n",
       "    </tr>\n",
       "    <tr>\n",
       "      <th>x200b</th>\n",
       "      <td>-0.099686</td>\n",
       "    </tr>\n",
       "  </tbody>\n",
       "</table>\n",
       "</div>"
      ],
      "text/plain": [
       "         component_2\n",
       "want        0.784613\n",
       "year       -0.155109\n",
       "day        -0.144354\n",
       "work       -0.128443\n",
       "time       -0.128136\n",
       "anymore     0.125553\n",
       "amp        -0.117033\n",
       "fuck        0.116577\n",
       "tired       0.114507\n",
       "x200b      -0.099686"
      ]
     },
     "execution_count": 161,
     "metadata": {},
     "output_type": "execute_result"
    }
   ],
   "source": [
    "loadings.sort_values('abs_component_2',ascending=False).head(10)[['component_2']]"
   ]
  },
  {
   "cell_type": "code",
   "execution_count": 162,
   "metadata": {},
   "outputs": [
    {
     "data": {
      "text/html": [
       "<div>\n",
       "<style scoped>\n",
       "    .dataframe tbody tr th:only-of-type {\n",
       "        vertical-align: middle;\n",
       "    }\n",
       "\n",
       "    .dataframe tbody tr th {\n",
       "        vertical-align: top;\n",
       "    }\n",
       "\n",
       "    .dataframe thead th {\n",
       "        text-align: right;\n",
       "    }\n",
       "</style>\n",
       "<table border=\"1\" class=\"dataframe\">\n",
       "  <thead>\n",
       "    <tr style=\"text-align: right;\">\n",
       "      <th></th>\n",
       "      <th>component_3</th>\n",
       "    </tr>\n",
       "  </thead>\n",
       "  <tbody>\n",
       "    <tr>\n",
       "      <th>fuck</th>\n",
       "      <td>0.590681</td>\n",
       "    </tr>\n",
       "    <tr>\n",
       "      <th>want</th>\n",
       "      <td>-0.304104</td>\n",
       "    </tr>\n",
       "    <tr>\n",
       "      <th>like</th>\n",
       "      <td>0.265241</td>\n",
       "    </tr>\n",
       "    <tr>\n",
       "      <th>shit</th>\n",
       "      <td>0.238153</td>\n",
       "    </tr>\n",
       "    <tr>\n",
       "      <th>fucking</th>\n",
       "      <td>0.226436</td>\n",
       "    </tr>\n",
       "    <tr>\n",
       "      <th>life</th>\n",
       "      <td>0.194758</td>\n",
       "    </tr>\n",
       "    <tr>\n",
       "      <th>hate</th>\n",
       "      <td>0.188250</td>\n",
       "    </tr>\n",
       "    <tr>\n",
       "      <th>amp</th>\n",
       "      <td>0.183381</td>\n",
       "    </tr>\n",
       "    <tr>\n",
       "      <th>x200b</th>\n",
       "      <td>0.167992</td>\n",
       "    </tr>\n",
       "    <tr>\n",
       "      <th>people</th>\n",
       "      <td>0.158514</td>\n",
       "    </tr>\n",
       "  </tbody>\n",
       "</table>\n",
       "</div>"
      ],
      "text/plain": [
       "         component_3\n",
       "fuck        0.590681\n",
       "want       -0.304104\n",
       "like        0.265241\n",
       "shit        0.238153\n",
       "fucking     0.226436\n",
       "life        0.194758\n",
       "hate        0.188250\n",
       "amp         0.183381\n",
       "x200b       0.167992\n",
       "people      0.158514"
      ]
     },
     "execution_count": 162,
     "metadata": {},
     "output_type": "execute_result"
    }
   ],
   "source": [
    "loadings.sort_values('abs_component_3',ascending=False).head(10)[['component_3']]"
   ]
  },
  {
   "cell_type": "code",
   "execution_count": 163,
   "metadata": {},
   "outputs": [
    {
     "data": {
      "text/html": [
       "<div>\n",
       "<style scoped>\n",
       "    .dataframe tbody tr th:only-of-type {\n",
       "        vertical-align: middle;\n",
       "    }\n",
       "\n",
       "    .dataframe tbody tr th {\n",
       "        vertical-align: top;\n",
       "    }\n",
       "\n",
       "    .dataframe thead th {\n",
       "        text-align: right;\n",
       "    }\n",
       "</style>\n",
       "<table border=\"1\" class=\"dataframe\">\n",
       "  <thead>\n",
       "    <tr style=\"text-align: right;\">\n",
       "      <th></th>\n",
       "      <th>component_4</th>\n",
       "    </tr>\n",
       "  </thead>\n",
       "  <tbody>\n",
       "    <tr>\n",
       "      <th>amp</th>\n",
       "      <td>0.653742</td>\n",
       "    </tr>\n",
       "    <tr>\n",
       "      <th>x200b</th>\n",
       "      <td>0.573962</td>\n",
       "    </tr>\n",
       "    <tr>\n",
       "      <th>like</th>\n",
       "      <td>-0.245184</td>\n",
       "    </tr>\n",
       "    <tr>\n",
       "      <th>want</th>\n",
       "      <td>0.225462</td>\n",
       "    </tr>\n",
       "    <tr>\n",
       "      <th>know</th>\n",
       "      <td>-0.137104</td>\n",
       "    </tr>\n",
       "    <tr>\n",
       "      <th>talk</th>\n",
       "      <td>-0.120376</td>\n",
       "    </tr>\n",
       "    <tr>\n",
       "      <th>friend</th>\n",
       "      <td>-0.118675</td>\n",
       "    </tr>\n",
       "    <tr>\n",
       "      <th>people</th>\n",
       "      <td>-0.073549</td>\n",
       "    </tr>\n",
       "    <tr>\n",
       "      <th>shit</th>\n",
       "      <td>-0.071851</td>\n",
       "    </tr>\n",
       "    <tr>\n",
       "      <th>work</th>\n",
       "      <td>0.064814</td>\n",
       "    </tr>\n",
       "  </tbody>\n",
       "</table>\n",
       "</div>"
      ],
      "text/plain": [
       "        component_4\n",
       "amp        0.653742\n",
       "x200b      0.573962\n",
       "like      -0.245184\n",
       "want       0.225462\n",
       "know      -0.137104\n",
       "talk      -0.120376\n",
       "friend    -0.118675\n",
       "people    -0.073549\n",
       "shit      -0.071851\n",
       "work       0.064814"
      ]
     },
     "execution_count": 163,
     "metadata": {},
     "output_type": "execute_result"
    }
   ],
   "source": [
    "loadings.sort_values('abs_component_4',ascending=False).head(10)[['component_4']]"
   ]
  },
  {
   "cell_type": "code",
   "execution_count": 164,
   "metadata": {},
   "outputs": [
    {
     "data": {
      "text/html": [
       "<div>\n",
       "<style scoped>\n",
       "    .dataframe tbody tr th:only-of-type {\n",
       "        vertical-align: middle;\n",
       "    }\n",
       "\n",
       "    .dataframe tbody tr th {\n",
       "        vertical-align: top;\n",
       "    }\n",
       "\n",
       "    .dataframe thead th {\n",
       "        text-align: right;\n",
       "    }\n",
       "</style>\n",
       "<table border=\"1\" class=\"dataframe\">\n",
       "  <thead>\n",
       "    <tr style=\"text-align: right;\">\n",
       "      <th></th>\n",
       "      <th>component_5</th>\n",
       "    </tr>\n",
       "  </thead>\n",
       "  <tbody>\n",
       "    <tr>\n",
       "      <th>fuck</th>\n",
       "      <td>0.394075</td>\n",
       "    </tr>\n",
       "    <tr>\n",
       "      <th>like</th>\n",
       "      <td>-0.361925</td>\n",
       "    </tr>\n",
       "    <tr>\n",
       "      <th>people</th>\n",
       "      <td>-0.325375</td>\n",
       "    </tr>\n",
       "    <tr>\n",
       "      <th>know</th>\n",
       "      <td>-0.269681</td>\n",
       "    </tr>\n",
       "    <tr>\n",
       "      <th>talk</th>\n",
       "      <td>-0.206162</td>\n",
       "    </tr>\n",
       "    <tr>\n",
       "      <th>amp</th>\n",
       "      <td>-0.202586</td>\n",
       "    </tr>\n",
       "    <tr>\n",
       "      <th>work</th>\n",
       "      <td>0.199281</td>\n",
       "    </tr>\n",
       "    <tr>\n",
       "      <th>x200b</th>\n",
       "      <td>-0.182911</td>\n",
       "    </tr>\n",
       "    <tr>\n",
       "      <th>day</th>\n",
       "      <td>0.178387</td>\n",
       "    </tr>\n",
       "    <tr>\n",
       "      <th>job</th>\n",
       "      <td>0.168393</td>\n",
       "    </tr>\n",
       "  </tbody>\n",
       "</table>\n",
       "</div>"
      ],
      "text/plain": [
       "        component_5\n",
       "fuck       0.394075\n",
       "like      -0.361925\n",
       "people    -0.325375\n",
       "know      -0.269681\n",
       "talk      -0.206162\n",
       "amp       -0.202586\n",
       "work       0.199281\n",
       "x200b     -0.182911\n",
       "day        0.178387\n",
       "job        0.168393"
      ]
     },
     "execution_count": 164,
     "metadata": {},
     "output_type": "execute_result"
    }
   ],
   "source": [
    "loadings.sort_values('abs_component_5',ascending=False).head(10)[['component_5']]"
   ]
  },
  {
   "cell_type": "markdown",
   "metadata": {},
   "source": [
    "Common terms that are highly weighted in each component include: 'want', 'know' 'fuck', 'like', and 'life'."
   ]
  },
  {
   "cell_type": "markdown",
   "metadata": {},
   "source": [
    "### Logistic Regression Model Using the SVD Matrix"
   ]
  },
  {
   "cell_type": "code",
   "execution_count": 166,
   "metadata": {},
   "outputs": [],
   "source": [
    "from sklearn.linear_model import LogisticRegressionCV\n",
    "logreg = LogisticRegressionCV(cv=3)"
   ]
  },
  {
   "cell_type": "code",
   "execution_count": 167,
   "metadata": {},
   "outputs": [
    {
     "data": {
      "text/plain": [
       "LogisticRegressionCV(Cs=10, class_weight=None, cv=3, dual=False,\n",
       "           fit_intercept=True, intercept_scaling=1.0, max_iter=100,\n",
       "           multi_class='warn', n_jobs=None, penalty='l2',\n",
       "           random_state=None, refit=True, scoring=None, solver='lbfgs',\n",
       "           tol=0.0001, verbose=0)"
      ]
     },
     "execution_count": 167,
     "metadata": {},
     "output_type": "execute_result"
    }
   ],
   "source": [
    "logreg.fit(svd_train_df, y_train)"
   ]
  },
  {
   "cell_type": "code",
   "execution_count": 168,
   "metadata": {},
   "outputs": [
    {
     "data": {
      "text/plain": [
       "0.672878609310548"
      ]
     },
     "execution_count": 168,
     "metadata": {},
     "output_type": "execute_result"
    }
   ],
   "source": [
    "logreg.score(svd_train_df, y_train)"
   ]
  },
  {
   "cell_type": "code",
   "execution_count": 169,
   "metadata": {},
   "outputs": [
    {
     "data": {
      "text/plain": [
       "0.5196641626159965"
      ]
     },
     "execution_count": 169,
     "metadata": {},
     "output_type": "execute_result"
    }
   ],
   "source": [
    "logreg.score(svd_test_df, y_test)"
   ]
  },
  {
   "cell_type": "markdown",
   "metadata": {},
   "source": [
    "Our model performance overall is quite low. Our test score of 52% is only slightly better than if we had just predicted the positive class for every observation (suiciidewatch presents roughly 50% of obs)."
   ]
  },
  {
   "cell_type": "markdown",
   "metadata": {},
   "source": [
    "### Analyze Logistic Regression Coefficients & Components\n",
    "\n",
    "Create a matrix containing the beta names and coefficient values. Additionally, we'll compute the odds value for all coefficients"
   ]
  },
  {
   "cell_type": "code",
   "execution_count": 172,
   "metadata": {},
   "outputs": [],
   "source": [
    "logreg_coef_df = pd.DataFrame(logreg.coef_, columns=svd_test_df.columns)\n",
    "logreg_coef_df.rename(index={0:'logodds'}, inplace=True)\n",
    "logreg_coef_df = logreg_coef_df.T.sort_values('logodds',ascending=False)\n",
    "logreg_coef_df['odds'] = logreg_coef_df['logodds'].map(lambda x: round(np.exp(x),2))"
   ]
  },
  {
   "cell_type": "markdown",
   "metadata": {},
   "source": [
    "Below we can observe some of the components and coefficient values most associated with the suicidewatch subreddit"
   ]
  },
  {
   "cell_type": "code",
   "execution_count": 177,
   "metadata": {},
   "outputs": [
    {
     "data": {
      "text/html": [
       "<div>\n",
       "<style scoped>\n",
       "    .dataframe tbody tr th:only-of-type {\n",
       "        vertical-align: middle;\n",
       "    }\n",
       "\n",
       "    .dataframe tbody tr th {\n",
       "        vertical-align: top;\n",
       "    }\n",
       "\n",
       "    .dataframe thead th {\n",
       "        text-align: right;\n",
       "    }\n",
       "</style>\n",
       "<table border=\"1\" class=\"dataframe\">\n",
       "  <thead>\n",
       "    <tr style=\"text-align: right;\">\n",
       "      <th></th>\n",
       "      <th>logodds</th>\n",
       "      <th>odds</th>\n",
       "    </tr>\n",
       "  </thead>\n",
       "  <tbody>\n",
       "    <tr>\n",
       "      <th>component_2</th>\n",
       "      <td>4.620415</td>\n",
       "      <td>101.54</td>\n",
       "    </tr>\n",
       "    <tr>\n",
       "      <th>component_30</th>\n",
       "      <td>4.121126</td>\n",
       "      <td>61.63</td>\n",
       "    </tr>\n",
       "    <tr>\n",
       "      <th>component_8</th>\n",
       "      <td>3.280305</td>\n",
       "      <td>26.58</td>\n",
       "    </tr>\n",
       "    <tr>\n",
       "      <th>component_74</th>\n",
       "      <td>2.961784</td>\n",
       "      <td>19.33</td>\n",
       "    </tr>\n",
       "    <tr>\n",
       "      <th>component_83</th>\n",
       "      <td>2.801151</td>\n",
       "      <td>16.46</td>\n",
       "    </tr>\n",
       "  </tbody>\n",
       "</table>\n",
       "</div>"
      ],
      "text/plain": [
       "               logodds    odds\n",
       "component_2   4.620415  101.54\n",
       "component_30  4.121126   61.63\n",
       "component_8   3.280305   26.58\n",
       "component_74  2.961784   19.33\n",
       "component_83  2.801151   16.46"
      ]
     },
     "execution_count": 177,
     "metadata": {},
     "output_type": "execute_result"
    }
   ],
   "source": [
    "logreg_coef_df.head()"
   ]
  },
  {
   "cell_type": "markdown",
   "metadata": {},
   "source": [
    "We'll examine the top 10 features within the top 3 components associated with suicidewatch"
   ]
  },
  {
   "cell_type": "code",
   "execution_count": 178,
   "metadata": {},
   "outputs": [
    {
     "data": {
      "text/html": [
       "<div>\n",
       "<style scoped>\n",
       "    .dataframe tbody tr th:only-of-type {\n",
       "        vertical-align: middle;\n",
       "    }\n",
       "\n",
       "    .dataframe tbody tr th {\n",
       "        vertical-align: top;\n",
       "    }\n",
       "\n",
       "    .dataframe thead th {\n",
       "        text-align: right;\n",
       "    }\n",
       "</style>\n",
       "<table border=\"1\" class=\"dataframe\">\n",
       "  <thead>\n",
       "    <tr style=\"text-align: right;\">\n",
       "      <th></th>\n",
       "      <th>component_2</th>\n",
       "    </tr>\n",
       "  </thead>\n",
       "  <tbody>\n",
       "    <tr>\n",
       "      <th>want</th>\n",
       "      <td>0.784613</td>\n",
       "    </tr>\n",
       "    <tr>\n",
       "      <th>year</th>\n",
       "      <td>-0.155109</td>\n",
       "    </tr>\n",
       "    <tr>\n",
       "      <th>day</th>\n",
       "      <td>-0.144354</td>\n",
       "    </tr>\n",
       "    <tr>\n",
       "      <th>work</th>\n",
       "      <td>-0.128443</td>\n",
       "    </tr>\n",
       "    <tr>\n",
       "      <th>time</th>\n",
       "      <td>-0.128136</td>\n",
       "    </tr>\n",
       "    <tr>\n",
       "      <th>anymore</th>\n",
       "      <td>0.125553</td>\n",
       "    </tr>\n",
       "    <tr>\n",
       "      <th>amp</th>\n",
       "      <td>-0.117033</td>\n",
       "    </tr>\n",
       "    <tr>\n",
       "      <th>fuck</th>\n",
       "      <td>0.116577</td>\n",
       "    </tr>\n",
       "    <tr>\n",
       "      <th>tired</th>\n",
       "      <td>0.114507</td>\n",
       "    </tr>\n",
       "    <tr>\n",
       "      <th>x200b</th>\n",
       "      <td>-0.099686</td>\n",
       "    </tr>\n",
       "  </tbody>\n",
       "</table>\n",
       "</div>"
      ],
      "text/plain": [
       "         component_2\n",
       "want        0.784613\n",
       "year       -0.155109\n",
       "day        -0.144354\n",
       "work       -0.128443\n",
       "time       -0.128136\n",
       "anymore     0.125553\n",
       "amp        -0.117033\n",
       "fuck        0.116577\n",
       "tired       0.114507\n",
       "x200b      -0.099686"
      ]
     },
     "execution_count": 178,
     "metadata": {},
     "output_type": "execute_result"
    }
   ],
   "source": [
    "loadings.sort_values('abs_component_2',ascending=False).head(10)[['component_2']]"
   ]
  },
  {
   "cell_type": "code",
   "execution_count": 180,
   "metadata": {},
   "outputs": [
    {
     "data": {
      "text/html": [
       "<div>\n",
       "<style scoped>\n",
       "    .dataframe tbody tr th:only-of-type {\n",
       "        vertical-align: middle;\n",
       "    }\n",
       "\n",
       "    .dataframe tbody tr th {\n",
       "        vertical-align: top;\n",
       "    }\n",
       "\n",
       "    .dataframe thead th {\n",
       "        text-align: right;\n",
       "    }\n",
       "</style>\n",
       "<table border=\"1\" class=\"dataframe\">\n",
       "  <thead>\n",
       "    <tr style=\"text-align: right;\">\n",
       "      <th></th>\n",
       "      <th>component_30</th>\n",
       "    </tr>\n",
       "  </thead>\n",
       "  <tbody>\n",
       "    <tr>\n",
       "      <th>time</th>\n",
       "      <td>-0.283025</td>\n",
       "    </tr>\n",
       "    <tr>\n",
       "      <th>shit</th>\n",
       "      <td>-0.260096</td>\n",
       "    </tr>\n",
       "    <tr>\n",
       "      <th>good</th>\n",
       "      <td>0.239327</td>\n",
       "    </tr>\n",
       "    <tr>\n",
       "      <th>way</th>\n",
       "      <td>-0.217629</td>\n",
       "    </tr>\n",
       "    <tr>\n",
       "      <th>friend</th>\n",
       "      <td>-0.213621</td>\n",
       "    </tr>\n",
       "    <tr>\n",
       "      <th>happy</th>\n",
       "      <td>-0.207945</td>\n",
       "    </tr>\n",
       "    <tr>\n",
       "      <th>lose</th>\n",
       "      <td>0.200630</td>\n",
       "    </tr>\n",
       "    <tr>\n",
       "      <th>leave</th>\n",
       "      <td>0.195507</td>\n",
       "    </tr>\n",
       "    <tr>\n",
       "      <th>love</th>\n",
       "      <td>-0.192037</td>\n",
       "    </tr>\n",
       "    <tr>\n",
       "      <th>help</th>\n",
       "      <td>-0.182044</td>\n",
       "    </tr>\n",
       "  </tbody>\n",
       "</table>\n",
       "</div>"
      ],
      "text/plain": [
       "        component_30\n",
       "time       -0.283025\n",
       "shit       -0.260096\n",
       "good        0.239327\n",
       "way        -0.217629\n",
       "friend     -0.213621\n",
       "happy      -0.207945\n",
       "lose        0.200630\n",
       "leave       0.195507\n",
       "love       -0.192037\n",
       "help       -0.182044"
      ]
     },
     "execution_count": 180,
     "metadata": {},
     "output_type": "execute_result"
    }
   ],
   "source": [
    "loadings['abs_component_30'] = np.abs(loadings.component_30)\n",
    "loadings.sort_values('abs_component_30',ascending=False).head(10)[['component_30']]"
   ]
  },
  {
   "cell_type": "code",
   "execution_count": 181,
   "metadata": {},
   "outputs": [
    {
     "data": {
      "text/html": [
       "<div>\n",
       "<style scoped>\n",
       "    .dataframe tbody tr th:only-of-type {\n",
       "        vertical-align: middle;\n",
       "    }\n",
       "\n",
       "    .dataframe tbody tr th {\n",
       "        vertical-align: top;\n",
       "    }\n",
       "\n",
       "    .dataframe thead th {\n",
       "        text-align: right;\n",
       "    }\n",
       "</style>\n",
       "<table border=\"1\" class=\"dataframe\">\n",
       "  <thead>\n",
       "    <tr style=\"text-align: right;\">\n",
       "      <th></th>\n",
       "      <th>component_8</th>\n",
       "    </tr>\n",
       "  </thead>\n",
       "  <tbody>\n",
       "    <tr>\n",
       "      <th>know</th>\n",
       "      <td>0.556460</td>\n",
       "    </tr>\n",
       "    <tr>\n",
       "      <th>friend</th>\n",
       "      <td>-0.440289</td>\n",
       "    </tr>\n",
       "    <tr>\n",
       "      <th>talk</th>\n",
       "      <td>-0.204217</td>\n",
       "    </tr>\n",
       "    <tr>\n",
       "      <th>think</th>\n",
       "      <td>0.203606</td>\n",
       "    </tr>\n",
       "    <tr>\n",
       "      <th>want</th>\n",
       "      <td>-0.186628</td>\n",
       "    </tr>\n",
       "    <tr>\n",
       "      <th>help</th>\n",
       "      <td>0.173657</td>\n",
       "    </tr>\n",
       "    <tr>\n",
       "      <th>like</th>\n",
       "      <td>-0.162511</td>\n",
       "    </tr>\n",
       "    <tr>\n",
       "      <th>good</th>\n",
       "      <td>-0.152976</td>\n",
       "    </tr>\n",
       "    <tr>\n",
       "      <th>school</th>\n",
       "      <td>-0.150672</td>\n",
       "    </tr>\n",
       "    <tr>\n",
       "      <th>anymore</th>\n",
       "      <td>0.143369</td>\n",
       "    </tr>\n",
       "  </tbody>\n",
       "</table>\n",
       "</div>"
      ],
      "text/plain": [
       "         component_8\n",
       "know        0.556460\n",
       "friend     -0.440289\n",
       "talk       -0.204217\n",
       "think       0.203606\n",
       "want       -0.186628\n",
       "help        0.173657\n",
       "like       -0.162511\n",
       "good       -0.152976\n",
       "school     -0.150672\n",
       "anymore     0.143369"
      ]
     },
     "execution_count": 181,
     "metadata": {},
     "output_type": "execute_result"
    }
   ],
   "source": [
    "loadings['abs_component_8'] = np.abs(loadings.component_8)\n",
    "loadings.sort_values('abs_component_8',ascending=False).head(10)[['component_8']]"
   ]
  },
  {
   "cell_type": "markdown",
   "metadata": {},
   "source": [
    "### Plot the Top Features by Component"
   ]
  },
  {
   "cell_type": "code",
   "execution_count": 189,
   "metadata": {},
   "outputs": [],
   "source": [
    "comp30 = loadings.sort_values('abs_component_30',ascending=False)['component_30'].head(10)\n",
    "labels_com30 = comp30.index"
   ]
  },
  {
   "cell_type": "code",
   "execution_count": 192,
   "metadata": {},
   "outputs": [
    {
     "data": {
      "text/plain": [
       "''"
      ]
     },
     "execution_count": 192,
     "metadata": {},
     "output_type": "execute_result"
    },
    {
     "data": {
      "image/png": "[encoded data removed]",
      "text/plain": [
       "<Figure size 1440x720 with 1 Axes>"
      ]
     },
     "metadata": {
      "needs_background": "light"
     },
     "output_type": "display_data"
    }
   ],
   "source": [
    "plt.figure(figsize=(20,10))\n",
    "plt.barh(labels_com30, comp30, color= 'firebrick')\n",
    "plt.yticks(fontsize=20)\n",
    "plt.xticks(fontsize=20)\n",
    "plt.xlabel('SVD Value', fontsize=30)\n",
    "# plt.ylabel('Feature', fontsize=30)\n",
    "plt.title(f'Top Words Associated Component_30', fontsize=40)\n",
    "plt.tight_layout()\n",
    "\n",
    "# Saving the image\n",
    "# plt.savefig('../images/svd_comp30.png')\n",
    ";"
   ]
  },
  {
   "cell_type": "code",
   "execution_count": 193,
   "metadata": {},
   "outputs": [],
   "source": [
    "comp8 = loadings.sort_values('abs_component_8',ascending=False)['component_8'].head(10)\n",
    "labels_com8 = comp8.index"
   ]
  },
  {
   "cell_type": "code",
   "execution_count": 195,
   "metadata": {},
   "outputs": [
    {
     "data": {
      "text/plain": [
       "''"
      ]
     },
     "execution_count": 195,
     "metadata": {},
     "output_type": "execute_result"
    },
    {
     "data": {
      "image/png": "[encoded data removed]",
      "text/plain": [
       "<Figure size 1440x720 with 1 Axes>"
      ]
     },
     "metadata": {
      "needs_background": "light"
     },
     "output_type": "display_data"
    }
   ],
   "source": [
    "plt.figure(figsize=(20,10))\n",
    "plt.barh(labels_com8, comp8, color= 'firebrick')\n",
    "plt.yticks(fontsize=20)\n",
    "plt.xticks(fontsize=20)\n",
    "plt.xlabel('SVD Value', fontsize=30)\n",
    "# plt.ylabel('Feature', fontsize=30)\n",
    "plt.title(f'Top Words Associated Component_8', fontsize=40)\n",
    "plt.tight_layout()\n",
    "\n",
    "# Saving the image\n",
    "# plt.savefig('../images/svd_comp8.png')\n",
    ";"
   ]
  },
  {
   "cell_type": "code",
   "execution_count": null,
   "metadata": {},
   "outputs": [],
   "source": []
  }
 ],
 "metadata": {
  "kernelspec": {
   "display_name": "Python 3",
   "language": "python",
   "name": "python3"
  },
  "language_info": {
   "codemirror_mode": {
    "name": "ipython",
    "version": 3
   },
   "file_extension": ".py",
   "mimetype": "text/x-python",
   "name": "python",
   "nbconvert_exporter": "python",
   "pygments_lexer": "ipython3",
   "version": "3.7.1"
  }
 },
 "nbformat": 4,
 "nbformat_minor": 2
}
