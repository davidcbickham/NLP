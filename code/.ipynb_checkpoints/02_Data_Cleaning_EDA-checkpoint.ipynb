{
 "cells": [
  {
   "cell_type": "markdown",
   "metadata": {},
   "source": [
    "# Data Cleaning and EDA"
   ]
  },
  {
   "cell_type": "markdown",
   "metadata": {},
   "source": [
    "## Importing Libraries"
   ]
  },
  {
   "cell_type": "code",
   "execution_count": 3,
   "metadata": {},
   "outputs": [],
   "source": [
    "import pandas as pd\n",
    "import json\n",
    "import numpy as np\n",
    "from sklearn.feature_extraction.text import TfidfVectorizer\n",
    "from sklearn.feature_extraction.text import CountVectorizer\n",
    "import matplotlib.pyplot as plt\n",
    "import seaborn as sns\n",
    "\n",
    "from nltk.stem import WordNetLemmatizer\n",
    "\n",
    "%matplotlib inline"
   ]
  },
  {
   "cell_type": "markdown",
   "metadata": {},
   "source": [
    "## Loading Data"
   ]
  },
  {
   "cell_type": "code",
   "execution_count": 4,
   "metadata": {},
   "outputs": [
    {
     "data": {
      "text/html": [
       "<div>\n",
       "<style scoped>\n",
       "    .dataframe tbody tr th:only-of-type {\n",
       "        vertical-align: middle;\n",
       "    }\n",
       "\n",
       "    .dataframe tbody tr th {\n",
       "        vertical-align: top;\n",
       "    }\n",
       "\n",
       "    .dataframe thead th {\n",
       "        text-align: right;\n",
       "    }\n",
       "</style>\n",
       "<table border=\"1\" class=\"dataframe\">\n",
       "  <thead>\n",
       "    <tr style=\"text-align: right;\">\n",
       "      <th></th>\n",
       "      <th>author</th>\n",
       "      <th>author_fullname</th>\n",
       "      <th>subreddit</th>\n",
       "      <th>id</th>\n",
       "      <th>created_utc</th>\n",
       "      <th>retrieved_on</th>\n",
       "      <th>permalink</th>\n",
       "      <th>url</th>\n",
       "      <th>num_comments</th>\n",
       "      <th>title</th>\n",
       "      <th>selftext</th>\n",
       "    </tr>\n",
       "  </thead>\n",
       "  <tbody>\n",
       "    <tr>\n",
       "      <th>0</th>\n",
       "      <td>89throwawayX</td>\n",
       "      <td>t2_3insi9we</td>\n",
       "      <td>depression</td>\n",
       "      <td>b7vft8</td>\n",
       "      <td>1554081373</td>\n",
       "      <td>1554081375</td>\n",
       "      <td>/r/depression/comments/b7vft8/i_will_have_to_c...</td>\n",
       "      <td>https://www.reddit.com/r/depression/comments/b...</td>\n",
       "      <td>0</td>\n",
       "      <td>I will have to cut ties w/ my family and it hu...</td>\n",
       "      <td>[removed]</td>\n",
       "    </tr>\n",
       "    <tr>\n",
       "      <th>1</th>\n",
       "      <td>gothic_reality</td>\n",
       "      <td>t2_39c20e2f</td>\n",
       "      <td>depression</td>\n",
       "      <td>b7vfje</td>\n",
       "      <td>1554081327</td>\n",
       "      <td>1554081328</td>\n",
       "      <td>/r/depression/comments/b7vfje/how_do_i_explain...</td>\n",
       "      <td>https://www.reddit.com/r/depression/comments/b...</td>\n",
       "      <td>0</td>\n",
       "      <td>How do i explain to my mom that liking dark st...</td>\n",
       "      <td>I love my mom, but sometimes she overreacts to...</td>\n",
       "    </tr>\n",
       "  </tbody>\n",
       "</table>\n",
       "</div>"
      ],
      "text/plain": [
       "           author author_fullname   subreddit      id  created_utc  \\\n",
       "0    89throwawayX     t2_3insi9we  depression  b7vft8   1554081373   \n",
       "1  gothic_reality     t2_39c20e2f  depression  b7vfje   1554081327   \n",
       "\n",
       "   retrieved_on                                          permalink  \\\n",
       "0    1554081375  /r/depression/comments/b7vft8/i_will_have_to_c...   \n",
       "1    1554081328  /r/depression/comments/b7vfje/how_do_i_explain...   \n",
       "\n",
       "                                                 url  num_comments  \\\n",
       "0  https://www.reddit.com/r/depression/comments/b...             0   \n",
       "1  https://www.reddit.com/r/depression/comments/b...             0   \n",
       "\n",
       "                                               title  \\\n",
       "0  I will have to cut ties w/ my family and it hu...   \n",
       "1  How do i explain to my mom that liking dark st...   \n",
       "\n",
       "                                            selftext  \n",
       "0                                          [removed]  \n",
       "1  I love my mom, but sometimes she overreacts to...  "
      ]
     },
     "execution_count": 4,
     "metadata": {},
     "output_type": "execute_result"
    }
   ],
   "source": [
    "df_depression = pd.read_csv('../data/df_depression.csv',index_col='Unnamed: 0')\n",
    "df_depression.head(2)"
   ]
  },
  {
   "cell_type": "code",
   "execution_count": 5,
   "metadata": {},
   "outputs": [
    {
     "data": {
      "text/html": [
       "<div>\n",
       "<style scoped>\n",
       "    .dataframe tbody tr th:only-of-type {\n",
       "        vertical-align: middle;\n",
       "    }\n",
       "\n",
       "    .dataframe tbody tr th {\n",
       "        vertical-align: top;\n",
       "    }\n",
       "\n",
       "    .dataframe thead th {\n",
       "        text-align: right;\n",
       "    }\n",
       "</style>\n",
       "<table border=\"1\" class=\"dataframe\">\n",
       "  <thead>\n",
       "    <tr style=\"text-align: right;\">\n",
       "      <th></th>\n",
       "      <th>author</th>\n",
       "      <th>author_fullname</th>\n",
       "      <th>subreddit</th>\n",
       "      <th>id</th>\n",
       "      <th>created_utc</th>\n",
       "      <th>retrieved_on</th>\n",
       "      <th>permalink</th>\n",
       "      <th>url</th>\n",
       "      <th>num_comments</th>\n",
       "      <th>title</th>\n",
       "      <th>selftext</th>\n",
       "    </tr>\n",
       "  </thead>\n",
       "  <tbody>\n",
       "    <tr>\n",
       "      <th>0</th>\n",
       "      <td>graciegrinch</td>\n",
       "      <td>t2_236k8jvz</td>\n",
       "      <td>SuicideWatch</td>\n",
       "      <td>b7vi8w</td>\n",
       "      <td>1554081775</td>\n",
       "      <td>1554081777</td>\n",
       "      <td>/r/SuicideWatch/comments/b7vi8w/i_have_a_plan/</td>\n",
       "      <td>https://www.reddit.com/r/SuicideWatch/comments...</td>\n",
       "      <td>1</td>\n",
       "      <td>i have a plan</td>\n",
       "      <td>idk. i don’t want to do this anymore</td>\n",
       "    </tr>\n",
       "    <tr>\n",
       "      <th>1</th>\n",
       "      <td>hungryyyfordeathv2</td>\n",
       "      <td>t2_3ik6dp65</td>\n",
       "      <td>SuicideWatch</td>\n",
       "      <td>b7vhu2</td>\n",
       "      <td>1554081705</td>\n",
       "      <td>1554081707</td>\n",
       "      <td>/r/SuicideWatch/comments/b7vhu2/oof_an_update/</td>\n",
       "      <td>https://www.reddit.com/r/SuicideWatch/comments...</td>\n",
       "      <td>0</td>\n",
       "      <td>oof: an update</td>\n",
       "      <td>so, it was day three of VSED but my parents fo...</td>\n",
       "    </tr>\n",
       "  </tbody>\n",
       "</table>\n",
       "</div>"
      ],
      "text/plain": [
       "               author author_fullname     subreddit      id  created_utc  \\\n",
       "0        graciegrinch     t2_236k8jvz  SuicideWatch  b7vi8w   1554081775   \n",
       "1  hungryyyfordeathv2     t2_3ik6dp65  SuicideWatch  b7vhu2   1554081705   \n",
       "\n",
       "   retrieved_on                                       permalink  \\\n",
       "0    1554081777  /r/SuicideWatch/comments/b7vi8w/i_have_a_plan/   \n",
       "1    1554081707  /r/SuicideWatch/comments/b7vhu2/oof_an_update/   \n",
       "\n",
       "                                                 url  num_comments  \\\n",
       "0  https://www.reddit.com/r/SuicideWatch/comments...             1   \n",
       "1  https://www.reddit.com/r/SuicideWatch/comments...             0   \n",
       "\n",
       "            title                                           selftext  \n",
       "0   i have a plan               idk. i don’t want to do this anymore  \n",
       "1  oof: an update  so, it was day three of VSED but my parents fo...  "
      ]
     },
     "execution_count": 5,
     "metadata": {},
     "output_type": "execute_result"
    }
   ],
   "source": [
    "df_suicidewatch = pd.read_csv('../data/df_suicidewatch.csv', index_col= 'Unnamed: 0')\n",
    "df_suicidewatch.head(2)"
   ]
  },
  {
   "cell_type": "markdown",
   "metadata": {},
   "source": [
    "## Create Y Variable (Used for Classification)"
   ]
  },
  {
   "cell_type": "markdown",
   "metadata": {},
   "source": [
    "We'll prepare the subreddit field for modeling by binarizing it. Depression subreddit will map to one, while the suicidewatch subreddit will map to 1. We'll later combine the dataframes."
   ]
  },
  {
   "cell_type": "code",
   "execution_count": 6,
   "metadata": {},
   "outputs": [],
   "source": [
    "df_depression['subreddit'] = df_depression['subreddit'].map({'depression': 0})\n",
    "df_suicidewatch['subreddit'] = df_suicidewatch['subreddit'].map({'SuicideWatch': 1})"
   ]
  },
  {
   "cell_type": "code",
   "execution_count": 7,
   "metadata": {},
   "outputs": [
    {
     "data": {
      "text/html": [
       "<div>\n",
       "<style scoped>\n",
       "    .dataframe tbody tr th:only-of-type {\n",
       "        vertical-align: middle;\n",
       "    }\n",
       "\n",
       "    .dataframe tbody tr th {\n",
       "        vertical-align: top;\n",
       "    }\n",
       "\n",
       "    .dataframe thead th {\n",
       "        text-align: right;\n",
       "    }\n",
       "</style>\n",
       "<table border=\"1\" class=\"dataframe\">\n",
       "  <thead>\n",
       "    <tr style=\"text-align: right;\">\n",
       "      <th></th>\n",
       "      <th>author</th>\n",
       "      <th>author_fullname</th>\n",
       "      <th>subreddit</th>\n",
       "      <th>id</th>\n",
       "      <th>created_utc</th>\n",
       "      <th>retrieved_on</th>\n",
       "      <th>permalink</th>\n",
       "      <th>url</th>\n",
       "      <th>num_comments</th>\n",
       "      <th>title</th>\n",
       "      <th>selftext</th>\n",
       "    </tr>\n",
       "  </thead>\n",
       "  <tbody>\n",
       "    <tr>\n",
       "      <th>0</th>\n",
       "      <td>89throwawayX</td>\n",
       "      <td>t2_3insi9we</td>\n",
       "      <td>0</td>\n",
       "      <td>b7vft8</td>\n",
       "      <td>1554081373</td>\n",
       "      <td>1554081375</td>\n",
       "      <td>/r/depression/comments/b7vft8/i_will_have_to_c...</td>\n",
       "      <td>https://www.reddit.com/r/depression/comments/b...</td>\n",
       "      <td>0</td>\n",
       "      <td>I will have to cut ties w/ my family and it hu...</td>\n",
       "      <td>[removed]</td>\n",
       "    </tr>\n",
       "    <tr>\n",
       "      <th>1</th>\n",
       "      <td>gothic_reality</td>\n",
       "      <td>t2_39c20e2f</td>\n",
       "      <td>0</td>\n",
       "      <td>b7vfje</td>\n",
       "      <td>1554081327</td>\n",
       "      <td>1554081328</td>\n",
       "      <td>/r/depression/comments/b7vfje/how_do_i_explain...</td>\n",
       "      <td>https://www.reddit.com/r/depression/comments/b...</td>\n",
       "      <td>0</td>\n",
       "      <td>How do i explain to my mom that liking dark st...</td>\n",
       "      <td>I love my mom, but sometimes she overreacts to...</td>\n",
       "    </tr>\n",
       "  </tbody>\n",
       "</table>\n",
       "</div>"
      ],
      "text/plain": [
       "           author author_fullname  subreddit      id  created_utc  \\\n",
       "0    89throwawayX     t2_3insi9we          0  b7vft8   1554081373   \n",
       "1  gothic_reality     t2_39c20e2f          0  b7vfje   1554081327   \n",
       "\n",
       "   retrieved_on                                          permalink  \\\n",
       "0    1554081375  /r/depression/comments/b7vft8/i_will_have_to_c...   \n",
       "1    1554081328  /r/depression/comments/b7vfje/how_do_i_explain...   \n",
       "\n",
       "                                                 url  num_comments  \\\n",
       "0  https://www.reddit.com/r/depression/comments/b...             0   \n",
       "1  https://www.reddit.com/r/depression/comments/b...             0   \n",
       "\n",
       "                                               title  \\\n",
       "0  I will have to cut ties w/ my family and it hu...   \n",
       "1  How do i explain to my mom that liking dark st...   \n",
       "\n",
       "                                            selftext  \n",
       "0                                          [removed]  \n",
       "1  I love my mom, but sometimes she overreacts to...  "
      ]
     },
     "execution_count": 7,
     "metadata": {},
     "output_type": "execute_result"
    }
   ],
   "source": [
    "df_depression.head(2)"
   ]
  },
  {
   "cell_type": "code",
   "execution_count": 8,
   "metadata": {},
   "outputs": [
    {
     "data": {
      "text/html": [
       "<div>\n",
       "<style scoped>\n",
       "    .dataframe tbody tr th:only-of-type {\n",
       "        vertical-align: middle;\n",
       "    }\n",
       "\n",
       "    .dataframe tbody tr th {\n",
       "        vertical-align: top;\n",
       "    }\n",
       "\n",
       "    .dataframe thead th {\n",
       "        text-align: right;\n",
       "    }\n",
       "</style>\n",
       "<table border=\"1\" class=\"dataframe\">\n",
       "  <thead>\n",
       "    <tr style=\"text-align: right;\">\n",
       "      <th></th>\n",
       "      <th>author</th>\n",
       "      <th>author_fullname</th>\n",
       "      <th>subreddit</th>\n",
       "      <th>id</th>\n",
       "      <th>created_utc</th>\n",
       "      <th>retrieved_on</th>\n",
       "      <th>permalink</th>\n",
       "      <th>url</th>\n",
       "      <th>num_comments</th>\n",
       "      <th>title</th>\n",
       "      <th>selftext</th>\n",
       "    </tr>\n",
       "  </thead>\n",
       "  <tbody>\n",
       "    <tr>\n",
       "      <th>0</th>\n",
       "      <td>graciegrinch</td>\n",
       "      <td>t2_236k8jvz</td>\n",
       "      <td>1</td>\n",
       "      <td>b7vi8w</td>\n",
       "      <td>1554081775</td>\n",
       "      <td>1554081777</td>\n",
       "      <td>/r/SuicideWatch/comments/b7vi8w/i_have_a_plan/</td>\n",
       "      <td>https://www.reddit.com/r/SuicideWatch/comments...</td>\n",
       "      <td>1</td>\n",
       "      <td>i have a plan</td>\n",
       "      <td>idk. i don’t want to do this anymore</td>\n",
       "    </tr>\n",
       "    <tr>\n",
       "      <th>1</th>\n",
       "      <td>hungryyyfordeathv2</td>\n",
       "      <td>t2_3ik6dp65</td>\n",
       "      <td>1</td>\n",
       "      <td>b7vhu2</td>\n",
       "      <td>1554081705</td>\n",
       "      <td>1554081707</td>\n",
       "      <td>/r/SuicideWatch/comments/b7vhu2/oof_an_update/</td>\n",
       "      <td>https://www.reddit.com/r/SuicideWatch/comments...</td>\n",
       "      <td>0</td>\n",
       "      <td>oof: an update</td>\n",
       "      <td>so, it was day three of VSED but my parents fo...</td>\n",
       "    </tr>\n",
       "  </tbody>\n",
       "</table>\n",
       "</div>"
      ],
      "text/plain": [
       "               author author_fullname  subreddit      id  created_utc  \\\n",
       "0        graciegrinch     t2_236k8jvz          1  b7vi8w   1554081775   \n",
       "1  hungryyyfordeathv2     t2_3ik6dp65          1  b7vhu2   1554081705   \n",
       "\n",
       "   retrieved_on                                       permalink  \\\n",
       "0    1554081777  /r/SuicideWatch/comments/b7vi8w/i_have_a_plan/   \n",
       "1    1554081707  /r/SuicideWatch/comments/b7vhu2/oof_an_update/   \n",
       "\n",
       "                                                 url  num_comments  \\\n",
       "0  https://www.reddit.com/r/SuicideWatch/comments...             1   \n",
       "1  https://www.reddit.com/r/SuicideWatch/comments...             0   \n",
       "\n",
       "            title                                           selftext  \n",
       "0   i have a plan               idk. i don’t want to do this anymore  \n",
       "1  oof: an update  so, it was day three of VSED but my parents fo...  "
      ]
     },
     "execution_count": 8,
     "metadata": {},
     "output_type": "execute_result"
    }
   ],
   "source": [
    "df_suicidewatch.head(2)"
   ]
  },
  {
   "cell_type": "markdown",
   "metadata": {},
   "source": [
    "## Rename Subreddit Column"
   ]
  },
  {
   "cell_type": "markdown",
   "metadata": {},
   "source": [
    "We'll rename the subreddit field so it's clear a '1' corresponds to a suicidewatch submission"
   ]
  },
  {
   "cell_type": "code",
   "execution_count": 9,
   "metadata": {},
   "outputs": [],
   "source": [
    "df_depression.rename({'subreddit': 'subreddit_suicidewatch'},axis=1, inplace=True)\n",
    "df_suicidewatch.rename({'subreddit': 'subreddit_suicidewatch'},axis=1, inplace=True)"
   ]
  },
  {
   "cell_type": "markdown",
   "metadata": {},
   "source": [
    "## Checking Data Types"
   ]
  },
  {
   "cell_type": "code",
   "execution_count": 10,
   "metadata": {},
   "outputs": [
    {
     "data": {
      "text/plain": [
       "author                    object\n",
       "author_fullname           object\n",
       "subreddit_suicidewatch     int64\n",
       "id                        object\n",
       "created_utc                int64\n",
       "retrieved_on               int64\n",
       "permalink                 object\n",
       "url                       object\n",
       "num_comments               int64\n",
       "title                     object\n",
       "selftext                  object\n",
       "dtype: object"
      ]
     },
     "execution_count": 10,
     "metadata": {},
     "output_type": "execute_result"
    }
   ],
   "source": [
    "df_depression.dtypes"
   ]
  },
  {
   "cell_type": "code",
   "execution_count": 11,
   "metadata": {},
   "outputs": [
    {
     "data": {
      "text/plain": [
       "author                    object\n",
       "author_fullname           object\n",
       "subreddit_suicidewatch     int64\n",
       "id                        object\n",
       "created_utc                int64\n",
       "retrieved_on               int64\n",
       "permalink                 object\n",
       "url                       object\n",
       "num_comments               int64\n",
       "title                     object\n",
       "selftext                  object\n",
       "dtype: object"
      ]
     },
     "execution_count": 11,
     "metadata": {},
     "output_type": "execute_result"
    }
   ],
   "source": [
    "df_suicidewatch.dtypes"
   ]
  },
  {
   "cell_type": "markdown",
   "metadata": {},
   "source": [
    "The data types in each dataframe are accurate and consistent"
   ]
  },
  {
   "cell_type": "markdown",
   "metadata": {},
   "source": [
    "## Checking for Null Values"
   ]
  },
  {
   "cell_type": "code",
   "execution_count": 12,
   "metadata": {},
   "outputs": [
    {
     "data": {
      "text/plain": [
       "selftext                  104\n",
       "author_fullname             3\n",
       "title                       0\n",
       "num_comments                0\n",
       "url                         0\n",
       "permalink                   0\n",
       "retrieved_on                0\n",
       "created_utc                 0\n",
       "id                          0\n",
       "subreddit_suicidewatch      0\n",
       "author                      0\n",
       "dtype: int64"
      ]
     },
     "execution_count": 12,
     "metadata": {},
     "output_type": "execute_result"
    }
   ],
   "source": [
    "df_depression.isnull().sum().sort_values(ascending=False)"
   ]
  },
  {
   "cell_type": "markdown",
   "metadata": {},
   "source": [
    "We see 104 responses have no selftext (~1% of all obs). This is an acceptable number to drop from the df"
   ]
  },
  {
   "cell_type": "code",
   "execution_count": 13,
   "metadata": {},
   "outputs": [
    {
     "data": {
      "text/plain": [
       "selftext                  552\n",
       "author_fullname             5\n",
       "title                       0\n",
       "num_comments                0\n",
       "url                         0\n",
       "permalink                   0\n",
       "retrieved_on                0\n",
       "created_utc                 0\n",
       "id                          0\n",
       "subreddit_suicidewatch      0\n",
       "author                      0\n",
       "dtype: int64"
      ]
     },
     "execution_count": 13,
     "metadata": {},
     "output_type": "execute_result"
    }
   ],
   "source": [
    "df_suicidewatch.isnull().sum().sort_values(ascending=False)"
   ]
  },
  {
   "cell_type": "markdown",
   "metadata": {},
   "source": [
    "We see 552 responses have no selftext (~6% of all obs). While higher than the depression, this is an acceptable number to drop give our 10,000 observations"
   ]
  },
  {
   "cell_type": "markdown",
   "metadata": {},
   "source": [
    "Dropping null values"
   ]
  },
  {
   "cell_type": "code",
   "execution_count": 14,
   "metadata": {},
   "outputs": [],
   "source": [
    "df_depression.dropna(inplace = True)\n",
    "df_suicidewatch.dropna(inplace = True)"
   ]
  },
  {
   "cell_type": "markdown",
   "metadata": {},
   "source": [
    "Confirming null values have been dropped"
   ]
  },
  {
   "cell_type": "code",
   "execution_count": 15,
   "metadata": {},
   "outputs": [
    {
     "data": {
      "text/plain": [
       "0"
      ]
     },
     "execution_count": 15,
     "metadata": {},
     "output_type": "execute_result"
    }
   ],
   "source": [
    "df_depression.isnull().sum().sum()"
   ]
  },
  {
   "cell_type": "code",
   "execution_count": 16,
   "metadata": {},
   "outputs": [
    {
     "data": {
      "text/plain": [
       "0"
      ]
     },
     "execution_count": 16,
     "metadata": {},
     "output_type": "execute_result"
    }
   ],
   "source": [
    "df_suicidewatch.isnull().sum().sum()"
   ]
  },
  {
   "cell_type": "markdown",
   "metadata": {},
   "source": [
    "Checking Remaining Rows in each df"
   ]
  },
  {
   "cell_type": "code",
   "execution_count": 17,
   "metadata": {},
   "outputs": [
    {
     "data": {
      "text/plain": [
       "(9894, 11)"
      ]
     },
     "execution_count": 17,
     "metadata": {},
     "output_type": "execute_result"
    }
   ],
   "source": [
    "df_depression.shape"
   ]
  },
  {
   "cell_type": "code",
   "execution_count": 18,
   "metadata": {},
   "outputs": [
    {
     "data": {
      "text/plain": [
       "(9443, 11)"
      ]
     },
     "execution_count": 18,
     "metadata": {},
     "output_type": "execute_result"
    }
   ],
   "source": [
    "df_suicidewatch.shape"
   ]
  },
  {
   "cell_type": "markdown",
   "metadata": {},
   "source": [
    "## Checking Unique Identifiers"
   ]
  },
  {
   "cell_type": "markdown",
   "metadata": {},
   "source": [
    "Checking the number of unique authors in each df"
   ]
  },
  {
   "cell_type": "code",
   "execution_count": 19,
   "metadata": {},
   "outputs": [
    {
     "data": {
      "text/plain": [
       "7700"
      ]
     },
     "execution_count": 19,
     "metadata": {},
     "output_type": "execute_result"
    }
   ],
   "source": [
    "df_depression.author_fullname.nunique()"
   ]
  },
  {
   "cell_type": "code",
   "execution_count": 20,
   "metadata": {},
   "outputs": [
    {
     "data": {
      "text/plain": [
       "6950"
      ]
     },
     "execution_count": 20,
     "metadata": {},
     "output_type": "execute_result"
    }
   ],
   "source": [
    "df_suicidewatch.author_fullname.nunique()"
   ]
  },
  {
   "cell_type": "markdown",
   "metadata": {},
   "source": [
    "Authors avg. ~1.3 posts per person"
   ]
  },
  {
   "cell_type": "code",
   "execution_count": 21,
   "metadata": {},
   "outputs": [
    {
     "data": {
      "text/plain": [
       "9894"
      ]
     },
     "execution_count": 21,
     "metadata": {},
     "output_type": "execute_result"
    }
   ],
   "source": [
    "df_depression.id.nunique()"
   ]
  },
  {
   "cell_type": "code",
   "execution_count": 22,
   "metadata": {},
   "outputs": [
    {
     "data": {
      "text/plain": [
       "9443"
      ]
     },
     "execution_count": 22,
     "metadata": {},
     "output_type": "execute_result"
    }
   ],
   "source": [
    "df_suicidewatch.id.nunique()"
   ]
  },
  {
   "cell_type": "markdown",
   "metadata": {},
   "source": [
    "The id is the unique id for each submission"
   ]
  },
  {
   "cell_type": "markdown",
   "metadata": {},
   "source": [
    "### Calculating Character Count for Submissions"
   ]
  },
  {
   "cell_type": "code",
   "execution_count": 23,
   "metadata": {},
   "outputs": [],
   "source": [
    "df_depression['selftext_char_cnt'] = df_depression['selftext'].map(lambda x: len(x))\n",
    "df_suicidewatch['selftext_char_cnt'] = df_suicidewatch['selftext'].map(lambda x: len(x))"
   ]
  },
  {
   "cell_type": "code",
   "execution_count": 24,
   "metadata": {},
   "outputs": [
    {
     "data": {
      "text/html": [
       "<div>\n",
       "<style scoped>\n",
       "    .dataframe tbody tr th:only-of-type {\n",
       "        vertical-align: middle;\n",
       "    }\n",
       "\n",
       "    .dataframe tbody tr th {\n",
       "        vertical-align: top;\n",
       "    }\n",
       "\n",
       "    .dataframe thead th {\n",
       "        text-align: right;\n",
       "    }\n",
       "</style>\n",
       "<table border=\"1\" class=\"dataframe\">\n",
       "  <thead>\n",
       "    <tr style=\"text-align: right;\">\n",
       "      <th></th>\n",
       "      <th>author</th>\n",
       "      <th>author_fullname</th>\n",
       "      <th>subreddit_suicidewatch</th>\n",
       "      <th>id</th>\n",
       "      <th>created_utc</th>\n",
       "      <th>retrieved_on</th>\n",
       "      <th>permalink</th>\n",
       "      <th>url</th>\n",
       "      <th>num_comments</th>\n",
       "      <th>title</th>\n",
       "      <th>selftext</th>\n",
       "      <th>selftext_char_cnt</th>\n",
       "    </tr>\n",
       "  </thead>\n",
       "  <tbody>\n",
       "    <tr>\n",
       "      <th>0</th>\n",
       "      <td>89throwawayX</td>\n",
       "      <td>t2_3insi9we</td>\n",
       "      <td>0</td>\n",
       "      <td>b7vft8</td>\n",
       "      <td>1554081373</td>\n",
       "      <td>1554081375</td>\n",
       "      <td>/r/depression/comments/b7vft8/i_will_have_to_c...</td>\n",
       "      <td>https://www.reddit.com/r/depression/comments/b...</td>\n",
       "      <td>0</td>\n",
       "      <td>I will have to cut ties w/ my family and it hu...</td>\n",
       "      <td>[removed]</td>\n",
       "      <td>9</td>\n",
       "    </tr>\n",
       "    <tr>\n",
       "      <th>1</th>\n",
       "      <td>gothic_reality</td>\n",
       "      <td>t2_39c20e2f</td>\n",
       "      <td>0</td>\n",
       "      <td>b7vfje</td>\n",
       "      <td>1554081327</td>\n",
       "      <td>1554081328</td>\n",
       "      <td>/r/depression/comments/b7vfje/how_do_i_explain...</td>\n",
       "      <td>https://www.reddit.com/r/depression/comments/b...</td>\n",
       "      <td>0</td>\n",
       "      <td>How do i explain to my mom that liking dark st...</td>\n",
       "      <td>I love my mom, but sometimes she overreacts to...</td>\n",
       "      <td>391</td>\n",
       "    </tr>\n",
       "  </tbody>\n",
       "</table>\n",
       "</div>"
      ],
      "text/plain": [
       "           author author_fullname  subreddit_suicidewatch      id  \\\n",
       "0    89throwawayX     t2_3insi9we                       0  b7vft8   \n",
       "1  gothic_reality     t2_39c20e2f                       0  b7vfje   \n",
       "\n",
       "   created_utc  retrieved_on  \\\n",
       "0   1554081373    1554081375   \n",
       "1   1554081327    1554081328   \n",
       "\n",
       "                                           permalink  \\\n",
       "0  /r/depression/comments/b7vft8/i_will_have_to_c...   \n",
       "1  /r/depression/comments/b7vfje/how_do_i_explain...   \n",
       "\n",
       "                                                 url  num_comments  \\\n",
       "0  https://www.reddit.com/r/depression/comments/b...             0   \n",
       "1  https://www.reddit.com/r/depression/comments/b...             0   \n",
       "\n",
       "                                               title  \\\n",
       "0  I will have to cut ties w/ my family and it hu...   \n",
       "1  How do i explain to my mom that liking dark st...   \n",
       "\n",
       "                                            selftext  selftext_char_cnt  \n",
       "0                                          [removed]                  9  \n",
       "1  I love my mom, but sometimes she overreacts to...                391  "
      ]
     },
     "execution_count": 24,
     "metadata": {},
     "output_type": "execute_result"
    }
   ],
   "source": [
    "df_depression.head(2)"
   ]
  },
  {
   "cell_type": "markdown",
   "metadata": {},
   "source": [
    "### Calculating Word Count for Submissions"
   ]
  },
  {
   "cell_type": "code",
   "execution_count": 25,
   "metadata": {},
   "outputs": [],
   "source": [
    "df_depression['selftext_word_count'] = df_depression.selftext.map(lambda x: len(x.split()))\n",
    "df_suicidewatch['selftext_word_count'] = df_suicidewatch.selftext.map(lambda x: len(x.split()))"
   ]
  },
  {
   "cell_type": "code",
   "execution_count": 26,
   "metadata": {},
   "outputs": [
    {
     "data": {
      "text/html": [
       "<div>\n",
       "<style scoped>\n",
       "    .dataframe tbody tr th:only-of-type {\n",
       "        vertical-align: middle;\n",
       "    }\n",
       "\n",
       "    .dataframe tbody tr th {\n",
       "        vertical-align: top;\n",
       "    }\n",
       "\n",
       "    .dataframe thead th {\n",
       "        text-align: right;\n",
       "    }\n",
       "</style>\n",
       "<table border=\"1\" class=\"dataframe\">\n",
       "  <thead>\n",
       "    <tr style=\"text-align: right;\">\n",
       "      <th></th>\n",
       "      <th>author</th>\n",
       "      <th>author_fullname</th>\n",
       "      <th>subreddit_suicidewatch</th>\n",
       "      <th>id</th>\n",
       "      <th>created_utc</th>\n",
       "      <th>retrieved_on</th>\n",
       "      <th>permalink</th>\n",
       "      <th>url</th>\n",
       "      <th>num_comments</th>\n",
       "      <th>title</th>\n",
       "      <th>selftext</th>\n",
       "      <th>selftext_char_cnt</th>\n",
       "      <th>selftext_word_count</th>\n",
       "    </tr>\n",
       "  </thead>\n",
       "  <tbody>\n",
       "    <tr>\n",
       "      <th>0</th>\n",
       "      <td>89throwawayX</td>\n",
       "      <td>t2_3insi9we</td>\n",
       "      <td>0</td>\n",
       "      <td>b7vft8</td>\n",
       "      <td>1554081373</td>\n",
       "      <td>1554081375</td>\n",
       "      <td>/r/depression/comments/b7vft8/i_will_have_to_c...</td>\n",
       "      <td>https://www.reddit.com/r/depression/comments/b...</td>\n",
       "      <td>0</td>\n",
       "      <td>I will have to cut ties w/ my family and it hu...</td>\n",
       "      <td>[removed]</td>\n",
       "      <td>9</td>\n",
       "      <td>1</td>\n",
       "    </tr>\n",
       "    <tr>\n",
       "      <th>1</th>\n",
       "      <td>gothic_reality</td>\n",
       "      <td>t2_39c20e2f</td>\n",
       "      <td>0</td>\n",
       "      <td>b7vfje</td>\n",
       "      <td>1554081327</td>\n",
       "      <td>1554081328</td>\n",
       "      <td>/r/depression/comments/b7vfje/how_do_i_explain...</td>\n",
       "      <td>https://www.reddit.com/r/depression/comments/b...</td>\n",
       "      <td>0</td>\n",
       "      <td>How do i explain to my mom that liking dark st...</td>\n",
       "      <td>I love my mom, but sometimes she overreacts to...</td>\n",
       "      <td>391</td>\n",
       "      <td>80</td>\n",
       "    </tr>\n",
       "  </tbody>\n",
       "</table>\n",
       "</div>"
      ],
      "text/plain": [
       "           author author_fullname  subreddit_suicidewatch      id  \\\n",
       "0    89throwawayX     t2_3insi9we                       0  b7vft8   \n",
       "1  gothic_reality     t2_39c20e2f                       0  b7vfje   \n",
       "\n",
       "   created_utc  retrieved_on  \\\n",
       "0   1554081373    1554081375   \n",
       "1   1554081327    1554081328   \n",
       "\n",
       "                                           permalink  \\\n",
       "0  /r/depression/comments/b7vft8/i_will_have_to_c...   \n",
       "1  /r/depression/comments/b7vfje/how_do_i_explain...   \n",
       "\n",
       "                                                 url  num_comments  \\\n",
       "0  https://www.reddit.com/r/depression/comments/b...             0   \n",
       "1  https://www.reddit.com/r/depression/comments/b...             0   \n",
       "\n",
       "                                               title  \\\n",
       "0  I will have to cut ties w/ my family and it hu...   \n",
       "1  How do i explain to my mom that liking dark st...   \n",
       "\n",
       "                                            selftext  selftext_char_cnt  \\\n",
       "0                                          [removed]                  9   \n",
       "1  I love my mom, but sometimes she overreacts to...                391   \n",
       "\n",
       "   selftext_word_count  \n",
       "0                    1  \n",
       "1                   80  "
      ]
     },
     "execution_count": 26,
     "metadata": {},
     "output_type": "execute_result"
    }
   ],
   "source": [
    "df_depression.head(2)"
   ]
  },
  {
   "cell_type": "markdown",
   "metadata": {},
   "source": [
    "## Remove Single Word Submissions"
   ]
  },
  {
   "cell_type": "markdown",
   "metadata": {},
   "source": [
    "Let's take a look at the single word submissions in each df. This would include the submissions with '[removed]' like above"
   ]
  },
  {
   "cell_type": "code",
   "execution_count": 27,
   "metadata": {},
   "outputs": [
    {
     "data": {
      "text/plain": [
       "(859, 13)"
      ]
     },
     "execution_count": 27,
     "metadata": {},
     "output_type": "execute_result"
    }
   ],
   "source": [
    "df_depression[df_depression.selftext_word_count <= 1].shape"
   ]
  },
  {
   "cell_type": "code",
   "execution_count": 28,
   "metadata": {},
   "outputs": [
    {
     "data": {
      "text/plain": [
       "(376, 13)"
      ]
     },
     "execution_count": 28,
     "metadata": {},
     "output_type": "execute_result"
    }
   ],
   "source": [
    "df_suicidewatch[df_suicidewatch.selftext_word_count <= 1].shape"
   ]
  },
  {
   "cell_type": "markdown",
   "metadata": {},
   "source": [
    "We can see that there are 859 occurrences in depression and 376 in suicidewatch. Let's get a look at the unique values"
   ]
  },
  {
   "cell_type": "code",
   "execution_count": 29,
   "metadata": {},
   "outputs": [
    {
     "data": {
      "text/plain": [
       "[removed]                                                                                                                                                                                                                                837\n",
       "Yeah....                                                                                                                                                                                                                                   1\n",
       "https://www.smithsonianmag.com/science-nature/scientists-find-possible-link-between-gut-bacteria-and-depression-180971411/                                                                                                                 1\n",
       "https://zenhabits.net/unwanted/ \\n                                                                                                                                                                                                         1\n",
       "https://www.reddit.com/r/AskReddit/comments/b6rhq1/people_who_have_been_in_a_coma_what_was_it_like/?utm_medium=android_app&amp;utm_source=share                                                                                            1\n",
       "\\n                                                                                                                                                                                                                                         1\n",
       "https://www.sciencenews.org/article/new-ketamine-based-antidepressant-raises-hope-questions                                                                                                                                                1\n",
       "haha                                                                                                                                                                                                                                       1\n",
       "permanently.                                                                                                                                                                                                                               1\n",
       "https://imgur.com/gallery/i2JDIPh                                                                                                                                                                                                          1\n",
       "Uuuuuuuuuuuuuuuggggggghhhhhhhhhhhhhhhhhhh                                                                                                                                                                                                  1\n",
       "[https://discord.gg/kewG84Q](https://discord.gg/kewG84Q)                                                                                                                                                                                   1\n",
       "https://m.youtube.com/watch?v=AIaSVQXRLe8                                                                                                                                                                                                  1\n",
       "help                                                                                                                                                                                                                                       1\n",
       "Null                                                                                                                                                                                                                                       1\n",
       "Why                                                                                                                                                                                                                                        1\n",
       ":^(                                                                                                                                                                                                                                        1\n",
       "https://open.spotify.com/track/1tL40tfdtUaSLek4DvDDr3?si=7Vbsfz85S0mSPWLcZisQLA                                                                                                                                                            1\n",
       ":)                                                                                                                                                                                                                                         1\n",
       "[https://docs.google.com/forms/d/e/1FAIpQLSfOX\\_mfW5c\\_AWTMyeH7L-D7yxB7G5fSbuSFNa06dz1pwYCbJw/viewform?usp=sf\\_link](https://docs.google.com/forms/d/e/1FAIpQLSfOX_mfW5c_AWTMyeH7L-D7yxB7G5fSbuSFNa06dz1pwYCbJw/viewform?usp=sf_link)      1\n",
       ".                                                                                                                                                                                                                                          1\n",
       "https://qr.ae/TW8iUT                                                                                                                                                                                                                       1\n",
       "[https://www.youtube.com/watch?v=T0aqmwusJ4k](https://www.youtube.com/watch?v=T0aqmwusJ4k)                                                                                                                                                 1\n",
       "Name: selftext, dtype: int64"
      ]
     },
     "execution_count": 29,
     "metadata": {},
     "output_type": "execute_result"
    }
   ],
   "source": [
    "df_depression[df_depression.selftext_word_count <= 1]['selftext'].value_counts(ascending=False)"
   ]
  },
  {
   "cell_type": "markdown",
   "metadata": {},
   "source": [
    "We can see that 837 of the total are '[removed]' submissions. These submissions are not helpful, we'll drop them below:"
   ]
  },
  {
   "cell_type": "code",
   "execution_count": 30,
   "metadata": {},
   "outputs": [],
   "source": [
    "df_depression = df_depression.drop(df_depression[df_depression.selftext_word_count <= 1].index)\n",
    "df_suicidewatch = df_suicidewatch.drop(df_suicidewatch[df_suicidewatch.selftext_word_count <= 1].index)"
   ]
  },
  {
   "cell_type": "markdown",
   "metadata": {},
   "source": [
    "## Combining Data Frames"
   ]
  },
  {
   "cell_type": "code",
   "execution_count": 31,
   "metadata": {},
   "outputs": [],
   "source": [
    "df = pd.concat([df_depression, df_suicidewatch])"
   ]
  },
  {
   "cell_type": "markdown",
   "metadata": {},
   "source": [
    "Confirm shape of the newly created data frame"
   ]
  },
  {
   "cell_type": "code",
   "execution_count": 32,
   "metadata": {},
   "outputs": [
    {
     "data": {
      "text/plain": [
       "(18102, 13)"
      ]
     },
     "execution_count": 32,
     "metadata": {},
     "output_type": "execute_result"
    }
   ],
   "source": [
    "df.shape"
   ]
  },
  {
   "cell_type": "markdown",
   "metadata": {},
   "source": [
    "Reset the index of the new data frame"
   ]
  },
  {
   "cell_type": "code",
   "execution_count": 33,
   "metadata": {},
   "outputs": [],
   "source": [
    "df = df.reset_index(drop=True)"
   ]
  },
  {
   "cell_type": "markdown",
   "metadata": {},
   "source": [
    "## Character Count Histogram"
   ]
  },
  {
   "cell_type": "markdown",
   "metadata": {},
   "source": [
    "Next we'll examine the character counts in the df to compare the distribution by subreddit"
   ]
  },
  {
   "cell_type": "code",
   "execution_count": 34,
   "metadata": {},
   "outputs": [
    {
     "data": {
      "image/png": "[encoded data removed]",
      "text/plain": [
       "<Figure size 1440x720 with 1 Axes>"
      ]
     },
     "metadata": {
      "needs_background": "light"
     },
     "output_type": "display_data"
    }
   ],
   "source": [
    "plt.figure(figsize=(20,10))\n",
    "plt.hist([df[df['subreddit_suicidewatch']==0]['selftext_char_cnt'], \n",
    "          df[df['subreddit_suicidewatch']==1]['selftext_char_cnt']],\n",
    "         bins=50, color=['firebrick', 'silver'], ec='k')\n",
    "#          , range=[0, 5000])\n",
    "plt.title('Character Count by Class', fontsize=30)\n",
    "plt.legend(['Depression', 'SuicideWatch']);"
   ]
  },
  {
   "cell_type": "code",
   "execution_count": 35,
   "metadata": {},
   "outputs": [
    {
     "data": {
      "text/plain": [
       "count     9035.000000\n",
       "mean       972.256336\n",
       "std       1204.899270\n",
       "min          8.000000\n",
       "25%        295.500000\n",
       "50%        614.000000\n",
       "75%       1180.500000\n",
       "max      29175.000000\n",
       "Name: selftext_char_cnt, dtype: float64"
      ]
     },
     "execution_count": 35,
     "metadata": {},
     "output_type": "execute_result"
    }
   ],
   "source": [
    "df[df['subreddit_suicidewatch']==0]['selftext_char_cnt'].describe()"
   ]
  },
  {
   "cell_type": "markdown",
   "metadata": {},
   "source": [
    "The distributon are extremely similiar, both are right skewed with the median character count around 600 for each subreddit"
   ]
  },
  {
   "cell_type": "code",
   "execution_count": 51,
   "metadata": {},
   "outputs": [
    {
     "data": {
      "text/plain": [
       "''"
      ]
     },
     "execution_count": 51,
     "metadata": {},
     "output_type": "execute_result"
    },
    {
     "data": {
      "image/png": "[encoded data removed]",
      "text/plain": [
       "<Figure size 1440x720 with 1 Axes>"
      ]
     },
     "metadata": {
      "needs_background": "light"
     },
     "output_type": "display_data"
    }
   ],
   "source": [
    "plt.figure(figsize=(20,10))\n",
    "plt.hist([df[df['subreddit_suicidewatch']==0]['selftext_word_count'], \n",
    "          df[df['subreddit_suicidewatch']==1]['selftext_word_count']],\n",
    "         bins=200, color=['firebrick', 'silver'], ec='k')\n",
    "plt.title('Word Count by Subreddit', fontsize=40)\n",
    "plt.legend(['Depression', 'SuicideWatch'],fontsize=25)\n",
    "plt.xticks(fontsize=20)\n",
    "plt.yticks(fontsize=20)\n",
    "plt.xlabel('Word Count',fontsize=30)\n",
    "plt.ylabel('Frequency', fontsize=30)\n",
    "plt.tight_layout()\n",
    "plt.xlim(0, 1000)\n",
    "\n",
    "# Saving the image\n",
    "plt.savefig('../images/eda_word_count.png')\n",
    "\n",
    ";"
   ]
  },
  {
   "cell_type": "code",
   "execution_count": 50,
   "metadata": {},
   "outputs": [
    {
     "data": {
      "text/plain": [
       "count    9035.000000\n",
       "mean      186.926619\n",
       "std       230.336851\n",
       "min         2.000000\n",
       "25%        57.000000\n",
       "50%       119.000000\n",
       "75%       228.000000\n",
       "max      5530.000000\n",
       "Name: selftext_word_count, dtype: float64"
      ]
     },
     "execution_count": 50,
     "metadata": {},
     "output_type": "execute_result"
    }
   ],
   "source": [
    "df[df['subreddit_suicidewatch']==0]['selftext_word_count'].describe()"
   ]
  },
  {
   "cell_type": "markdown",
   "metadata": {},
   "source": [
    "As expected, the word count distributions are also pretty much aligned, with the median word count around 120 for both subreddits"
   ]
  },
  {
   "cell_type": "markdown",
   "metadata": {},
   "source": [
    "## Vectorize the Text"
   ]
  },
  {
   "cell_type": "markdown",
   "metadata": {},
   "source": [
    "Next we'll examine which words appear most frequently in each subreddit"
   ]
  },
  {
   "cell_type": "markdown",
   "metadata": {},
   "source": [
    "`CountVectorizer()` will create matrix that will count the number of times each word appears in the document (removing common stop words)"
   ]
  },
  {
   "cell_type": "code",
   "execution_count": 51,
   "metadata": {},
   "outputs": [],
   "source": [
    "cvec = CountVectorizer(stop_words='english')"
   ]
  },
  {
   "cell_type": "markdown",
   "metadata": {},
   "source": [
    "Next we fit and then  transform the submissions with our CountVectorizer()"
   ]
  },
  {
   "cell_type": "code",
   "execution_count": 52,
   "metadata": {},
   "outputs": [],
   "source": [
    "term_matrix = cvec.fit_transform(df['selftext'])"
   ]
  },
  {
   "cell_type": "markdown",
   "metadata": {},
   "source": [
    "The vectorizer contains 31K feature_names (text chunks)"
   ]
  },
  {
   "cell_type": "code",
   "execution_count": 53,
   "metadata": {},
   "outputs": [
    {
     "data": {
      "text/plain": [
       "31555"
      ]
     },
     "execution_count": 53,
     "metadata": {},
     "output_type": "execute_result"
    }
   ],
   "source": [
    "len(cvec.get_feature_names())"
   ]
  },
  {
   "cell_type": "markdown",
   "metadata": {},
   "source": [
    "Converting the cvec output to a pandas array, showing the count of occurrences by word"
   ]
  },
  {
   "cell_type": "code",
   "execution_count": 54,
   "metadata": {},
   "outputs": [],
   "source": [
    "term_df = pd.DataFrame(term_matrix.toarray(), columns=cvec.get_feature_names())"
   ]
  },
  {
   "cell_type": "code",
   "execution_count": 55,
   "metadata": {},
   "outputs": [
    {
     "data": {
      "text/html": [
       "<div>\n",
       "<style scoped>\n",
       "    .dataframe tbody tr th:only-of-type {\n",
       "        vertical-align: middle;\n",
       "    }\n",
       "\n",
       "    .dataframe tbody tr th {\n",
       "        vertical-align: top;\n",
       "    }\n",
       "\n",
       "    .dataframe thead th {\n",
       "        text-align: right;\n",
       "    }\n",
       "</style>\n",
       "<table border=\"1\" class=\"dataframe\">\n",
       "  <thead>\n",
       "    <tr style=\"text-align: right;\">\n",
       "      <th></th>\n",
       "      <th>00</th>\n",
       "      <th>000</th>\n",
       "      <th>00000001</th>\n",
       "      <th>000usd</th>\n",
       "      <th>007</th>\n",
       "      <th>00am</th>\n",
       "      <th>00p</th>\n",
       "      <th>00pm</th>\n",
       "      <th>01</th>\n",
       "      <th>019</th>\n",
       "      <th>...</th>\n",
       "      <th>über</th>\n",
       "      <th>ıam</th>\n",
       "      <th>şpş</th>\n",
       "      <th>σn</th>\n",
       "      <th>σut</th>\n",
       "      <th>ѕtrєѕѕєd</th>\n",
       "      <th>ѕσ</th>\n",
       "      <th>ಥ_ಥ</th>\n",
       "      <th>ᔕo</th>\n",
       "      <th>ᖇeᗩᗪy</th>\n",
       "    </tr>\n",
       "  </thead>\n",
       "  <tbody>\n",
       "    <tr>\n",
       "      <th>0</th>\n",
       "      <td>0</td>\n",
       "      <td>0</td>\n",
       "      <td>0</td>\n",
       "      <td>0</td>\n",
       "      <td>0</td>\n",
       "      <td>0</td>\n",
       "      <td>0</td>\n",
       "      <td>0</td>\n",
       "      <td>0</td>\n",
       "      <td>0</td>\n",
       "      <td>...</td>\n",
       "      <td>0</td>\n",
       "      <td>0</td>\n",
       "      <td>0</td>\n",
       "      <td>0</td>\n",
       "      <td>0</td>\n",
       "      <td>0</td>\n",
       "      <td>0</td>\n",
       "      <td>0</td>\n",
       "      <td>0</td>\n",
       "      <td>0</td>\n",
       "    </tr>\n",
       "    <tr>\n",
       "      <th>1</th>\n",
       "      <td>0</td>\n",
       "      <td>0</td>\n",
       "      <td>0</td>\n",
       "      <td>0</td>\n",
       "      <td>0</td>\n",
       "      <td>0</td>\n",
       "      <td>0</td>\n",
       "      <td>0</td>\n",
       "      <td>0</td>\n",
       "      <td>0</td>\n",
       "      <td>...</td>\n",
       "      <td>0</td>\n",
       "      <td>0</td>\n",
       "      <td>0</td>\n",
       "      <td>0</td>\n",
       "      <td>0</td>\n",
       "      <td>0</td>\n",
       "      <td>0</td>\n",
       "      <td>0</td>\n",
       "      <td>0</td>\n",
       "      <td>0</td>\n",
       "    </tr>\n",
       "    <tr>\n",
       "      <th>2</th>\n",
       "      <td>0</td>\n",
       "      <td>0</td>\n",
       "      <td>0</td>\n",
       "      <td>0</td>\n",
       "      <td>0</td>\n",
       "      <td>0</td>\n",
       "      <td>0</td>\n",
       "      <td>0</td>\n",
       "      <td>0</td>\n",
       "      <td>0</td>\n",
       "      <td>...</td>\n",
       "      <td>0</td>\n",
       "      <td>0</td>\n",
       "      <td>0</td>\n",
       "      <td>0</td>\n",
       "      <td>0</td>\n",
       "      <td>0</td>\n",
       "      <td>0</td>\n",
       "      <td>0</td>\n",
       "      <td>0</td>\n",
       "      <td>0</td>\n",
       "    </tr>\n",
       "    <tr>\n",
       "      <th>3</th>\n",
       "      <td>0</td>\n",
       "      <td>0</td>\n",
       "      <td>0</td>\n",
       "      <td>0</td>\n",
       "      <td>0</td>\n",
       "      <td>0</td>\n",
       "      <td>0</td>\n",
       "      <td>0</td>\n",
       "      <td>0</td>\n",
       "      <td>0</td>\n",
       "      <td>...</td>\n",
       "      <td>0</td>\n",
       "      <td>0</td>\n",
       "      <td>0</td>\n",
       "      <td>0</td>\n",
       "      <td>0</td>\n",
       "      <td>0</td>\n",
       "      <td>0</td>\n",
       "      <td>0</td>\n",
       "      <td>0</td>\n",
       "      <td>0</td>\n",
       "    </tr>\n",
       "    <tr>\n",
       "      <th>4</th>\n",
       "      <td>0</td>\n",
       "      <td>0</td>\n",
       "      <td>0</td>\n",
       "      <td>0</td>\n",
       "      <td>0</td>\n",
       "      <td>0</td>\n",
       "      <td>0</td>\n",
       "      <td>0</td>\n",
       "      <td>0</td>\n",
       "      <td>0</td>\n",
       "      <td>...</td>\n",
       "      <td>0</td>\n",
       "      <td>0</td>\n",
       "      <td>0</td>\n",
       "      <td>0</td>\n",
       "      <td>0</td>\n",
       "      <td>0</td>\n",
       "      <td>0</td>\n",
       "      <td>0</td>\n",
       "      <td>0</td>\n",
       "      <td>0</td>\n",
       "    </tr>\n",
       "  </tbody>\n",
       "</table>\n",
       "<p>5 rows × 31555 columns</p>\n",
       "</div>"
      ],
      "text/plain": [
       "   00  000  00000001  000usd  007  00am  00p  00pm  01  019  ...  über  ıam  \\\n",
       "0   0    0         0       0    0     0    0     0   0    0  ...     0    0   \n",
       "1   0    0         0       0    0     0    0     0   0    0  ...     0    0   \n",
       "2   0    0         0       0    0     0    0     0   0    0  ...     0    0   \n",
       "3   0    0         0       0    0     0    0     0   0    0  ...     0    0   \n",
       "4   0    0         0       0    0     0    0     0   0    0  ...     0    0   \n",
       "\n",
       "   şpş  σn  σut  ѕtrєѕѕєd  ѕσ  ಥ_ಥ  ᔕo  ᖇeᗩᗪy  \n",
       "0    0   0    0         0   0    0   0      0  \n",
       "1    0   0    0         0   0    0   0      0  \n",
       "2    0   0    0         0   0    0   0      0  \n",
       "3    0   0    0         0   0    0   0      0  \n",
       "4    0   0    0         0   0    0   0      0  \n",
       "\n",
       "[5 rows x 31555 columns]"
      ]
     },
     "execution_count": 55,
     "metadata": {},
     "output_type": "execute_result"
    }
   ],
   "source": [
    "term_df.head()"
   ]
  },
  {
   "cell_type": "markdown",
   "metadata": {},
   "source": [
    "Append the 'subreddit_suicidewatch' field to the vectorized dataframe"
   ]
  },
  {
   "cell_type": "code",
   "execution_count": 56,
   "metadata": {},
   "outputs": [],
   "source": [
    "term_df = pd.merge(df['subreddit_suicidewatch'],term_df, left_index=True, right_index=True)"
   ]
  },
  {
   "cell_type": "code",
   "execution_count": 57,
   "metadata": {},
   "outputs": [
    {
     "data": {
      "text/html": [
       "<div>\n",
       "<style scoped>\n",
       "    .dataframe tbody tr th:only-of-type {\n",
       "        vertical-align: middle;\n",
       "    }\n",
       "\n",
       "    .dataframe tbody tr th {\n",
       "        vertical-align: top;\n",
       "    }\n",
       "\n",
       "    .dataframe thead th {\n",
       "        text-align: right;\n",
       "    }\n",
       "</style>\n",
       "<table border=\"1\" class=\"dataframe\">\n",
       "  <thead>\n",
       "    <tr style=\"text-align: right;\">\n",
       "      <th></th>\n",
       "      <th>subreddit_suicidewatch</th>\n",
       "      <th>00</th>\n",
       "      <th>000</th>\n",
       "      <th>00000001</th>\n",
       "      <th>000usd</th>\n",
       "      <th>007</th>\n",
       "      <th>00am</th>\n",
       "      <th>00p</th>\n",
       "      <th>00pm</th>\n",
       "      <th>01</th>\n",
       "      <th>...</th>\n",
       "      <th>über</th>\n",
       "      <th>ıam</th>\n",
       "      <th>şpş</th>\n",
       "      <th>σn</th>\n",
       "      <th>σut</th>\n",
       "      <th>ѕtrєѕѕєd</th>\n",
       "      <th>ѕσ</th>\n",
       "      <th>ಥ_ಥ</th>\n",
       "      <th>ᔕo</th>\n",
       "      <th>ᖇeᗩᗪy</th>\n",
       "    </tr>\n",
       "  </thead>\n",
       "  <tbody>\n",
       "    <tr>\n",
       "      <th>0</th>\n",
       "      <td>0</td>\n",
       "      <td>0</td>\n",
       "      <td>0</td>\n",
       "      <td>0</td>\n",
       "      <td>0</td>\n",
       "      <td>0</td>\n",
       "      <td>0</td>\n",
       "      <td>0</td>\n",
       "      <td>0</td>\n",
       "      <td>0</td>\n",
       "      <td>...</td>\n",
       "      <td>0</td>\n",
       "      <td>0</td>\n",
       "      <td>0</td>\n",
       "      <td>0</td>\n",
       "      <td>0</td>\n",
       "      <td>0</td>\n",
       "      <td>0</td>\n",
       "      <td>0</td>\n",
       "      <td>0</td>\n",
       "      <td>0</td>\n",
       "    </tr>\n",
       "    <tr>\n",
       "      <th>1</th>\n",
       "      <td>0</td>\n",
       "      <td>0</td>\n",
       "      <td>0</td>\n",
       "      <td>0</td>\n",
       "      <td>0</td>\n",
       "      <td>0</td>\n",
       "      <td>0</td>\n",
       "      <td>0</td>\n",
       "      <td>0</td>\n",
       "      <td>0</td>\n",
       "      <td>...</td>\n",
       "      <td>0</td>\n",
       "      <td>0</td>\n",
       "      <td>0</td>\n",
       "      <td>0</td>\n",
       "      <td>0</td>\n",
       "      <td>0</td>\n",
       "      <td>0</td>\n",
       "      <td>0</td>\n",
       "      <td>0</td>\n",
       "      <td>0</td>\n",
       "    </tr>\n",
       "    <tr>\n",
       "      <th>2</th>\n",
       "      <td>0</td>\n",
       "      <td>0</td>\n",
       "      <td>0</td>\n",
       "      <td>0</td>\n",
       "      <td>0</td>\n",
       "      <td>0</td>\n",
       "      <td>0</td>\n",
       "      <td>0</td>\n",
       "      <td>0</td>\n",
       "      <td>0</td>\n",
       "      <td>...</td>\n",
       "      <td>0</td>\n",
       "      <td>0</td>\n",
       "      <td>0</td>\n",
       "      <td>0</td>\n",
       "      <td>0</td>\n",
       "      <td>0</td>\n",
       "      <td>0</td>\n",
       "      <td>0</td>\n",
       "      <td>0</td>\n",
       "      <td>0</td>\n",
       "    </tr>\n",
       "    <tr>\n",
       "      <th>3</th>\n",
       "      <td>0</td>\n",
       "      <td>0</td>\n",
       "      <td>0</td>\n",
       "      <td>0</td>\n",
       "      <td>0</td>\n",
       "      <td>0</td>\n",
       "      <td>0</td>\n",
       "      <td>0</td>\n",
       "      <td>0</td>\n",
       "      <td>0</td>\n",
       "      <td>...</td>\n",
       "      <td>0</td>\n",
       "      <td>0</td>\n",
       "      <td>0</td>\n",
       "      <td>0</td>\n",
       "      <td>0</td>\n",
       "      <td>0</td>\n",
       "      <td>0</td>\n",
       "      <td>0</td>\n",
       "      <td>0</td>\n",
       "      <td>0</td>\n",
       "    </tr>\n",
       "    <tr>\n",
       "      <th>4</th>\n",
       "      <td>0</td>\n",
       "      <td>0</td>\n",
       "      <td>0</td>\n",
       "      <td>0</td>\n",
       "      <td>0</td>\n",
       "      <td>0</td>\n",
       "      <td>0</td>\n",
       "      <td>0</td>\n",
       "      <td>0</td>\n",
       "      <td>0</td>\n",
       "      <td>...</td>\n",
       "      <td>0</td>\n",
       "      <td>0</td>\n",
       "      <td>0</td>\n",
       "      <td>0</td>\n",
       "      <td>0</td>\n",
       "      <td>0</td>\n",
       "      <td>0</td>\n",
       "      <td>0</td>\n",
       "      <td>0</td>\n",
       "      <td>0</td>\n",
       "    </tr>\n",
       "  </tbody>\n",
       "</table>\n",
       "<p>5 rows × 31556 columns</p>\n",
       "</div>"
      ],
      "text/plain": [
       "   subreddit_suicidewatch  00  000  00000001  000usd  007  00am  00p  00pm  \\\n",
       "0                       0   0    0         0       0    0     0    0     0   \n",
       "1                       0   0    0         0       0    0     0    0     0   \n",
       "2                       0   0    0         0       0    0     0    0     0   \n",
       "3                       0   0    0         0       0    0     0    0     0   \n",
       "4                       0   0    0         0       0    0     0    0     0   \n",
       "\n",
       "   01  ...  über  ıam  şpş  σn  σut  ѕtrєѕѕєd  ѕσ  ಥ_ಥ  ᔕo  ᖇeᗩᗪy  \n",
       "0   0  ...     0    0    0   0    0         0   0    0   0      0  \n",
       "1   0  ...     0    0    0   0    0         0   0    0   0      0  \n",
       "2   0  ...     0    0    0   0    0         0   0    0   0      0  \n",
       "3   0  ...     0    0    0   0    0         0   0    0   0      0  \n",
       "4   0  ...     0    0    0   0    0         0   0    0   0      0  \n",
       "\n",
       "[5 rows x 31556 columns]"
      ]
     },
     "execution_count": 57,
     "metadata": {},
     "output_type": "execute_result"
    }
   ],
   "source": [
    "term_df.head()"
   ]
  },
  {
   "cell_type": "markdown",
   "metadata": {},
   "source": [
    "### Analyze Term Frequency"
   ]
  },
  {
   "cell_type": "markdown",
   "metadata": {},
   "source": [
    "Below we'll look at the 25 most used terms in the depression subreddit.\n",
    "\n",
    "We'll look at terms with the highest avg. frequency across all submissions"
   ]
  },
  {
   "cell_type": "code",
   "execution_count": 58,
   "metadata": {},
   "outputs": [
    {
     "data": {
      "text/html": [
       "<div>\n",
       "<style scoped>\n",
       "    .dataframe tbody tr th:only-of-type {\n",
       "        vertical-align: middle;\n",
       "    }\n",
       "\n",
       "    .dataframe tbody tr th {\n",
       "        vertical-align: top;\n",
       "    }\n",
       "\n",
       "    .dataframe thead th {\n",
       "        text-align: right;\n",
       "    }\n",
       "</style>\n",
       "<table border=\"1\" class=\"dataframe\">\n",
       "  <thead>\n",
       "    <tr style=\"text-align: right;\">\n",
       "      <th>subreddit_suicidewatch</th>\n",
       "      <th>0</th>\n",
       "      <th>1</th>\n",
       "    </tr>\n",
       "  </thead>\n",
       "  <tbody>\n",
       "    <tr>\n",
       "      <th>just</th>\n",
       "      <td>1.702601</td>\n",
       "      <td>1.565237</td>\n",
       "    </tr>\n",
       "    <tr>\n",
       "      <th>like</th>\n",
       "      <td>1.284781</td>\n",
       "      <td>0.987978</td>\n",
       "    </tr>\n",
       "    <tr>\n",
       "      <th>don</th>\n",
       "      <td>1.186276</td>\n",
       "      <td>1.202934</td>\n",
       "    </tr>\n",
       "    <tr>\n",
       "      <th>feel</th>\n",
       "      <td>1.131710</td>\n",
       "      <td>0.807213</td>\n",
       "    </tr>\n",
       "    <tr>\n",
       "      <th>know</th>\n",
       "      <td>0.845268</td>\n",
       "      <td>0.790339</td>\n",
       "    </tr>\n",
       "    <tr>\n",
       "      <th>ve</th>\n",
       "      <td>0.800553</td>\n",
       "      <td>0.807654</td>\n",
       "    </tr>\n",
       "    <tr>\n",
       "      <th>want</th>\n",
       "      <td>0.792252</td>\n",
       "      <td>0.985552</td>\n",
       "    </tr>\n",
       "    <tr>\n",
       "      <th>life</th>\n",
       "      <td>0.747537</td>\n",
       "      <td>0.876365</td>\n",
       "    </tr>\n",
       "    <tr>\n",
       "      <th>time</th>\n",
       "      <td>0.651799</td>\n",
       "      <td>0.525642</td>\n",
       "    </tr>\n",
       "    <tr>\n",
       "      <th>people</th>\n",
       "      <td>0.603431</td>\n",
       "      <td>0.566891</td>\n",
       "    </tr>\n",
       "    <tr>\n",
       "      <th>really</th>\n",
       "      <td>0.585722</td>\n",
       "      <td>0.471269</td>\n",
       "    </tr>\n",
       "    <tr>\n",
       "      <th>depression</th>\n",
       "      <td>0.458439</td>\n",
       "      <td>0.160141</td>\n",
       "    </tr>\n",
       "    <tr>\n",
       "      <th>friends</th>\n",
       "      <td>0.444162</td>\n",
       "      <td>0.374986</td>\n",
       "    </tr>\n",
       "    <tr>\n",
       "      <th>think</th>\n",
       "      <td>0.404981</td>\n",
       "      <td>0.424948</td>\n",
       "    </tr>\n",
       "    <tr>\n",
       "      <th>going</th>\n",
       "      <td>0.401107</td>\n",
       "      <td>0.421418</td>\n",
       "    </tr>\n",
       "    <tr>\n",
       "      <th>day</th>\n",
       "      <td>0.386054</td>\n",
       "      <td>0.322157</td>\n",
       "    </tr>\n",
       "    <tr>\n",
       "      <th>things</th>\n",
       "      <td>0.377753</td>\n",
       "      <td>0.300651</td>\n",
       "    </tr>\n",
       "    <tr>\n",
       "      <th>years</th>\n",
       "      <td>0.348201</td>\n",
       "      <td>0.333958</td>\n",
       "    </tr>\n",
       "    <tr>\n",
       "      <th>help</th>\n",
       "      <td>0.344328</td>\n",
       "      <td>0.306606</td>\n",
       "    </tr>\n",
       "    <tr>\n",
       "      <th>work</th>\n",
       "      <td>0.303376</td>\n",
       "      <td>0.209331</td>\n",
       "    </tr>\n",
       "    <tr>\n",
       "      <th>good</th>\n",
       "      <td>0.298727</td>\n",
       "      <td>0.244623</td>\n",
       "    </tr>\n",
       "    <tr>\n",
       "      <th>make</th>\n",
       "      <td>0.293636</td>\n",
       "      <td>0.277821</td>\n",
       "    </tr>\n",
       "    <tr>\n",
       "      <th>school</th>\n",
       "      <td>0.291090</td>\n",
       "      <td>0.229514</td>\n",
       "    </tr>\n",
       "    <tr>\n",
       "      <th>got</th>\n",
       "      <td>0.278473</td>\n",
       "      <td>0.237344</td>\n",
       "    </tr>\n",
       "    <tr>\n",
       "      <th>better</th>\n",
       "      <td>0.274156</td>\n",
       "      <td>0.254329</td>\n",
       "    </tr>\n",
       "  </tbody>\n",
       "</table>\n",
       "</div>"
      ],
      "text/plain": [
       "subreddit_suicidewatch         0         1\n",
       "just                    1.702601  1.565237\n",
       "like                    1.284781  0.987978\n",
       "don                     1.186276  1.202934\n",
       "feel                    1.131710  0.807213\n",
       "know                    0.845268  0.790339\n",
       "ve                      0.800553  0.807654\n",
       "want                    0.792252  0.985552\n",
       "life                    0.747537  0.876365\n",
       "time                    0.651799  0.525642\n",
       "people                  0.603431  0.566891\n",
       "really                  0.585722  0.471269\n",
       "depression              0.458439  0.160141\n",
       "friends                 0.444162  0.374986\n",
       "think                   0.404981  0.424948\n",
       "going                   0.401107  0.421418\n",
       "day                     0.386054  0.322157\n",
       "things                  0.377753  0.300651\n",
       "years                   0.348201  0.333958\n",
       "help                    0.344328  0.306606\n",
       "work                    0.303376  0.209331\n",
       "good                    0.298727  0.244623\n",
       "make                    0.293636  0.277821\n",
       "school                  0.291090  0.229514\n",
       "got                     0.278473  0.237344\n",
       "better                  0.274156  0.254329"
      ]
     },
     "execution_count": 58,
     "metadata": {},
     "output_type": "execute_result"
    }
   ],
   "source": [
    "term_df.groupby('subreddit_suicidewatch').mean().T.sort_values(0, ascending=False).head(25)"
   ]
  },
  {
   "cell_type": "markdown",
   "metadata": {},
   "source": [
    "We see that the majority of the top terms are being used to express emotion, such as 'just', 'like' and 'feel'. Interestingly, we see that the word 'depression' is 12th on the list.\n",
    "\n",
    "The majority of top words are verbs: like, feel, want, know, etc.\n",
    "\n",
    "We also see some reoccurring life themes that authors mention such as 'friends', 'work', and 'school'."
   ]
  },
  {
   "cell_type": "markdown",
   "metadata": {},
   "source": [
    "### Comparing Top Words in Each Subreddit"
   ]
  },
  {
   "cell_type": "markdown",
   "metadata": {},
   "source": [
    "Below we'll save the top words (by avg. occurrence) in each subreddit"
   ]
  },
  {
   "cell_type": "code",
   "execution_count": 62,
   "metadata": {},
   "outputs": [],
   "source": [
    "top25_words_depression = list(term_df.groupby('subreddit_suicidewatch').\n",
    "     mean().T.sort_values(0, ascending=False).head(25).index)"
   ]
  },
  {
   "cell_type": "code",
   "execution_count": 63,
   "metadata": {},
   "outputs": [],
   "source": [
    "top25_words_suicidewatch = list(term_df.groupby('subreddit_suicidewatch').\n",
    "     mean().T.sort_values(1, ascending=False).head(25).index)"
   ]
  },
  {
   "cell_type": "markdown",
   "metadata": {},
   "source": [
    "Top Overlapping Terms Below:"
   ]
  },
  {
   "cell_type": "code",
   "execution_count": 66,
   "metadata": {},
   "outputs": [
    {
     "name": "stdout",
     "output_type": "stream",
     "text": [
      "['just', 'like', 'don', 'feel', 'know', 've', 'want', 'life', 'time', 'people', 'really', 'friends', 'think', 'going', 'day', 'things', 'years', 'help', 'make']\n"
     ]
    }
   ],
   "source": [
    "top_words_overlap = [word for word in top25_words_depression if word in top25_words_suicidewatch]\n",
    "print(top_words_overlap)"
   ]
  },
  {
   "cell_type": "markdown",
   "metadata": {},
   "source": [
    "Top depression terms not found in suicidewatch:"
   ]
  },
  {
   "cell_type": "code",
   "execution_count": 68,
   "metadata": {},
   "outputs": [
    {
     "name": "stdout",
     "output_type": "stream",
     "text": [
      "['depression', 'work', 'good', 'school', 'got', 'better']\n"
     ]
    }
   ],
   "source": [
    "top_words_depression_no_sw = [word for word in top25_words_depression if word not in top25_words_suicidewatch]\n",
    "print(top_words_depression_no_sw)"
   ]
  },
  {
   "cell_type": "markdown",
   "metadata": {},
   "source": [
    "Interestingly we see 'school' and 'work' are top terms that are found in depression but not the top 25 of suicidewatch."
   ]
  },
  {
   "cell_type": "code",
   "execution_count": 69,
   "metadata": {},
   "outputs": [
    {
     "name": "stdout",
     "output_type": "stream",
     "text": [
      "['fucking', 'anymore', 'die', 'way', 'family', 'll']\n"
     ]
    }
   ],
   "source": [
    "top_words_sw_no_depression = [word for word in top25_words_suicidewatch if word not in top25_words_depression]\n",
    "print(top_words_sw_no_depression)"
   ]
  },
  {
   "cell_type": "markdown",
   "metadata": {},
   "source": [
    "The reference to family is bit more prevalent in the top suicidewatch terms vs depression"
   ]
  },
  {
   "cell_type": "markdown",
   "metadata": {},
   "source": [
    "## Function to Subset Columns of Count Vectorizer Matrix"
   ]
  },
  {
   "cell_type": "code",
   "execution_count": null,
   "metadata": {},
   "outputs": [],
   "source": [
    "# def feature_names(string):\n",
    "#     col_list = []\n",
    "#     for col in cvec.get_feature_names():\n",
    "#         if string.lower() in col.lower():\n",
    "#             col_list.append(col)\n",
    "#     return col_list"
   ]
  },
  {
   "cell_type": "code",
   "execution_count": null,
   "metadata": {},
   "outputs": [],
   "source": [
    "# feature_names('social')"
   ]
  },
  {
   "cell_type": "code",
   "execution_count": null,
   "metadata": {},
   "outputs": [],
   "source": [
    "# social_features = feature_names('live')"
   ]
  },
  {
   "cell_type": "code",
   "execution_count": null,
   "metadata": {},
   "outputs": [],
   "source": [
    "# term_df[social_features].mean().sort_values(ascending = False)"
   ]
  },
  {
   "cell_type": "code",
   "execution_count": null,
   "metadata": {},
   "outputs": [],
   "source": [
    "# facebook_features = feature_names('love')"
   ]
  },
  {
   "cell_type": "code",
   "execution_count": null,
   "metadata": {},
   "outputs": [],
   "source": [
    "# term_df[facebook_features].mean().sort_values(ascending = False)"
   ]
  },
  {
   "cell_type": "markdown",
   "metadata": {},
   "source": [
    "## Saving Combined DataFrame to CSV"
   ]
  },
  {
   "cell_type": "code",
   "execution_count": null,
   "metadata": {},
   "outputs": [],
   "source": [
    "# df.to_csv('../data/df_combined.csv',index=True)"
   ]
  }
 ],
 "metadata": {
  "kernelspec": {
   "display_name": "Python 3",
   "language": "python",
   "name": "python3"
  },
  "language_info": {
   "codemirror_mode": {
    "name": "ipython",
    "version": 3
   },
   "file_extension": ".py",
   "mimetype": "text/x-python",
   "name": "python",
   "nbconvert_exporter": "python",
   "pygments_lexer": "ipython3",
   "version": "3.7.1"
  }
 },
 "nbformat": 4,
 "nbformat_minor": 2
}
