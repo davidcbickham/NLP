{
 "cells": [
  {
   "cell_type": "markdown",
   "metadata": {},
   "source": [
    "# Accessing Data"
   ]
  },
  {
   "cell_type": "markdown",
   "metadata": {},
   "source": [
    "## Using the Pushshift API\n",
    "\n",
    "Pushshift is a service that archives and indexes Reddit at regular intervals. It allows for higher-level search functionality and querying for Reddit comments and submissions, facilitating data collection for analysis and modeling. It leverages the requests library to return a json response that can then be parsed for the data of interest.\n",
    "\n",
    "Resources: \n",
    "- Pushshift Endpoints: https://pushshift.io/\n",
    "- Pushshift Documentation: https://github.com/pushshift/api\n",
    "- Pushshift Subreddit: https://www.reddit.com/r/pushshift/comments/89pxra/pushshift_api_with_large_amounts_of_data/\n"
   ]
  },
  {
   "cell_type": "markdown",
   "metadata": {},
   "source": [
    "## Importing Libraries"
   ]
  },
  {
   "cell_type": "code",
   "execution_count": 2,
   "metadata": {},
   "outputs": [],
   "source": [
    "import requests, time, csv, json, re\n",
    "import pandas as pd"
   ]
  },
  {
   "cell_type": "markdown",
   "metadata": {},
   "source": [
    "### We'll be accessing the data using the PushShift API"
   ]
  },
  {
   "cell_type": "markdown",
   "metadata": {},
   "source": [
    "The PushSHift API allows for comprehensive search/retrieval of reddit data"
   ]
  },
  {
   "cell_type": "markdown",
   "metadata": {},
   "source": [
    "We'll use it to retrieve the yelp submissions from the 2 subreddits of interest:\n",
    "- r/depression\n",
    "- r/suicidewatch"
   ]
  },
  {
   "cell_type": "markdown",
   "metadata": {},
   "source": [
    "## Setting the base query syntax:"
   ]
  },
  {
   "cell_type": "markdown",
   "metadata": {},
   "source": [
    "Setting the query url to the pushshift api"
   ]
  },
  {
   "cell_type": "code",
   "execution_count": 3,
   "metadata": {},
   "outputs": [],
   "source": [
    "url = f'https://api.pushshift.io/reddit/submission/search/'"
   ]
  },
  {
   "cell_type": "markdown",
   "metadata": {},
   "source": [
    "Testing the the PushShift API by pulling 10 submissions from the r/depression subreddit"
   ]
  },
  {
   "cell_type": "code",
   "execution_count": 4,
   "metadata": {},
   "outputs": [],
   "source": [
    "params = {\n",
    "          'subreddit':'depression', #subreddit\n",
    "          'sort':'desc',\n",
    "          'size':10 # number of submissions being collected\n",
    "         }"
   ]
  },
  {
   "cell_type": "markdown",
   "metadata": {},
   "source": [
    "Making the request."
   ]
  },
  {
   "cell_type": "code",
   "execution_count": 5,
   "metadata": {},
   "outputs": [],
   "source": [
    "response = requests.get(url, params=params)"
   ]
  },
  {
   "cell_type": "markdown",
   "metadata": {},
   "source": [
    "Checking the url to make sure the query terms are correct and the server is responsive"
   ]
  },
  {
   "cell_type": "code",
   "execution_count": 6,
   "metadata": {},
   "outputs": [
    {
     "data": {
      "text/plain": [
       "200"
      ]
     },
     "execution_count": 6,
     "metadata": {},
     "output_type": "execute_result"
    }
   ],
   "source": [
    "response.status_code"
   ]
  },
  {
   "cell_type": "markdown",
   "metadata": {},
   "source": [
    "The status code returned from the server is 200, meaning the query was accepted without error."
   ]
  },
  {
   "cell_type": "markdown",
   "metadata": {},
   "source": [
    "Now we'll take a look at the structure of the json file"
   ]
  },
  {
   "cell_type": "code",
   "execution_count": 8,
   "metadata": {},
   "outputs": [
    {
     "data": {
      "text/plain": [
       "{'data': [{'author': 'swnkthekid',\n",
       "   'author_flair_css_class': None,\n",
       "   'author_flair_richtext': [],\n",
       "   'author_flair_text': None,\n",
       "   'author_flair_type': 'text',\n",
       "   'author_fullname': 't2_2w7nrjas',\n",
       "   'author_patreon_flair': False,\n",
       "   'can_mod_post': False,\n",
       "   'contest_mode': False,\n",
       "   'created_utc': 1554770811,\n",
       "   'domain': 'self.depression',\n",
       "   'full_link': 'https://www.reddit.com/r/depression/comments/bb1jun/my_fuckin_anxiety/',\n",
       "   'gildings': {'gid_1': 0, 'gid_2': 0, 'gid_3': 0},\n",
       "   'id': 'bb1jun',\n",
       "   'is_crosspostable': True,\n",
       "   'is_meta': False,\n",
       "   'is_original_content': False,\n",
       "   'is_reddit_media_domain': False,\n",
       "   'is_robot_indexable': True,\n",
       "   'is_self': True,\n",
       "   'is_video': False,\n",
       "   'link_flair_background_color': '',\n",
       "   'link_flair_richtext': [],\n",
       "   'link_flair_text_color': 'dark',\n",
       "   'link_flair_type': 'text',\n",
       "   'locked': False,\n",
       "   'media_only': False,\n",
       "   'no_follow': True,\n",
       "   'num_comments': 0,\n",
       "   'num_crossposts': 0,\n",
       "   'over_18': False,\n",
       "   'parent_whitelist_status': 'no_ads',\n",
       "   'permalink': '/r/depression/comments/bb1jun/my_fuckin_anxiety/',\n",
       "   'pinned': False,\n",
       "   'pwls': 0,\n",
       "   'retrieved_on': 1554770812,\n",
       "   'score': 1,\n",
       "   'selftext': 'So today i was pretty anxious for the whole day (and also two kids were making fun of the face that i was making when i was anxious, which got me pissed). when i got to school i felt that i was too happy and i tried to suppress the happiness a little but when i do that it just sends my mood spiraling down. And music isnt doing me that many favors for me anymore\\n\\nI dunno. Fuck school.',\n",
       "   'send_replies': True,\n",
       "   'spoiler': False,\n",
       "   'stickied': False,\n",
       "   'subreddit': 'depression',\n",
       "   'subreddit_id': 't5_2qqqf',\n",
       "   'subreddit_subscribers': 470403,\n",
       "   'subreddit_type': 'public',\n",
       "   'suggested_sort': 'confidence',\n",
       "   'thumbnail': 'self',\n",
       "   'title': 'my fuckin ANXIETY',\n",
       "   'url': 'https://www.reddit.com/r/depression/comments/bb1jun/my_fuckin_anxiety/',\n",
       "   'whitelist_status': 'no_ads',\n",
       "   'wls': 0},\n",
       "  {'author': 'Ltrfsn',\n",
       "   'author_flair_css_class': None,\n",
       "   'author_flair_richtext': [],\n",
       "   'author_flair_text': None,\n",
       "   'author_flair_type': 'text',\n",
       "   'author_fullname': 't2_1awfeeeo',\n",
       "   'author_patreon_flair': False,\n",
       "   'can_mod_post': False,\n",
       "   'contest_mode': False,\n",
       "   'created_utc': 1554770785,\n",
       "   'domain': 'self.depression',\n",
       "   'full_link': 'https://www.reddit.com/r/depression/comments/bb1jot/horny_for_death/',\n",
       "   'gildings': {'gid_1': 0, 'gid_2': 0, 'gid_3': 0},\n",
       "   'id': 'bb1jot',\n",
       "   'is_crosspostable': True,\n",
       "   'is_meta': False,\n",
       "   'is_original_content': False,\n",
       "   'is_reddit_media_domain': False,\n",
       "   'is_robot_indexable': True,\n",
       "   'is_self': True,\n",
       "   'is_video': False,\n",
       "   'link_flair_background_color': '',\n",
       "   'link_flair_richtext': [],\n",
       "   'link_flair_text_color': 'dark',\n",
       "   'link_flair_type': 'text',\n",
       "   'locked': False,\n",
       "   'media_only': False,\n",
       "   'no_follow': True,\n",
       "   'num_comments': 0,\n",
       "   'num_crossposts': 0,\n",
       "   'over_18': False,\n",
       "   'parent_whitelist_status': 'no_ads',\n",
       "   'permalink': '/r/depression/comments/bb1jot/horny_for_death/',\n",
       "   'pinned': False,\n",
       "   'pwls': 0,\n",
       "   'retrieved_on': 1554770786,\n",
       "   'score': 1,\n",
       "   'selftext': 'So how do you folks deal with sexual frustration while suicidally depressed? I have a very strong abstract desire to fuck a girl, but can\\'t because of a million reasons, almost all related to my severe depression and negative self-image. Porn doesn\\'t solve the touch starvation and desire for intimacy. Please don\\'t say \"just go for prostitute\\'s\". That\\'s not a solution and would take too long to go into why right now. \\n\\nDepression often kills libido, but not always. So how do you people deal with it? Because I\\'m really struggling with it.',\n",
       "   'send_replies': True,\n",
       "   'spoiler': False,\n",
       "   'stickied': False,\n",
       "   'subreddit': 'depression',\n",
       "   'subreddit_id': 't5_2qqqf',\n",
       "   'subreddit_subscribers': 470402,\n",
       "   'subreddit_type': 'public',\n",
       "   'suggested_sort': 'confidence',\n",
       "   'thumbnail': 'self',\n",
       "   'title': 'Horny for death',\n",
       "   'url': 'https://www.reddit.com/r/depression/comments/bb1jot/horny_for_death/',\n",
       "   'whitelist_status': 'no_ads',\n",
       "   'wls': 0},\n",
       "  {'author': 'sneakmas',\n",
       "   'author_flair_css_class': None,\n",
       "   'author_flair_richtext': [],\n",
       "   'author_flair_text': None,\n",
       "   'author_flair_type': 'text',\n",
       "   'author_fullname': 't2_2wnijlny',\n",
       "   'author_patreon_flair': False,\n",
       "   'can_mod_post': False,\n",
       "   'contest_mode': False,\n",
       "   'created_utc': 1554770671,\n",
       "   'domain': 'self.depression',\n",
       "   'full_link': 'https://www.reddit.com/r/depression/comments/bb1iz4/a_desire_to_disappear/',\n",
       "   'gildings': {'gid_1': 0, 'gid_2': 0, 'gid_3': 0},\n",
       "   'id': 'bb1iz4',\n",
       "   'is_crosspostable': True,\n",
       "   'is_meta': False,\n",
       "   'is_original_content': False,\n",
       "   'is_reddit_media_domain': False,\n",
       "   'is_robot_indexable': True,\n",
       "   'is_self': True,\n",
       "   'is_video': False,\n",
       "   'link_flair_background_color': '',\n",
       "   'link_flair_richtext': [],\n",
       "   'link_flair_text_color': 'dark',\n",
       "   'link_flair_type': 'text',\n",
       "   'locked': False,\n",
       "   'media_only': False,\n",
       "   'no_follow': True,\n",
       "   'num_comments': 0,\n",
       "   'num_crossposts': 0,\n",
       "   'over_18': False,\n",
       "   'parent_whitelist_status': 'no_ads',\n",
       "   'permalink': '/r/depression/comments/bb1iz4/a_desire_to_disappear/',\n",
       "   'pinned': False,\n",
       "   'pwls': 0,\n",
       "   'retrieved_on': 1554770673,\n",
       "   'score': 1,\n",
       "   'selftext': 'Do you ever just wish that you would slowly evaporate into nothingness? Sometimes I find myself basking in the concept of ‘nothingness’ but I’m not sure that’s healthy. I wish I was on board with living but, damn, I feel like I’m bad at it. Also, I bury my sadness in a bubble of fake happiness and it carries me through - how do I make that happiness real? SOS',\n",
       "   'send_replies': True,\n",
       "   'spoiler': False,\n",
       "   'stickied': False,\n",
       "   'subreddit': 'depression',\n",
       "   'subreddit_id': 't5_2qqqf',\n",
       "   'subreddit_subscribers': 470401,\n",
       "   'subreddit_type': 'public',\n",
       "   'suggested_sort': 'confidence',\n",
       "   'thumbnail': 'self',\n",
       "   'title': 'A Desire to Disappear',\n",
       "   'url': 'https://www.reddit.com/r/depression/comments/bb1iz4/a_desire_to_disappear/',\n",
       "   'whitelist_status': 'no_ads',\n",
       "   'wls': 0},\n",
       "  {'author': 'doritootje',\n",
       "   'author_flair_css_class': None,\n",
       "   'author_flair_richtext': [],\n",
       "   'author_flair_text': None,\n",
       "   'author_flair_type': 'text',\n",
       "   'author_fullname': 't2_2ptzwf4x',\n",
       "   'author_patreon_flair': False,\n",
       "   'can_mod_post': False,\n",
       "   'contest_mode': False,\n",
       "   'created_utc': 1554770639,\n",
       "   'domain': 'self.depression',\n",
       "   'full_link': 'https://www.reddit.com/r/depression/comments/bb1ire/how_do_i_tell_my_parents/',\n",
       "   'gildings': {'gid_1': 0, 'gid_2': 0, 'gid_3': 0},\n",
       "   'id': 'bb1ire',\n",
       "   'is_crosspostable': True,\n",
       "   'is_meta': False,\n",
       "   'is_original_content': False,\n",
       "   'is_reddit_media_domain': False,\n",
       "   'is_robot_indexable': True,\n",
       "   'is_self': True,\n",
       "   'is_video': False,\n",
       "   'link_flair_background_color': '',\n",
       "   'link_flair_richtext': [],\n",
       "   'link_flair_text_color': 'dark',\n",
       "   'link_flair_type': 'text',\n",
       "   'locked': False,\n",
       "   'media_only': False,\n",
       "   'no_follow': True,\n",
       "   'num_comments': 0,\n",
       "   'num_crossposts': 0,\n",
       "   'over_18': False,\n",
       "   'parent_whitelist_status': 'no_ads',\n",
       "   'permalink': '/r/depression/comments/bb1ire/how_do_i_tell_my_parents/',\n",
       "   'pinned': False,\n",
       "   'pwls': 0,\n",
       "   'retrieved_on': 1554770640,\n",
       "   'score': 1,\n",
       "   'selftext': 'so, I´ve felt depressed for a long time now, and I kinda want to get help but I have no idea how to tell my parents help me please.',\n",
       "   'send_replies': True,\n",
       "   'spoiler': False,\n",
       "   'stickied': False,\n",
       "   'subreddit': 'depression',\n",
       "   'subreddit_id': 't5_2qqqf',\n",
       "   'subreddit_subscribers': 470401,\n",
       "   'subreddit_type': 'public',\n",
       "   'suggested_sort': 'confidence',\n",
       "   'thumbnail': 'self',\n",
       "   'title': 'how do I tell my parents',\n",
       "   'url': 'https://www.reddit.com/r/depression/comments/bb1ire/how_do_i_tell_my_parents/',\n",
       "   'whitelist_status': 'no_ads',\n",
       "   'wls': 0},\n",
       "  {'author': 'RealRalpharoni',\n",
       "   'author_flair_css_class': None,\n",
       "   'author_flair_richtext': [],\n",
       "   'author_flair_text': None,\n",
       "   'author_flair_type': 'text',\n",
       "   'author_fullname': 't2_1usa5p8r',\n",
       "   'author_patreon_flair': False,\n",
       "   'can_mod_post': False,\n",
       "   'contest_mode': False,\n",
       "   'created_utc': 1554770552,\n",
       "   'domain': 'self.depression',\n",
       "   'full_link': 'https://www.reddit.com/r/depression/comments/bb1i8h/man_school_is_ass/',\n",
       "   'gildings': {'gid_1': 0, 'gid_2': 0, 'gid_3': 0},\n",
       "   'id': 'bb1i8h',\n",
       "   'is_crosspostable': True,\n",
       "   'is_meta': False,\n",
       "   'is_original_content': False,\n",
       "   'is_reddit_media_domain': False,\n",
       "   'is_robot_indexable': True,\n",
       "   'is_self': True,\n",
       "   'is_video': False,\n",
       "   'link_flair_background_color': '',\n",
       "   'link_flair_richtext': [],\n",
       "   'link_flair_text_color': 'dark',\n",
       "   'link_flair_type': 'text',\n",
       "   'locked': False,\n",
       "   'media_only': False,\n",
       "   'no_follow': True,\n",
       "   'num_comments': 0,\n",
       "   'num_crossposts': 0,\n",
       "   'over_18': False,\n",
       "   'parent_whitelist_status': 'no_ads',\n",
       "   'permalink': '/r/depression/comments/bb1i8h/man_school_is_ass/',\n",
       "   'pinned': False,\n",
       "   'pwls': 0,\n",
       "   'retrieved_on': 1554770553,\n",
       "   'score': 1,\n",
       "   'selftext': 'No more words needed',\n",
       "   'send_replies': True,\n",
       "   'spoiler': False,\n",
       "   'stickied': False,\n",
       "   'subreddit': 'depression',\n",
       "   'subreddit_id': 't5_2qqqf',\n",
       "   'subreddit_subscribers': 470399,\n",
       "   'subreddit_type': 'public',\n",
       "   'suggested_sort': 'confidence',\n",
       "   'thumbnail': 'self',\n",
       "   'title': 'Man school is ass',\n",
       "   'url': 'https://www.reddit.com/r/depression/comments/bb1i8h/man_school_is_ass/',\n",
       "   'whitelist_status': 'no_ads',\n",
       "   'wls': 0},\n",
       "  {'author': 'Raptor_73789',\n",
       "   'author_flair_css_class': None,\n",
       "   'author_flair_richtext': [],\n",
       "   'author_flair_text': None,\n",
       "   'author_flair_type': 'text',\n",
       "   'author_fullname': 't2_22tumkaf',\n",
       "   'author_patreon_flair': False,\n",
       "   'can_mod_post': False,\n",
       "   'contest_mode': False,\n",
       "   'created_utc': 1554770162,\n",
       "   'domain': 'self.depression',\n",
       "   'full_link': 'https://www.reddit.com/r/depression/comments/bb1fux/i_just_wanna_go_back_in_time_and_change_my/',\n",
       "   'gildings': {'gid_1': 0, 'gid_2': 0, 'gid_3': 0},\n",
       "   'id': 'bb1fux',\n",
       "   'is_crosspostable': True,\n",
       "   'is_meta': False,\n",
       "   'is_original_content': False,\n",
       "   'is_reddit_media_domain': False,\n",
       "   'is_robot_indexable': True,\n",
       "   'is_self': True,\n",
       "   'is_video': False,\n",
       "   'link_flair_background_color': '',\n",
       "   'link_flair_richtext': [],\n",
       "   'link_flair_text_color': 'dark',\n",
       "   'link_flair_type': 'text',\n",
       "   'locked': False,\n",
       "   'media_only': False,\n",
       "   'no_follow': True,\n",
       "   'num_comments': 1,\n",
       "   'num_crossposts': 0,\n",
       "   'over_18': False,\n",
       "   'parent_whitelist_status': 'no_ads',\n",
       "   'permalink': '/r/depression/comments/bb1fux/i_just_wanna_go_back_in_time_and_change_my/',\n",
       "   'pinned': False,\n",
       "   'pwls': 0,\n",
       "   'retrieved_on': 1554770163,\n",
       "   'score': 1,\n",
       "   'selftext': 'Alrighty boys its my first time posting here so i hope yall will accept me. Ahem. So one person has caused me to want to end my life. About 5 years ago (4th grade) i met a person who would forever change my life. We were good friends but i was always scared of him because he would hurt me from time to time even though i never did anything to him. We would hang out a lot and have sleepovers and my family generally liked him. Things were like this until about 6-7th grade. I would constantly hang around him and people started cutting themselves off from me because i hung out with him. Me being a dumbass didnt realize it was his fault and thought it was all me. Things went like this for another year and i started getting really sad constantly because of this. In 8th grade, everything changed. He started hurting me badly, trying to get me to smoke with him and do all this crazy shit. He would evantually get to the point where he would threaten me with knives if i called the cops on him or if i told anyone. This turned into an abusive relationship where he’d constantly threaten me and once he broke my arm because i told my therapist about it and yeah he made me genuinely want to end myself because of the fact that he kept abusing me for no reason at all.',\n",
       "   'send_replies': True,\n",
       "   'spoiler': False,\n",
       "   'stickied': False,\n",
       "   'subreddit': 'depression',\n",
       "   'subreddit_id': 't5_2qqqf',\n",
       "   'subreddit_subscribers': 470403,\n",
       "   'subreddit_type': 'public',\n",
       "   'suggested_sort': 'confidence',\n",
       "   'thumbnail': 'self',\n",
       "   'title': 'I just wanna go back in time and change my childhood',\n",
       "   'url': 'https://www.reddit.com/r/depression/comments/bb1fux/i_just_wanna_go_back_in_time_and_change_my/',\n",
       "   'whitelist_status': 'no_ads',\n",
       "   'wls': 0},\n",
       "  {'author': 'f0rsi',\n",
       "   'author_flair_css_class': None,\n",
       "   'author_flair_richtext': [],\n",
       "   'author_flair_text': None,\n",
       "   'author_flair_type': 'text',\n",
       "   'author_fullname': 't2_ckkzpbv',\n",
       "   'author_patreon_flair': False,\n",
       "   'can_mod_post': False,\n",
       "   'contest_mode': False,\n",
       "   'created_utc': 1554770148,\n",
       "   'domain': 'self.depression',\n",
       "   'full_link': 'https://www.reddit.com/r/depression/comments/bb1fsc/help/',\n",
       "   'gildings': {'gid_1': 0, 'gid_2': 0, 'gid_3': 0},\n",
       "   'id': 'bb1fsc',\n",
       "   'is_crosspostable': True,\n",
       "   'is_meta': False,\n",
       "   'is_original_content': False,\n",
       "   'is_reddit_media_domain': False,\n",
       "   'is_robot_indexable': True,\n",
       "   'is_self': True,\n",
       "   'is_video': False,\n",
       "   'link_flair_background_color': '',\n",
       "   'link_flair_richtext': [],\n",
       "   'link_flair_text_color': 'dark',\n",
       "   'link_flair_type': 'text',\n",
       "   'locked': False,\n",
       "   'media_only': False,\n",
       "   'no_follow': True,\n",
       "   'num_comments': 0,\n",
       "   'num_crossposts': 0,\n",
       "   'over_18': False,\n",
       "   'parent_whitelist_status': 'no_ads',\n",
       "   'permalink': '/r/depression/comments/bb1fsc/help/',\n",
       "   'pinned': False,\n",
       "   'pwls': 0,\n",
       "   'retrieved_on': 1554770150,\n",
       "   'score': 1,\n",
       "   'selftext': 'My parents are going to be out of the house tomorrow and I’m thinking about ending my shit then. But I don’t want to fuck up the night they have planed and they’re flying out to my relatives funeral next week. Should I wait until after the funeral or just do it',\n",
       "   'send_replies': True,\n",
       "   'spoiler': False,\n",
       "   'stickied': False,\n",
       "   'subreddit': 'depression',\n",
       "   'subreddit_id': 't5_2qqqf',\n",
       "   'subreddit_subscribers': 470403,\n",
       "   'subreddit_type': 'public',\n",
       "   'suggested_sort': 'confidence',\n",
       "   'thumbnail': 'self',\n",
       "   'title': 'Help',\n",
       "   'url': 'https://www.reddit.com/r/depression/comments/bb1fsc/help/',\n",
       "   'whitelist_status': 'no_ads',\n",
       "   'wls': 0},\n",
       "  {'author': 'redstoolthrowawayy',\n",
       "   'author_flair_css_class': None,\n",
       "   'author_flair_richtext': [],\n",
       "   'author_flair_text': None,\n",
       "   'author_flair_type': 'text',\n",
       "   'author_fullname': 't2_14bliq',\n",
       "   'author_patreon_flair': False,\n",
       "   'can_mod_post': False,\n",
       "   'contest_mode': False,\n",
       "   'created_utc': 1554770016,\n",
       "   'domain': 'self.depression',\n",
       "   'full_link': 'https://www.reddit.com/r/depression/comments/bb1f0p/i_have_no_goal_no_ambition_no_meaning_no_joy/',\n",
       "   'gildings': {'gid_1': 0, 'gid_2': 0, 'gid_3': 0},\n",
       "   'id': 'bb1f0p',\n",
       "   'is_crosspostable': True,\n",
       "   'is_meta': False,\n",
       "   'is_original_content': False,\n",
       "   'is_reddit_media_domain': False,\n",
       "   'is_robot_indexable': True,\n",
       "   'is_self': True,\n",
       "   'is_video': False,\n",
       "   'link_flair_background_color': '',\n",
       "   'link_flair_richtext': [],\n",
       "   'link_flair_text_color': 'dark',\n",
       "   'link_flair_type': 'text',\n",
       "   'locked': False,\n",
       "   'media_only': False,\n",
       "   'no_follow': True,\n",
       "   'num_comments': 0,\n",
       "   'num_crossposts': 0,\n",
       "   'over_18': False,\n",
       "   'parent_whitelist_status': 'no_ads',\n",
       "   'permalink': '/r/depression/comments/bb1f0p/i_have_no_goal_no_ambition_no_meaning_no_joy/',\n",
       "   'pinned': False,\n",
       "   'pwls': 0,\n",
       "   'retrieved_on': 1554770017,\n",
       "   'score': 1,\n",
       "   'selftext': \"I'm a complete failure. No friends, no qualifications, no work or life experience. I'm 23 years old and yet I feel like I'm 18. Maybe it's because I've been living without meaning for the past 5 years.\",\n",
       "   'send_replies': True,\n",
       "   'spoiler': False,\n",
       "   'stickied': False,\n",
       "   'subreddit': 'depression',\n",
       "   'subreddit_id': 't5_2qqqf',\n",
       "   'subreddit_subscribers': 470403,\n",
       "   'subreddit_type': 'public',\n",
       "   'suggested_sort': 'confidence',\n",
       "   'thumbnail': 'self',\n",
       "   'title': 'I have no goal, no ambition, no meaning, no joy.',\n",
       "   'url': 'https://www.reddit.com/r/depression/comments/bb1f0p/i_have_no_goal_no_ambition_no_meaning_no_joy/',\n",
       "   'whitelist_status': 'no_ads',\n",
       "   'wls': 0},\n",
       "  {'author': 'WorldLieut8',\n",
       "   'author_flair_css_class': None,\n",
       "   'author_flair_richtext': [],\n",
       "   'author_flair_text': None,\n",
       "   'author_flair_type': 'text',\n",
       "   'author_fullname': 't2_elrm0lb',\n",
       "   'author_patreon_flair': False,\n",
       "   'can_mod_post': False,\n",
       "   'contest_mode': False,\n",
       "   'created_utc': 1554769949,\n",
       "   'domain': 'self.depression',\n",
       "   'full_link': 'https://www.reddit.com/r/depression/comments/bb1elc/i_almost_just_threw_myself_down_a_flight_of_stairs/',\n",
       "   'gildings': {'gid_1': 0, 'gid_2': 0, 'gid_3': 0},\n",
       "   'id': 'bb1elc',\n",
       "   'is_crosspostable': True,\n",
       "   'is_meta': False,\n",
       "   'is_original_content': False,\n",
       "   'is_reddit_media_domain': False,\n",
       "   'is_robot_indexable': True,\n",
       "   'is_self': True,\n",
       "   'is_video': False,\n",
       "   'link_flair_background_color': '',\n",
       "   'link_flair_richtext': [],\n",
       "   'link_flair_text_color': 'dark',\n",
       "   'link_flair_type': 'text',\n",
       "   'locked': False,\n",
       "   'media_only': False,\n",
       "   'no_follow': True,\n",
       "   'num_comments': 0,\n",
       "   'num_crossposts': 0,\n",
       "   'over_18': False,\n",
       "   'parent_whitelist_status': 'no_ads',\n",
       "   'permalink': '/r/depression/comments/bb1elc/i_almost_just_threw_myself_down_a_flight_of_stairs/',\n",
       "   'pinned': False,\n",
       "   'pwls': 0,\n",
       "   'retrieved_on': 1554769951,\n",
       "   'score': 1,\n",
       "   'selftext': 'I didn’t even blink or cry or look around. It was like an instinct. A tingle. Like, “if you do this things will finally change. Maybe for better or for worse but at least there will be change.”\\n\\nI’ve never experienced this before, and even while I’m writing this, I’m not scared or sad. Just sort of emotionless.',\n",
       "   'send_replies': True,\n",
       "   'spoiler': False,\n",
       "   'stickied': False,\n",
       "   'subreddit': 'depression',\n",
       "   'subreddit_id': 't5_2qqqf',\n",
       "   'subreddit_subscribers': 470402,\n",
       "   'subreddit_type': 'public',\n",
       "   'suggested_sort': 'confidence',\n",
       "   'thumbnail': 'self',\n",
       "   'title': 'I almost just threw myself down a flight of stairs',\n",
       "   'url': 'https://www.reddit.com/r/depression/comments/bb1elc/i_almost_just_threw_myself_down_a_flight_of_stairs/',\n",
       "   'whitelist_status': 'no_ads',\n",
       "   'wls': 0},\n",
       "  {'author': 'cinnaligarius',\n",
       "   'author_flair_css_class': None,\n",
       "   'author_flair_richtext': [],\n",
       "   'author_flair_text': None,\n",
       "   'author_flair_type': 'text',\n",
       "   'author_fullname': 't2_3kfjjnhx',\n",
       "   'author_patreon_flair': False,\n",
       "   'can_mod_post': False,\n",
       "   'contest_mode': False,\n",
       "   'created_utc': 1554769823,\n",
       "   'domain': 'self.depression',\n",
       "   'full_link': 'https://www.reddit.com/r/depression/comments/bb1du8/triggered_by_the_mirror/',\n",
       "   'gildings': {'gid_1': 0, 'gid_2': 0, 'gid_3': 0},\n",
       "   'id': 'bb1du8',\n",
       "   'is_crosspostable': True,\n",
       "   'is_meta': False,\n",
       "   'is_original_content': False,\n",
       "   'is_reddit_media_domain': False,\n",
       "   'is_robot_indexable': True,\n",
       "   'is_self': True,\n",
       "   'is_video': False,\n",
       "   'link_flair_background_color': '',\n",
       "   'link_flair_richtext': [],\n",
       "   'link_flair_text_color': 'dark',\n",
       "   'link_flair_type': 'text',\n",
       "   'locked': False,\n",
       "   'media_only': False,\n",
       "   'no_follow': True,\n",
       "   'num_comments': 0,\n",
       "   'num_crossposts': 0,\n",
       "   'over_18': False,\n",
       "   'parent_whitelist_status': 'no_ads',\n",
       "   'permalink': '/r/depression/comments/bb1du8/triggered_by_the_mirror/',\n",
       "   'pinned': False,\n",
       "   'pwls': 0,\n",
       "   'retrieved_on': 1554769824,\n",
       "   'score': 1,\n",
       "   'selftext': 'It might just be me but everytime I look in the mirror or camera I get so triggered bc I don’t see me i see a shell that hides what I rlly look like even tho I’m still ugly with the shell on.\\nI wish I was kid again bc I didn’t give a fuck and loved myself and was beautiful and now I’m ugly as fuck. Idk how to not care bc I know life is not abt looks yet it still effects every single thing in my life',\n",
       "   'send_replies': True,\n",
       "   'spoiler': False,\n",
       "   'stickied': False,\n",
       "   'subreddit': 'depression',\n",
       "   'subreddit_id': 't5_2qqqf',\n",
       "   'subreddit_subscribers': 470402,\n",
       "   'subreddit_type': 'public',\n",
       "   'suggested_sort': 'confidence',\n",
       "   'thumbnail': 'self',\n",
       "   'title': 'Triggered by the mirror',\n",
       "   'url': 'https://www.reddit.com/r/depression/comments/bb1du8/triggered_by_the_mirror/',\n",
       "   'whitelist_status': 'no_ads',\n",
       "   'wls': 0}]}"
      ]
     },
     "execution_count": 8,
     "metadata": {},
     "output_type": "execute_result"
    }
   ],
   "source": [
    "response.json()"
   ]
  },
  {
   "cell_type": "markdown",
   "metadata": {},
   "source": [
    "We can look at all the available fields in the dataset"
   ]
  },
  {
   "cell_type": "code",
   "execution_count": 8,
   "metadata": {},
   "outputs": [
    {
     "data": {
      "text/plain": [
       "dict_keys(['author', 'author_flair_css_class', 'author_flair_richtext', 'author_flair_text', 'author_flair_type', 'author_fullname', 'author_patreon_flair', 'can_mod_post', 'contest_mode', 'created_utc', 'domain', 'full_link', 'gildings', 'id', 'is_crosspostable', 'is_meta', 'is_original_content', 'is_reddit_media_domain', 'is_robot_indexable', 'is_self', 'is_video', 'link_flair_background_color', 'link_flair_richtext', 'link_flair_text_color', 'link_flair_type', 'locked', 'media_only', 'no_follow', 'num_comments', 'num_crossposts', 'over_18', 'parent_whitelist_status', 'permalink', 'pinned', 'pwls', 'retrieved_on', 'score', 'selftext', 'send_replies', 'spoiler', 'stickied', 'subreddit', 'subreddit_id', 'subreddit_subscribers', 'subreddit_type', 'suggested_sort', 'thumbnail', 'title', 'url', 'whitelist_status', 'wls'])"
      ]
     },
     "execution_count": 8,
     "metadata": {},
     "output_type": "execute_result"
    }
   ],
   "source": [
    "response.json()['data'][0].keys()"
   ]
  },
  {
   "cell_type": "markdown",
   "metadata": {},
   "source": [
    "The below will are the columns of interest"
   ]
  },
  {
   "cell_type": "code",
   "execution_count": 9,
   "metadata": {},
   "outputs": [],
   "source": [
    "col_list = ['author',\n",
    "            'author_fullname',\n",
    "            'subreddit',\n",
    "            'id',\n",
    "            'created_utc',\n",
    "            'retrieved_on',\n",
    "            'permalink',\n",
    "            'url',\n",
    "            'num_comments',\n",
    "            'title',\n",
    "            'selftext'\n",
    "            ]"
   ]
  },
  {
   "cell_type": "markdown",
   "metadata": {},
   "source": [
    " ## Querying Reddit and saving raw data in .json format:"
   ]
  },
  {
   "cell_type": "markdown",
   "metadata": {},
   "source": [
    "Writing a function for creating a logfile and formatting file names with a unique timestamp."
   ]
  },
  {
   "cell_type": "code",
   "execution_count": 9,
   "metadata": {},
   "outputs": [],
   "source": [
    "# Code snippet from Chris Sanatra - DSI TA\n",
    "\n",
    "def filename_format_log(file_path, \n",
    "                        logfile = '../assets/file_log.txt', \n",
    "                        now = round(time.time()), \n",
    "                        file_description = None): \n",
    "   \n",
    "    try:\n",
    "        ext = re.search('(?<!^)(?<!\\.)\\.(?!\\.)', file_path).start() \n",
    "    except:\n",
    "        raise NameError('Please enter a relative path with a file extension.') \n",
    "    \n",
    "    stamp = re.search('(?<!^)(?<!\\.)[a-z]+_[a-z]+(?=\\.)', file_path).start()\n",
    "    formatted_name = f'{file_path[:stamp]}{now}_{file_path[stamp:]}'  \n",
    "    if not file_description:\n",
    "        file_description = f'Pull: {time.asctime(time.gmtime(now))}'\n",
    "    with open(logfile, 'a+') as f:\n",
    "        f.write(f'{formatted_name}: {file_description}\\n')\n",
    "    return formatted_name, now, file_description"
   ]
  },
  {
   "cell_type": "markdown",
   "metadata": {},
   "source": [
    "Writing a function for collecting submissions and parsing into a dataframe with the features of interest, saving out the raw data for each pull. Request loop inspired: [(Source)](https://www.reddit.com/r/pushshift/comments/89pxra/pushshift_api_with_large_amounts_of_data/)."
   ]
  },
  {
   "cell_type": "code",
   "execution_count": 10,
   "metadata": {},
   "outputs": [],
   "source": [
    "def reddit_query(subreddits, n_samples=1500, searchType='submission', before=None, after=None):\n",
    "    url = f'https://api.pushshift.io/reddit/submission/search/'\n",
    "    last_comment = round(time.time())\n",
    "    comment_list = []\n",
    "    \n",
    "    run = 1\n",
    "    while len(comment_list) < n_samples:\n",
    "        \n",
    "        try:\n",
    "            print(f'Starting query {run}')\n",
    "            \n",
    "            params = {'searchType':searchType,\n",
    "              'subreddit':subreddits,\n",
    "              'sort':'desc',\n",
    "              'size':n_samples,\n",
    "              'before':last_comment-1,\n",
    "              'after':after,\n",
    "             }\n",
    "                \n",
    "            response = requests.get(url, params = params)\n",
    "            posts = response.json()['data']\n",
    "            \n",
    "            if len(posts) == 0:\n",
    "                last_comment = last_comment\n",
    "            else:\n",
    "                last_comment = posts[-1]['created_utc']\n",
    "                comment_list.extend(posts)\n",
    "                timestamp = posts[-1]['created_utc']\n",
    "                time.sleep(1) \n",
    "                run += 1\n",
    "        except:\n",
    "            if response.status_code != 200:\n",
    "                return f'Check status. Error code: {response.status_code}'\n",
    "            else:\n",
    "                return 'Error. Pull not completed.'\n",
    "    \n",
    "    formatted_name, now, file_description = filename_format_log(file_path =f'../data/raw_{searchType}s.json', now=timestamp)\n",
    "    with open(formatted_name, 'w+') as f:\n",
    "        json.dump(comment_list, f)\n",
    "    \n",
    "    print(f'Saved and completed query and returned {len(comment_list)} {searchType}s.')\n",
    "    print(f'Reddit text is ready for processing.')\n",
    "    return print(f'Last timestamp was {timestamp}.')"
   ]
  },
  {
   "cell_type": "markdown",
   "metadata": {},
   "source": [
    "Using the query function to collect 10000 submissions from each subreddit"
   ]
  },
  {
   "cell_type": "code",
   "execution_count": 12,
   "metadata": {},
   "outputs": [],
   "source": [
    "# reddit_query(subreddits='depression',\n",
    "#              n_samples=10000,\n",
    "#              searchType='submission')"
   ]
  },
  {
   "cell_type": "code",
   "execution_count": 13,
   "metadata": {},
   "outputs": [],
   "source": [
    "# reddit_query(subreddits='suicidewatch',\n",
    "#              n_samples=10000,\n",
    "#              searchType='submission')"
   ]
  },
  {
   "cell_type": "markdown",
   "metadata": {},
   "source": [
    "## Opening the Saved JSON Files"
   ]
  },
  {
   "cell_type": "code",
   "execution_count": 14,
   "metadata": {},
   "outputs": [],
   "source": [
    "with open(f'../data/1552716506_raw_submission_depression.json', 'r') as f:\n",
    "    depression_json = json.load(f)"
   ]
  },
  {
   "cell_type": "code",
   "execution_count": 15,
   "metadata": {},
   "outputs": [],
   "source": [
    "with open(f'../data/1550623407_raw_submission_suicidewatch.json', 'r') as f:\n",
    "    suicidewatch_json = json.load(f)"
   ]
  },
  {
   "cell_type": "markdown",
   "metadata": {},
   "source": [
    "Confirming the length of each json file is 10000"
   ]
  },
  {
   "cell_type": "code",
   "execution_count": 16,
   "metadata": {},
   "outputs": [
    {
     "data": {
      "text/plain": [
       "10000"
      ]
     },
     "execution_count": 16,
     "metadata": {},
     "output_type": "execute_result"
    }
   ],
   "source": [
    "len(suicidewatch_json)"
   ]
  },
  {
   "cell_type": "code",
   "execution_count": 17,
   "metadata": {},
   "outputs": [
    {
     "data": {
      "text/plain": [
       "10000"
      ]
     },
     "execution_count": 17,
     "metadata": {},
     "output_type": "execute_result"
    }
   ],
   "source": [
    "len(depression_json)"
   ]
  },
  {
   "cell_type": "markdown",
   "metadata": {},
   "source": [
    "We can few the first record from the suicidewatch subreddit"
   ]
  },
  {
   "cell_type": "code",
   "execution_count": 18,
   "metadata": {},
   "outputs": [
    {
     "data": {
      "text/plain": [
       "{'author': 'graciegrinch',\n",
       " 'author_flair_css_class': None,\n",
       " 'author_flair_richtext': [],\n",
       " 'author_flair_text': None,\n",
       " 'author_flair_type': 'text',\n",
       " 'author_fullname': 't2_236k8jvz',\n",
       " 'author_patreon_flair': False,\n",
       " 'can_mod_post': False,\n",
       " 'contest_mode': False,\n",
       " 'created_utc': 1554081775,\n",
       " 'domain': 'self.SuicideWatch',\n",
       " 'full_link': 'https://www.reddit.com/r/SuicideWatch/comments/b7vi8w/i_have_a_plan/',\n",
       " 'gildings': {'gid_1': 0, 'gid_2': 0, 'gid_3': 0},\n",
       " 'id': 'b7vi8w',\n",
       " 'is_crosspostable': False,\n",
       " 'is_meta': False,\n",
       " 'is_original_content': False,\n",
       " 'is_reddit_media_domain': False,\n",
       " 'is_robot_indexable': True,\n",
       " 'is_self': True,\n",
       " 'is_video': False,\n",
       " 'link_flair_background_color': '',\n",
       " 'link_flair_richtext': [],\n",
       " 'link_flair_text_color': 'dark',\n",
       " 'link_flair_type': 'text',\n",
       " 'locked': False,\n",
       " 'media_only': False,\n",
       " 'no_follow': True,\n",
       " 'num_comments': 1,\n",
       " 'num_crossposts': 0,\n",
       " 'over_18': False,\n",
       " 'parent_whitelist_status': 'no_ads',\n",
       " 'permalink': '/r/SuicideWatch/comments/b7vi8w/i_have_a_plan/',\n",
       " 'pinned': False,\n",
       " 'pwls': 0,\n",
       " 'retrieved_on': 1554081777,\n",
       " 'score': 1,\n",
       " 'selftext': 'idk. i don’t want to do this anymore',\n",
       " 'send_replies': True,\n",
       " 'spoiler': False,\n",
       " 'stickied': False,\n",
       " 'subreddit': 'SuicideWatch',\n",
       " 'subreddit_id': 't5_2qpzs',\n",
       " 'subreddit_subscribers': 126586,\n",
       " 'subreddit_type': 'public',\n",
       " 'thumbnail': 'self',\n",
       " 'title': 'i have a plan',\n",
       " 'url': 'https://www.reddit.com/r/SuicideWatch/comments/b7vi8w/i_have_a_plan/',\n",
       " 'whitelist_status': 'no_ads',\n",
       " 'wls': 0}"
      ]
     },
     "execution_count": 18,
     "metadata": {},
     "output_type": "execute_result"
    }
   ],
   "source": [
    "suicidewatch_json[0]"
   ]
  },
  {
   "cell_type": "markdown",
   "metadata": {},
   "source": [
    "### Parsing the json into a Pandas DataFrame"
   ]
  },
  {
   "cell_type": "markdown",
   "metadata": {},
   "source": [
    "Writing a function to retrieve the columns of interest and convert the json to a dataframe"
   ]
  },
  {
   "cell_type": "code",
   "execution_count": 20,
   "metadata": {},
   "outputs": [],
   "source": [
    "def reddit_parse(json_data):\n",
    "    \n",
    "    col_list = ['author',\n",
    "            'author_fullname',\n",
    "            'subreddit',\n",
    "            'id',\n",
    "            'created_utc',\n",
    "            'retrieved_on',\n",
    "            'permalink',\n",
    "            'url',\n",
    "            'num_comments',\n",
    "            'title',\n",
    "            'selftext'\n",
    "            ]\n",
    "    \n",
    "    comments_df = pd.DataFrame(json_data)\n",
    "    comments_df = comments_df[col_list]\n",
    "    \n",
    "#     comments_df.rename(columns={'subreddit':'suicidewatch'}, inplace=True)\n",
    "#     comments_df['suicidewatch'] = comments_df['suicidewatch'].map({'depression':0, 'suicidewatch':1})\n",
    "\n",
    "    return comments_df[col_list]"
   ]
  },
  {
   "cell_type": "markdown",
   "metadata": {},
   "source": [
    "Reviewing the shape of the dataframe to ensure correct transformation"
   ]
  },
  {
   "cell_type": "code",
   "execution_count": 21,
   "metadata": {},
   "outputs": [],
   "source": [
    "df_suicidewatch = reddit_parse(suicidewatch_json)"
   ]
  },
  {
   "cell_type": "code",
   "execution_count": 22,
   "metadata": {},
   "outputs": [
    {
     "data": {
      "text/plain": [
       "(10000, 11)"
      ]
     },
     "execution_count": 22,
     "metadata": {},
     "output_type": "execute_result"
    }
   ],
   "source": [
    "df_suicidewatch.shape"
   ]
  },
  {
   "cell_type": "code",
   "execution_count": 23,
   "metadata": {},
   "outputs": [],
   "source": [
    "df_depression = reddit_parse(depression_json)"
   ]
  },
  {
   "cell_type": "code",
   "execution_count": 24,
   "metadata": {},
   "outputs": [
    {
     "data": {
      "text/plain": [
       "(10000, 11)"
      ]
     },
     "execution_count": 24,
     "metadata": {},
     "output_type": "execute_result"
    }
   ],
   "source": [
    "df_depression.shape"
   ]
  },
  {
   "cell_type": "markdown",
   "metadata": {},
   "source": [
    "Shape corresponds with expected values. Reviewing the head of the dataframe to ensure data was correctly labeled. "
   ]
  },
  {
   "cell_type": "code",
   "execution_count": 25,
   "metadata": {},
   "outputs": [
    {
     "data": {
      "text/html": [
       "<div>\n",
       "<style scoped>\n",
       "    .dataframe tbody tr th:only-of-type {\n",
       "        vertical-align: middle;\n",
       "    }\n",
       "\n",
       "    .dataframe tbody tr th {\n",
       "        vertical-align: top;\n",
       "    }\n",
       "\n",
       "    .dataframe thead th {\n",
       "        text-align: right;\n",
       "    }\n",
       "</style>\n",
       "<table border=\"1\" class=\"dataframe\">\n",
       "  <thead>\n",
       "    <tr style=\"text-align: right;\">\n",
       "      <th></th>\n",
       "      <th>author</th>\n",
       "      <th>author_fullname</th>\n",
       "      <th>subreddit</th>\n",
       "      <th>id</th>\n",
       "      <th>created_utc</th>\n",
       "      <th>retrieved_on</th>\n",
       "      <th>permalink</th>\n",
       "      <th>url</th>\n",
       "      <th>num_comments</th>\n",
       "      <th>title</th>\n",
       "      <th>selftext</th>\n",
       "    </tr>\n",
       "  </thead>\n",
       "  <tbody>\n",
       "    <tr>\n",
       "      <th>0</th>\n",
       "      <td>graciegrinch</td>\n",
       "      <td>t2_236k8jvz</td>\n",
       "      <td>SuicideWatch</td>\n",
       "      <td>b7vi8w</td>\n",
       "      <td>1554081775</td>\n",
       "      <td>1554081777</td>\n",
       "      <td>/r/SuicideWatch/comments/b7vi8w/i_have_a_plan/</td>\n",
       "      <td>https://www.reddit.com/r/SuicideWatch/comments...</td>\n",
       "      <td>1</td>\n",
       "      <td>i have a plan</td>\n",
       "      <td>idk. i don’t want to do this anymore</td>\n",
       "    </tr>\n",
       "    <tr>\n",
       "      <th>1</th>\n",
       "      <td>hungryyyfordeathv2</td>\n",
       "      <td>t2_3ik6dp65</td>\n",
       "      <td>SuicideWatch</td>\n",
       "      <td>b7vhu2</td>\n",
       "      <td>1554081705</td>\n",
       "      <td>1554081707</td>\n",
       "      <td>/r/SuicideWatch/comments/b7vhu2/oof_an_update/</td>\n",
       "      <td>https://www.reddit.com/r/SuicideWatch/comments...</td>\n",
       "      <td>0</td>\n",
       "      <td>oof: an update</td>\n",
       "      <td>so, it was day three of VSED but my parents fo...</td>\n",
       "    </tr>\n",
       "    <tr>\n",
       "      <th>2</th>\n",
       "      <td>im-not-worth-it</td>\n",
       "      <td>t2_15fss0</td>\n",
       "      <td>SuicideWatch</td>\n",
       "      <td>b7vc47</td>\n",
       "      <td>1554080763</td>\n",
       "      <td>1554080764</td>\n",
       "      <td>/r/SuicideWatch/comments/b7vc47/when_you_never...</td>\n",
       "      <td>https://www.reddit.com/r/SuicideWatch/comments...</td>\n",
       "      <td>0</td>\n",
       "      <td>When you never asked to be born and hate your ...</td>\n",
       "      <td>...not giving a damn about how you feel.</td>\n",
       "    </tr>\n",
       "    <tr>\n",
       "      <th>3</th>\n",
       "      <td>beyondphilosophy1996</td>\n",
       "      <td>t2_23ywnrzy</td>\n",
       "      <td>SuicideWatch</td>\n",
       "      <td>b7v99u</td>\n",
       "      <td>1554080307</td>\n",
       "      <td>1554080307</td>\n",
       "      <td>/r/SuicideWatch/comments/b7v99u/i_think_tonigh...</td>\n",
       "      <td>https://www.reddit.com/r/SuicideWatch/comments...</td>\n",
       "      <td>1</td>\n",
       "      <td>I think tonight's the night, and I just want t...</td>\n",
       "      <td>I'm not special, millions and millions of peop...</td>\n",
       "    </tr>\n",
       "    <tr>\n",
       "      <th>4</th>\n",
       "      <td>HeWillBeCalledEzra</td>\n",
       "      <td>t2_3e3vfshi</td>\n",
       "      <td>SuicideWatch</td>\n",
       "      <td>b7v7h4</td>\n",
       "      <td>1554080004</td>\n",
       "      <td>1554080005</td>\n",
       "      <td>/r/SuicideWatch/comments/b7v7h4/goodbye_my_not...</td>\n",
       "      <td>https://www.reddit.com/r/SuicideWatch/comments...</td>\n",
       "      <td>3</td>\n",
       "      <td>Goodbye. My notes.. I'm giving up</td>\n",
       "      <td>\"This is my first letter. I have two. If you'r...</td>\n",
       "    </tr>\n",
       "  </tbody>\n",
       "</table>\n",
       "</div>"
      ],
      "text/plain": [
       "                 author author_fullname     subreddit      id  created_utc  \\\n",
       "0          graciegrinch     t2_236k8jvz  SuicideWatch  b7vi8w   1554081775   \n",
       "1    hungryyyfordeathv2     t2_3ik6dp65  SuicideWatch  b7vhu2   1554081705   \n",
       "2       im-not-worth-it       t2_15fss0  SuicideWatch  b7vc47   1554080763   \n",
       "3  beyondphilosophy1996     t2_23ywnrzy  SuicideWatch  b7v99u   1554080307   \n",
       "4    HeWillBeCalledEzra     t2_3e3vfshi  SuicideWatch  b7v7h4   1554080004   \n",
       "\n",
       "   retrieved_on                                          permalink  \\\n",
       "0    1554081777     /r/SuicideWatch/comments/b7vi8w/i_have_a_plan/   \n",
       "1    1554081707     /r/SuicideWatch/comments/b7vhu2/oof_an_update/   \n",
       "2    1554080764  /r/SuicideWatch/comments/b7vc47/when_you_never...   \n",
       "3    1554080307  /r/SuicideWatch/comments/b7v99u/i_think_tonigh...   \n",
       "4    1554080005  /r/SuicideWatch/comments/b7v7h4/goodbye_my_not...   \n",
       "\n",
       "                                                 url  num_comments  \\\n",
       "0  https://www.reddit.com/r/SuicideWatch/comments...             1   \n",
       "1  https://www.reddit.com/r/SuicideWatch/comments...             0   \n",
       "2  https://www.reddit.com/r/SuicideWatch/comments...             0   \n",
       "3  https://www.reddit.com/r/SuicideWatch/comments...             1   \n",
       "4  https://www.reddit.com/r/SuicideWatch/comments...             3   \n",
       "\n",
       "                                               title  \\\n",
       "0                                      i have a plan   \n",
       "1                                     oof: an update   \n",
       "2  When you never asked to be born and hate your ...   \n",
       "3  I think tonight's the night, and I just want t...   \n",
       "4                  Goodbye. My notes.. I'm giving up   \n",
       "\n",
       "                                            selftext  \n",
       "0               idk. i don’t want to do this anymore  \n",
       "1  so, it was day three of VSED but my parents fo...  \n",
       "2         ...not giving a damn about how you feel.    \n",
       "3  I'm not special, millions and millions of peop...  \n",
       "4  \"This is my first letter. I have two. If you'r...  "
      ]
     },
     "execution_count": 25,
     "metadata": {},
     "output_type": "execute_result"
    }
   ],
   "source": [
    "df_suicidewatch.head(3)"
   ]
  },
  {
   "cell_type": "code",
   "execution_count": 26,
   "metadata": {},
   "outputs": [
    {
     "data": {
      "text/html": [
       "<div>\n",
       "<style scoped>\n",
       "    .dataframe tbody tr th:only-of-type {\n",
       "        vertical-align: middle;\n",
       "    }\n",
       "\n",
       "    .dataframe tbody tr th {\n",
       "        vertical-align: top;\n",
       "    }\n",
       "\n",
       "    .dataframe thead th {\n",
       "        text-align: right;\n",
       "    }\n",
       "</style>\n",
       "<table border=\"1\" class=\"dataframe\">\n",
       "  <thead>\n",
       "    <tr style=\"text-align: right;\">\n",
       "      <th></th>\n",
       "      <th>author</th>\n",
       "      <th>author_fullname</th>\n",
       "      <th>subreddit</th>\n",
       "      <th>id</th>\n",
       "      <th>created_utc</th>\n",
       "      <th>retrieved_on</th>\n",
       "      <th>permalink</th>\n",
       "      <th>url</th>\n",
       "      <th>num_comments</th>\n",
       "      <th>title</th>\n",
       "      <th>selftext</th>\n",
       "    </tr>\n",
       "  </thead>\n",
       "  <tbody>\n",
       "    <tr>\n",
       "      <th>0</th>\n",
       "      <td>89throwawayX</td>\n",
       "      <td>t2_3insi9we</td>\n",
       "      <td>depression</td>\n",
       "      <td>b7vft8</td>\n",
       "      <td>1554081373</td>\n",
       "      <td>1554081375</td>\n",
       "      <td>/r/depression/comments/b7vft8/i_will_have_to_c...</td>\n",
       "      <td>https://www.reddit.com/r/depression/comments/b...</td>\n",
       "      <td>0</td>\n",
       "      <td>I will have to cut ties w/ my family and it hu...</td>\n",
       "      <td>[removed]</td>\n",
       "    </tr>\n",
       "    <tr>\n",
       "      <th>1</th>\n",
       "      <td>gothic_reality</td>\n",
       "      <td>t2_39c20e2f</td>\n",
       "      <td>depression</td>\n",
       "      <td>b7vfje</td>\n",
       "      <td>1554081327</td>\n",
       "      <td>1554081328</td>\n",
       "      <td>/r/depression/comments/b7vfje/how_do_i_explain...</td>\n",
       "      <td>https://www.reddit.com/r/depression/comments/b...</td>\n",
       "      <td>0</td>\n",
       "      <td>How do i explain to my mom that liking dark st...</td>\n",
       "      <td>I love my mom, but sometimes she overreacts to...</td>\n",
       "    </tr>\n",
       "    <tr>\n",
       "      <th>2</th>\n",
       "      <td>3453456346346</td>\n",
       "      <td>t2_335d0qqi</td>\n",
       "      <td>depression</td>\n",
       "      <td>b7vf2d</td>\n",
       "      <td>1554081250</td>\n",
       "      <td>1554081251</td>\n",
       "      <td>/r/depression/comments/b7vf2d/i_want_to_lie_do...</td>\n",
       "      <td>https://www.reddit.com/r/depression/comments/b...</td>\n",
       "      <td>0</td>\n",
       "      <td>I want to lie down on a bed and curl up to sle...</td>\n",
       "      <td>I hate doing anything - i hate typing this but...</td>\n",
       "    </tr>\n",
       "    <tr>\n",
       "      <th>3</th>\n",
       "      <td>ravenkills273</td>\n",
       "      <td>t2_1493cg</td>\n",
       "      <td>depression</td>\n",
       "      <td>b7veer</td>\n",
       "      <td>1554081137</td>\n",
       "      <td>1554081138</td>\n",
       "      <td>/r/depression/comments/b7veer/the_phrase_life_...</td>\n",
       "      <td>https://www.reddit.com/r/depression/comments/b...</td>\n",
       "      <td>1</td>\n",
       "      <td>The phrase “life is short” is bullshit.</td>\n",
       "      <td>I’m 21 years old, and everyone tells me that t...</td>\n",
       "    </tr>\n",
       "    <tr>\n",
       "      <th>4</th>\n",
       "      <td>sofresh510</td>\n",
       "      <td>t2_11m461</td>\n",
       "      <td>depression</td>\n",
       "      <td>b7vb7c</td>\n",
       "      <td>1554080619</td>\n",
       "      <td>1554080620</td>\n",
       "      <td>/r/depression/comments/b7vb7c/why_is_it_that_i...</td>\n",
       "      <td>https://www.reddit.com/r/depression/comments/b...</td>\n",
       "      <td>0</td>\n",
       "      <td>Why is it that I just want the day to end alre...</td>\n",
       "      <td>[removed]</td>\n",
       "    </tr>\n",
       "  </tbody>\n",
       "</table>\n",
       "</div>"
      ],
      "text/plain": [
       "           author author_fullname   subreddit      id  created_utc  \\\n",
       "0    89throwawayX     t2_3insi9we  depression  b7vft8   1554081373   \n",
       "1  gothic_reality     t2_39c20e2f  depression  b7vfje   1554081327   \n",
       "2   3453456346346     t2_335d0qqi  depression  b7vf2d   1554081250   \n",
       "3   ravenkills273       t2_1493cg  depression  b7veer   1554081137   \n",
       "4      sofresh510       t2_11m461  depression  b7vb7c   1554080619   \n",
       "\n",
       "   retrieved_on                                          permalink  \\\n",
       "0    1554081375  /r/depression/comments/b7vft8/i_will_have_to_c...   \n",
       "1    1554081328  /r/depression/comments/b7vfje/how_do_i_explain...   \n",
       "2    1554081251  /r/depression/comments/b7vf2d/i_want_to_lie_do...   \n",
       "3    1554081138  /r/depression/comments/b7veer/the_phrase_life_...   \n",
       "4    1554080620  /r/depression/comments/b7vb7c/why_is_it_that_i...   \n",
       "\n",
       "                                                 url  num_comments  \\\n",
       "0  https://www.reddit.com/r/depression/comments/b...             0   \n",
       "1  https://www.reddit.com/r/depression/comments/b...             0   \n",
       "2  https://www.reddit.com/r/depression/comments/b...             0   \n",
       "3  https://www.reddit.com/r/depression/comments/b...             1   \n",
       "4  https://www.reddit.com/r/depression/comments/b...             0   \n",
       "\n",
       "                                               title  \\\n",
       "0  I will have to cut ties w/ my family and it hu...   \n",
       "1  How do i explain to my mom that liking dark st...   \n",
       "2  I want to lie down on a bed and curl up to sle...   \n",
       "3            The phrase “life is short” is bullshit.   \n",
       "4  Why is it that I just want the day to end alre...   \n",
       "\n",
       "                                            selftext  \n",
       "0                                          [removed]  \n",
       "1  I love my mom, but sometimes she overreacts to...  \n",
       "2  I hate doing anything - i hate typing this but...  \n",
       "3  I’m 21 years old, and everyone tells me that t...  \n",
       "4                                          [removed]  "
      ]
     },
     "execution_count": 26,
     "metadata": {},
     "output_type": "execute_result"
    }
   ],
   "source": [
    "df_depression.head(3)"
   ]
  },
  {
   "cell_type": "markdown",
   "metadata": {},
   "source": [
    "### Saving Dataframes to CSV files"
   ]
  },
  {
   "cell_type": "code",
   "execution_count": 28,
   "metadata": {},
   "outputs": [],
   "source": [
    "# df_depression.to_csv('../data/df_depression.csv',index=True)\n",
    "\n",
    "# df_suicidewatch.to_csv('../data/df_suicidewatch.csv',index=True)"
   ]
  }
 ],
 "metadata": {
  "kernelspec": {
   "display_name": "Python 3",
   "language": "python",
   "name": "python3"
  },
  "language_info": {
   "codemirror_mode": {
    "name": "ipython",
    "version": 3
   },
   "file_extension": ".py",
   "mimetype": "text/x-python",
   "name": "python",
   "nbconvert_exporter": "python",
   "pygments_lexer": "ipython3",
   "version": "3.7.1"
  }
 },
 "nbformat": 4,
 "nbformat_minor": 2
}
