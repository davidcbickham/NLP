{
 "cells": [
  {
   "cell_type": "markdown",
   "metadata": {},
   "source": [
    "# Random Forest Model"
   ]
  },
  {
   "cell_type": "markdown",
   "metadata": {},
   "source": [
    "## Importing Libraries"
   ]
  },
  {
   "cell_type": "code",
   "execution_count": 1,
   "metadata": {},
   "outputs": [],
   "source": [
    "import requests, json, time, re\n",
    "import pandas as pd\n",
    "import numpy as np\n",
    "\n",
    "from sklearn.ensemble import RandomForestClassifier, ExtraTreesClassifier\n",
    "from sklearn.feature_extraction.text import TfidfVectorizer\n",
    "from sklearn.model_selection import train_test_split, GridSearchCV, cross_val_score, RandomizedSearchCV\n",
    "\n",
    "import matplotlib.pyplot as plt\n",
    "import seaborn as sns\n",
    "\n",
    "%matplotlib inline"
   ]
  },
  {
   "cell_type": "code",
   "execution_count": 2,
   "metadata": {},
   "outputs": [
    {
     "data": {
      "text/html": [
       "<div>\n",
       "<style scoped>\n",
       "    .dataframe tbody tr th:only-of-type {\n",
       "        vertical-align: middle;\n",
       "    }\n",
       "\n",
       "    .dataframe tbody tr th {\n",
       "        vertical-align: top;\n",
       "    }\n",
       "\n",
       "    .dataframe thead th {\n",
       "        text-align: right;\n",
       "    }\n",
       "</style>\n",
       "<table border=\"1\" class=\"dataframe\">\n",
       "  <thead>\n",
       "    <tr style=\"text-align: right;\">\n",
       "      <th></th>\n",
       "      <th>author</th>\n",
       "      <th>author_fullname</th>\n",
       "      <th>subreddit_suicidewatch</th>\n",
       "      <th>id</th>\n",
       "      <th>created_utc</th>\n",
       "      <th>retrieved_on</th>\n",
       "      <th>permalink</th>\n",
       "      <th>url</th>\n",
       "      <th>num_comments</th>\n",
       "      <th>title</th>\n",
       "      <th>selftext</th>\n",
       "      <th>selftext_char_cnt</th>\n",
       "      <th>selftext_word_count</th>\n",
       "    </tr>\n",
       "  </thead>\n",
       "  <tbody>\n",
       "    <tr>\n",
       "      <th>0</th>\n",
       "      <td>gothic_reality</td>\n",
       "      <td>t2_39c20e2f</td>\n",
       "      <td>0</td>\n",
       "      <td>b7vfje</td>\n",
       "      <td>1554081327</td>\n",
       "      <td>1554081328</td>\n",
       "      <td>/r/depression/comments/b7vfje/how_do_i_explain...</td>\n",
       "      <td>https://www.reddit.com/r/depression/comments/b...</td>\n",
       "      <td>0</td>\n",
       "      <td>How do i explain to my mom that liking dark st...</td>\n",
       "      <td>I love my mom, but sometimes she overreacts to...</td>\n",
       "      <td>391</td>\n",
       "      <td>80</td>\n",
       "    </tr>\n",
       "    <tr>\n",
       "      <th>1</th>\n",
       "      <td>3453456346346</td>\n",
       "      <td>t2_335d0qqi</td>\n",
       "      <td>0</td>\n",
       "      <td>b7vf2d</td>\n",
       "      <td>1554081250</td>\n",
       "      <td>1554081251</td>\n",
       "      <td>/r/depression/comments/b7vf2d/i_want_to_lie_do...</td>\n",
       "      <td>https://www.reddit.com/r/depression/comments/b...</td>\n",
       "      <td>0</td>\n",
       "      <td>I want to lie down on a bed and curl up to sle...</td>\n",
       "      <td>I hate doing anything - i hate typing this but...</td>\n",
       "      <td>762</td>\n",
       "      <td>153</td>\n",
       "    </tr>\n",
       "  </tbody>\n",
       "</table>\n",
       "</div>"
      ],
      "text/plain": [
       "           author author_fullname  subreddit_suicidewatch      id  \\\n",
       "0  gothic_reality     t2_39c20e2f                       0  b7vfje   \n",
       "1   3453456346346     t2_335d0qqi                       0  b7vf2d   \n",
       "\n",
       "   created_utc  retrieved_on  \\\n",
       "0   1554081327    1554081328   \n",
       "1   1554081250    1554081251   \n",
       "\n",
       "                                           permalink  \\\n",
       "0  /r/depression/comments/b7vfje/how_do_i_explain...   \n",
       "1  /r/depression/comments/b7vf2d/i_want_to_lie_do...   \n",
       "\n",
       "                                                 url  num_comments  \\\n",
       "0  https://www.reddit.com/r/depression/comments/b...             0   \n",
       "1  https://www.reddit.com/r/depression/comments/b...             0   \n",
       "\n",
       "                                               title  \\\n",
       "0  How do i explain to my mom that liking dark st...   \n",
       "1  I want to lie down on a bed and curl up to sle...   \n",
       "\n",
       "                                            selftext  selftext_char_cnt  \\\n",
       "0  I love my mom, but sometimes she overreacts to...                391   \n",
       "1  I hate doing anything - i hate typing this but...                762   \n",
       "\n",
       "   selftext_word_count  \n",
       "0                   80  \n",
       "1                  153  "
      ]
     },
     "execution_count": 2,
     "metadata": {},
     "output_type": "execute_result"
    }
   ],
   "source": [
    "df = pd.read_csv('../data/df_combined.csv',index_col='Unnamed: 0')\n",
    "df.head(2)"
   ]
  },
  {
   "cell_type": "markdown",
   "metadata": {},
   "source": [
    "## Assigning X and Y Variables\n",
    "\n",
    "Our y, 'subreddit_suicidewatch' is our response variable that we're trying to correctly classify. The 'selftext' will be the foundation of our predictor variables. We will vectorize this text using the TD-IDF method."
   ]
  },
  {
   "cell_type": "code",
   "execution_count": 3,
   "metadata": {},
   "outputs": [],
   "source": [
    "X = df[['selftext']]\n",
    "y = df['subreddit_suicidewatch']"
   ]
  },
  {
   "cell_type": "markdown",
   "metadata": {},
   "source": [
    "## Train/Test/Split\n",
    "\n",
    "Next we'll use `train_test_split` to create a train and test set for our data. We'll train our model on the training data and test our fitted model on the test date to measure our accuracy. By default, we'll fit our model on 75% of the observations (training data) and use the remaining 25% to generate our predictions."
   ]
  },
  {
   "cell_type": "code",
   "execution_count": 4,
   "metadata": {},
   "outputs": [],
   "source": [
    "np.random.seed(23)\n",
    "X_train, X_test, y_train, y_test = train_test_split(X, y, \n",
    "                                                    stratify=y\n",
    "                                                   )"
   ]
  },
  {
   "cell_type": "markdown",
   "metadata": {},
   "source": [
    "## Instantiate TDIDF\n",
    "\n",
    "TF-IDF stands 'Term Frequency — Inverse Data Frequency'. It provides both a measure for how often a word is present in a given document, while taking into account how often the word appears across the entire corpus of documents.\n",
    "\n",
    "The 'TF' stands for 'Term Frequency' and is the ratio of number of times the word appears in a document relative to the total number of words in that document. If the word appears more frequently, the value will increase\n",
    "\n",
    "The 'IDF' stands for Inverse Document Frequency, it applies a weight corresponding to how often a word occurs across all documents. For instance, words that are present in many documents will have a lower IDF value, while words that are more rare will have a higher IDF value."
   ]
  },
  {
   "cell_type": "code",
   "execution_count": 5,
   "metadata": {},
   "outputs": [],
   "source": [
    "tfidf = TfidfVectorizer(stop_words='english', min_df=5, max_df=.95)"
   ]
  },
  {
   "cell_type": "code",
   "execution_count": 6,
   "metadata": {},
   "outputs": [],
   "source": [
    "train_raw = tfidf.fit_transform(X_train['selftext'])"
   ]
  },
  {
   "cell_type": "markdown",
   "metadata": {},
   "source": [
    "### Creating a Sparse Matrix\n",
    "\n",
    "We'll convert the tfidf matrix to a sparse data frame. Sparse data frames contain mostly zeros. Stored apprpriate data in a sparse matrix allow the matrix to be stored more efficiently, and typically speed up machine learning processes"
   ]
  },
  {
   "cell_type": "code",
   "execution_count": 7,
   "metadata": {},
   "outputs": [
    {
     "data": {
      "text/html": [
       "<div>\n",
       "<style scoped>\n",
       "    .dataframe tbody tr th:only-of-type {\n",
       "        vertical-align: middle;\n",
       "    }\n",
       "\n",
       "    .dataframe tbody tr th {\n",
       "        vertical-align: top;\n",
       "    }\n",
       "\n",
       "    .dataframe thead th {\n",
       "        text-align: right;\n",
       "    }\n",
       "</style>\n",
       "<table border=\"1\" class=\"dataframe\">\n",
       "  <thead>\n",
       "    <tr style=\"text-align: right;\">\n",
       "      <th></th>\n",
       "      <th>00</th>\n",
       "      <th>000</th>\n",
       "      <th>00am</th>\n",
       "      <th>01</th>\n",
       "      <th>03</th>\n",
       "      <th>10</th>\n",
       "      <th>100</th>\n",
       "      <th>1000</th>\n",
       "      <th>100k</th>\n",
       "      <th>100mg</th>\n",
       "      <th>...</th>\n",
       "      <th>yup</th>\n",
       "      <th>zaps</th>\n",
       "      <th>zealand</th>\n",
       "      <th>zen</th>\n",
       "      <th>zero</th>\n",
       "      <th>zoloft</th>\n",
       "      <th>zombie</th>\n",
       "      <th>zone</th>\n",
       "      <th>zoned</th>\n",
       "      <th>zoning</th>\n",
       "    </tr>\n",
       "  </thead>\n",
       "  <tbody>\n",
       "    <tr>\n",
       "      <th>0</th>\n",
       "      <td>NaN</td>\n",
       "      <td>NaN</td>\n",
       "      <td>NaN</td>\n",
       "      <td>NaN</td>\n",
       "      <td>NaN</td>\n",
       "      <td>NaN</td>\n",
       "      <td>NaN</td>\n",
       "      <td>NaN</td>\n",
       "      <td>NaN</td>\n",
       "      <td>NaN</td>\n",
       "      <td>...</td>\n",
       "      <td>NaN</td>\n",
       "      <td>NaN</td>\n",
       "      <td>NaN</td>\n",
       "      <td>NaN</td>\n",
       "      <td>NaN</td>\n",
       "      <td>NaN</td>\n",
       "      <td>NaN</td>\n",
       "      <td>NaN</td>\n",
       "      <td>NaN</td>\n",
       "      <td>NaN</td>\n",
       "    </tr>\n",
       "    <tr>\n",
       "      <th>1</th>\n",
       "      <td>NaN</td>\n",
       "      <td>NaN</td>\n",
       "      <td>NaN</td>\n",
       "      <td>NaN</td>\n",
       "      <td>NaN</td>\n",
       "      <td>NaN</td>\n",
       "      <td>NaN</td>\n",
       "      <td>NaN</td>\n",
       "      <td>NaN</td>\n",
       "      <td>NaN</td>\n",
       "      <td>...</td>\n",
       "      <td>NaN</td>\n",
       "      <td>NaN</td>\n",
       "      <td>NaN</td>\n",
       "      <td>NaN</td>\n",
       "      <td>NaN</td>\n",
       "      <td>NaN</td>\n",
       "      <td>NaN</td>\n",
       "      <td>NaN</td>\n",
       "      <td>NaN</td>\n",
       "      <td>NaN</td>\n",
       "    </tr>\n",
       "    <tr>\n",
       "      <th>2</th>\n",
       "      <td>NaN</td>\n",
       "      <td>NaN</td>\n",
       "      <td>NaN</td>\n",
       "      <td>NaN</td>\n",
       "      <td>NaN</td>\n",
       "      <td>NaN</td>\n",
       "      <td>NaN</td>\n",
       "      <td>NaN</td>\n",
       "      <td>NaN</td>\n",
       "      <td>NaN</td>\n",
       "      <td>...</td>\n",
       "      <td>NaN</td>\n",
       "      <td>NaN</td>\n",
       "      <td>NaN</td>\n",
       "      <td>NaN</td>\n",
       "      <td>NaN</td>\n",
       "      <td>NaN</td>\n",
       "      <td>NaN</td>\n",
       "      <td>NaN</td>\n",
       "      <td>NaN</td>\n",
       "      <td>NaN</td>\n",
       "    </tr>\n",
       "    <tr>\n",
       "      <th>3</th>\n",
       "      <td>NaN</td>\n",
       "      <td>NaN</td>\n",
       "      <td>NaN</td>\n",
       "      <td>NaN</td>\n",
       "      <td>NaN</td>\n",
       "      <td>NaN</td>\n",
       "      <td>NaN</td>\n",
       "      <td>NaN</td>\n",
       "      <td>NaN</td>\n",
       "      <td>NaN</td>\n",
       "      <td>...</td>\n",
       "      <td>NaN</td>\n",
       "      <td>NaN</td>\n",
       "      <td>NaN</td>\n",
       "      <td>NaN</td>\n",
       "      <td>NaN</td>\n",
       "      <td>NaN</td>\n",
       "      <td>NaN</td>\n",
       "      <td>NaN</td>\n",
       "      <td>NaN</td>\n",
       "      <td>NaN</td>\n",
       "    </tr>\n",
       "    <tr>\n",
       "      <th>4</th>\n",
       "      <td>NaN</td>\n",
       "      <td>NaN</td>\n",
       "      <td>NaN</td>\n",
       "      <td>NaN</td>\n",
       "      <td>NaN</td>\n",
       "      <td>NaN</td>\n",
       "      <td>NaN</td>\n",
       "      <td>NaN</td>\n",
       "      <td>NaN</td>\n",
       "      <td>NaN</td>\n",
       "      <td>...</td>\n",
       "      <td>NaN</td>\n",
       "      <td>NaN</td>\n",
       "      <td>NaN</td>\n",
       "      <td>NaN</td>\n",
       "      <td>NaN</td>\n",
       "      <td>NaN</td>\n",
       "      <td>NaN</td>\n",
       "      <td>NaN</td>\n",
       "      <td>NaN</td>\n",
       "      <td>NaN</td>\n",
       "    </tr>\n",
       "  </tbody>\n",
       "</table>\n",
       "<p>5 rows × 8860 columns</p>\n",
       "</div>"
      ],
      "text/plain": [
       "   00  000  00am  01  03  10  100  1000  100k  100mg  ...  yup  zaps  zealand  \\\n",
       "0 NaN  NaN   NaN NaN NaN NaN  NaN   NaN   NaN    NaN  ...  NaN   NaN      NaN   \n",
       "1 NaN  NaN   NaN NaN NaN NaN  NaN   NaN   NaN    NaN  ...  NaN   NaN      NaN   \n",
       "2 NaN  NaN   NaN NaN NaN NaN  NaN   NaN   NaN    NaN  ...  NaN   NaN      NaN   \n",
       "3 NaN  NaN   NaN NaN NaN NaN  NaN   NaN   NaN    NaN  ...  NaN   NaN      NaN   \n",
       "4 NaN  NaN   NaN NaN NaN NaN  NaN   NaN   NaN    NaN  ...  NaN   NaN      NaN   \n",
       "\n",
       "   zen  zero  zoloft  zombie  zone  zoned  zoning  \n",
       "0  NaN   NaN     NaN     NaN   NaN    NaN     NaN  \n",
       "1  NaN   NaN     NaN     NaN   NaN    NaN     NaN  \n",
       "2  NaN   NaN     NaN     NaN   NaN    NaN     NaN  \n",
       "3  NaN   NaN     NaN     NaN   NaN    NaN     NaN  \n",
       "4  NaN   NaN     NaN     NaN   NaN    NaN     NaN  \n",
       "\n",
       "[5 rows x 8860 columns]"
      ]
     },
     "execution_count": 7,
     "metadata": {},
     "output_type": "execute_result"
    }
   ],
   "source": [
    "train_df = pd.SparseDataFrame(train_raw, columns=tfidf.get_feature_names())\n",
    "train_df.head()"
   ]
  },
  {
   "cell_type": "markdown",
   "metadata": {},
   "source": [
    "## Fill NAs"
   ]
  },
  {
   "cell_type": "code",
   "execution_count": 8,
   "metadata": {},
   "outputs": [],
   "source": [
    "train_df.fillna(0, inplace=True)"
   ]
  },
  {
   "cell_type": "code",
   "execution_count": 9,
   "metadata": {},
   "outputs": [
    {
     "data": {
      "text/html": [
       "<div>\n",
       "<style scoped>\n",
       "    .dataframe tbody tr th:only-of-type {\n",
       "        vertical-align: middle;\n",
       "    }\n",
       "\n",
       "    .dataframe tbody tr th {\n",
       "        vertical-align: top;\n",
       "    }\n",
       "\n",
       "    .dataframe thead th {\n",
       "        text-align: right;\n",
       "    }\n",
       "</style>\n",
       "<table border=\"1\" class=\"dataframe\">\n",
       "  <thead>\n",
       "    <tr style=\"text-align: right;\">\n",
       "      <th></th>\n",
       "      <th>00</th>\n",
       "      <th>000</th>\n",
       "      <th>00am</th>\n",
       "      <th>01</th>\n",
       "      <th>03</th>\n",
       "      <th>10</th>\n",
       "      <th>100</th>\n",
       "      <th>1000</th>\n",
       "      <th>100k</th>\n",
       "      <th>100mg</th>\n",
       "      <th>...</th>\n",
       "      <th>yup</th>\n",
       "      <th>zaps</th>\n",
       "      <th>zealand</th>\n",
       "      <th>zen</th>\n",
       "      <th>zero</th>\n",
       "      <th>zoloft</th>\n",
       "      <th>zombie</th>\n",
       "      <th>zone</th>\n",
       "      <th>zoned</th>\n",
       "      <th>zoning</th>\n",
       "    </tr>\n",
       "  </thead>\n",
       "  <tbody>\n",
       "    <tr>\n",
       "      <th>0</th>\n",
       "      <td>0.0</td>\n",
       "      <td>0.0</td>\n",
       "      <td>0.0</td>\n",
       "      <td>0.0</td>\n",
       "      <td>0.0</td>\n",
       "      <td>0.0</td>\n",
       "      <td>0.0</td>\n",
       "      <td>0.0</td>\n",
       "      <td>0.0</td>\n",
       "      <td>0.0</td>\n",
       "      <td>...</td>\n",
       "      <td>0.0</td>\n",
       "      <td>0.0</td>\n",
       "      <td>0.0</td>\n",
       "      <td>0.0</td>\n",
       "      <td>0.0</td>\n",
       "      <td>0.0</td>\n",
       "      <td>0.0</td>\n",
       "      <td>0.0</td>\n",
       "      <td>0.0</td>\n",
       "      <td>0.0</td>\n",
       "    </tr>\n",
       "    <tr>\n",
       "      <th>1</th>\n",
       "      <td>0.0</td>\n",
       "      <td>0.0</td>\n",
       "      <td>0.0</td>\n",
       "      <td>0.0</td>\n",
       "      <td>0.0</td>\n",
       "      <td>0.0</td>\n",
       "      <td>0.0</td>\n",
       "      <td>0.0</td>\n",
       "      <td>0.0</td>\n",
       "      <td>0.0</td>\n",
       "      <td>...</td>\n",
       "      <td>0.0</td>\n",
       "      <td>0.0</td>\n",
       "      <td>0.0</td>\n",
       "      <td>0.0</td>\n",
       "      <td>0.0</td>\n",
       "      <td>0.0</td>\n",
       "      <td>0.0</td>\n",
       "      <td>0.0</td>\n",
       "      <td>0.0</td>\n",
       "      <td>0.0</td>\n",
       "    </tr>\n",
       "    <tr>\n",
       "      <th>2</th>\n",
       "      <td>0.0</td>\n",
       "      <td>0.0</td>\n",
       "      <td>0.0</td>\n",
       "      <td>0.0</td>\n",
       "      <td>0.0</td>\n",
       "      <td>0.0</td>\n",
       "      <td>0.0</td>\n",
       "      <td>0.0</td>\n",
       "      <td>0.0</td>\n",
       "      <td>0.0</td>\n",
       "      <td>...</td>\n",
       "      <td>0.0</td>\n",
       "      <td>0.0</td>\n",
       "      <td>0.0</td>\n",
       "      <td>0.0</td>\n",
       "      <td>0.0</td>\n",
       "      <td>0.0</td>\n",
       "      <td>0.0</td>\n",
       "      <td>0.0</td>\n",
       "      <td>0.0</td>\n",
       "      <td>0.0</td>\n",
       "    </tr>\n",
       "    <tr>\n",
       "      <th>3</th>\n",
       "      <td>0.0</td>\n",
       "      <td>0.0</td>\n",
       "      <td>0.0</td>\n",
       "      <td>0.0</td>\n",
       "      <td>0.0</td>\n",
       "      <td>0.0</td>\n",
       "      <td>0.0</td>\n",
       "      <td>0.0</td>\n",
       "      <td>0.0</td>\n",
       "      <td>0.0</td>\n",
       "      <td>...</td>\n",
       "      <td>0.0</td>\n",
       "      <td>0.0</td>\n",
       "      <td>0.0</td>\n",
       "      <td>0.0</td>\n",
       "      <td>0.0</td>\n",
       "      <td>0.0</td>\n",
       "      <td>0.0</td>\n",
       "      <td>0.0</td>\n",
       "      <td>0.0</td>\n",
       "      <td>0.0</td>\n",
       "    </tr>\n",
       "    <tr>\n",
       "      <th>4</th>\n",
       "      <td>0.0</td>\n",
       "      <td>0.0</td>\n",
       "      <td>0.0</td>\n",
       "      <td>0.0</td>\n",
       "      <td>0.0</td>\n",
       "      <td>0.0</td>\n",
       "      <td>0.0</td>\n",
       "      <td>0.0</td>\n",
       "      <td>0.0</td>\n",
       "      <td>0.0</td>\n",
       "      <td>...</td>\n",
       "      <td>0.0</td>\n",
       "      <td>0.0</td>\n",
       "      <td>0.0</td>\n",
       "      <td>0.0</td>\n",
       "      <td>0.0</td>\n",
       "      <td>0.0</td>\n",
       "      <td>0.0</td>\n",
       "      <td>0.0</td>\n",
       "      <td>0.0</td>\n",
       "      <td>0.0</td>\n",
       "    </tr>\n",
       "  </tbody>\n",
       "</table>\n",
       "<p>5 rows × 8860 columns</p>\n",
       "</div>"
      ],
      "text/plain": [
       "    00  000  00am   01   03   10  100  1000  100k  100mg  ...  yup  zaps  \\\n",
       "0  0.0  0.0   0.0  0.0  0.0  0.0  0.0   0.0   0.0    0.0  ...  0.0   0.0   \n",
       "1  0.0  0.0   0.0  0.0  0.0  0.0  0.0   0.0   0.0    0.0  ...  0.0   0.0   \n",
       "2  0.0  0.0   0.0  0.0  0.0  0.0  0.0   0.0   0.0    0.0  ...  0.0   0.0   \n",
       "3  0.0  0.0   0.0  0.0  0.0  0.0  0.0   0.0   0.0    0.0  ...  0.0   0.0   \n",
       "4  0.0  0.0   0.0  0.0  0.0  0.0  0.0   0.0   0.0    0.0  ...  0.0   0.0   \n",
       "\n",
       "   zealand  zen  zero  zoloft  zombie  zone  zoned  zoning  \n",
       "0      0.0  0.0   0.0     0.0     0.0   0.0    0.0     0.0  \n",
       "1      0.0  0.0   0.0     0.0     0.0   0.0    0.0     0.0  \n",
       "2      0.0  0.0   0.0     0.0     0.0   0.0    0.0     0.0  \n",
       "3      0.0  0.0   0.0     0.0     0.0   0.0    0.0     0.0  \n",
       "4      0.0  0.0   0.0     0.0     0.0   0.0    0.0     0.0  \n",
       "\n",
       "[5 rows x 8860 columns]"
      ]
     },
     "execution_count": 9,
     "metadata": {},
     "output_type": "execute_result"
    }
   ],
   "source": [
    "train_df.head()"
   ]
  },
  {
   "cell_type": "markdown",
   "metadata": {},
   "source": [
    "## Replicate the Process for X-test"
   ]
  },
  {
   "cell_type": "code",
   "execution_count": 10,
   "metadata": {},
   "outputs": [],
   "source": [
    "test_df = pd.SparseDataFrame(tfidf.transform(X_test['selftext']), columns=tfidf.get_feature_names())\n",
    "test_df.fillna(0, inplace=True)"
   ]
  },
  {
   "cell_type": "code",
   "execution_count": 11,
   "metadata": {},
   "outputs": [
    {
     "data": {
      "text/html": [
       "<div>\n",
       "<style scoped>\n",
       "    .dataframe tbody tr th:only-of-type {\n",
       "        vertical-align: middle;\n",
       "    }\n",
       "\n",
       "    .dataframe tbody tr th {\n",
       "        vertical-align: top;\n",
       "    }\n",
       "\n",
       "    .dataframe thead th {\n",
       "        text-align: right;\n",
       "    }\n",
       "</style>\n",
       "<table border=\"1\" class=\"dataframe\">\n",
       "  <thead>\n",
       "    <tr style=\"text-align: right;\">\n",
       "      <th></th>\n",
       "      <th>00</th>\n",
       "      <th>000</th>\n",
       "      <th>00am</th>\n",
       "      <th>01</th>\n",
       "      <th>03</th>\n",
       "      <th>10</th>\n",
       "      <th>100</th>\n",
       "      <th>1000</th>\n",
       "      <th>100k</th>\n",
       "      <th>100mg</th>\n",
       "      <th>...</th>\n",
       "      <th>yup</th>\n",
       "      <th>zaps</th>\n",
       "      <th>zealand</th>\n",
       "      <th>zen</th>\n",
       "      <th>zero</th>\n",
       "      <th>zoloft</th>\n",
       "      <th>zombie</th>\n",
       "      <th>zone</th>\n",
       "      <th>zoned</th>\n",
       "      <th>zoning</th>\n",
       "    </tr>\n",
       "  </thead>\n",
       "  <tbody>\n",
       "    <tr>\n",
       "      <th>0</th>\n",
       "      <td>0.0</td>\n",
       "      <td>0.0</td>\n",
       "      <td>0.0</td>\n",
       "      <td>0.0</td>\n",
       "      <td>0.0</td>\n",
       "      <td>0.0</td>\n",
       "      <td>0.0</td>\n",
       "      <td>0.0</td>\n",
       "      <td>0.0</td>\n",
       "      <td>0.0</td>\n",
       "      <td>...</td>\n",
       "      <td>0.0</td>\n",
       "      <td>0.0</td>\n",
       "      <td>0.0</td>\n",
       "      <td>0.0</td>\n",
       "      <td>0.0</td>\n",
       "      <td>0.0</td>\n",
       "      <td>0.0</td>\n",
       "      <td>0.0</td>\n",
       "      <td>0.0</td>\n",
       "      <td>0.0</td>\n",
       "    </tr>\n",
       "    <tr>\n",
       "      <th>1</th>\n",
       "      <td>0.0</td>\n",
       "      <td>0.0</td>\n",
       "      <td>0.0</td>\n",
       "      <td>0.0</td>\n",
       "      <td>0.0</td>\n",
       "      <td>0.0</td>\n",
       "      <td>0.0</td>\n",
       "      <td>0.0</td>\n",
       "      <td>0.0</td>\n",
       "      <td>0.0</td>\n",
       "      <td>...</td>\n",
       "      <td>0.0</td>\n",
       "      <td>0.0</td>\n",
       "      <td>0.0</td>\n",
       "      <td>0.0</td>\n",
       "      <td>0.0</td>\n",
       "      <td>0.0</td>\n",
       "      <td>0.0</td>\n",
       "      <td>0.0</td>\n",
       "      <td>0.0</td>\n",
       "      <td>0.0</td>\n",
       "    </tr>\n",
       "    <tr>\n",
       "      <th>2</th>\n",
       "      <td>0.0</td>\n",
       "      <td>0.0</td>\n",
       "      <td>0.0</td>\n",
       "      <td>0.0</td>\n",
       "      <td>0.0</td>\n",
       "      <td>0.0</td>\n",
       "      <td>0.0</td>\n",
       "      <td>0.0</td>\n",
       "      <td>0.0</td>\n",
       "      <td>0.0</td>\n",
       "      <td>...</td>\n",
       "      <td>0.0</td>\n",
       "      <td>0.0</td>\n",
       "      <td>0.0</td>\n",
       "      <td>0.0</td>\n",
       "      <td>0.0</td>\n",
       "      <td>0.0</td>\n",
       "      <td>0.0</td>\n",
       "      <td>0.0</td>\n",
       "      <td>0.0</td>\n",
       "      <td>0.0</td>\n",
       "    </tr>\n",
       "    <tr>\n",
       "      <th>3</th>\n",
       "      <td>0.0</td>\n",
       "      <td>0.0</td>\n",
       "      <td>0.0</td>\n",
       "      <td>0.0</td>\n",
       "      <td>0.0</td>\n",
       "      <td>0.0</td>\n",
       "      <td>0.0</td>\n",
       "      <td>0.0</td>\n",
       "      <td>0.0</td>\n",
       "      <td>0.0</td>\n",
       "      <td>...</td>\n",
       "      <td>0.0</td>\n",
       "      <td>0.0</td>\n",
       "      <td>0.0</td>\n",
       "      <td>0.0</td>\n",
       "      <td>0.0</td>\n",
       "      <td>0.0</td>\n",
       "      <td>0.0</td>\n",
       "      <td>0.0</td>\n",
       "      <td>0.0</td>\n",
       "      <td>0.0</td>\n",
       "    </tr>\n",
       "    <tr>\n",
       "      <th>4</th>\n",
       "      <td>0.0</td>\n",
       "      <td>0.0</td>\n",
       "      <td>0.0</td>\n",
       "      <td>0.0</td>\n",
       "      <td>0.0</td>\n",
       "      <td>0.0</td>\n",
       "      <td>0.0</td>\n",
       "      <td>0.0</td>\n",
       "      <td>0.0</td>\n",
       "      <td>0.0</td>\n",
       "      <td>...</td>\n",
       "      <td>0.0</td>\n",
       "      <td>0.0</td>\n",
       "      <td>0.0</td>\n",
       "      <td>0.0</td>\n",
       "      <td>0.0</td>\n",
       "      <td>0.0</td>\n",
       "      <td>0.0</td>\n",
       "      <td>0.0</td>\n",
       "      <td>0.0</td>\n",
       "      <td>0.0</td>\n",
       "    </tr>\n",
       "  </tbody>\n",
       "</table>\n",
       "<p>5 rows × 8860 columns</p>\n",
       "</div>"
      ],
      "text/plain": [
       "    00  000  00am   01   03   10  100  1000  100k  100mg  ...  yup  zaps  \\\n",
       "0  0.0  0.0   0.0  0.0  0.0  0.0  0.0   0.0   0.0    0.0  ...  0.0   0.0   \n",
       "1  0.0  0.0   0.0  0.0  0.0  0.0  0.0   0.0   0.0    0.0  ...  0.0   0.0   \n",
       "2  0.0  0.0   0.0  0.0  0.0  0.0  0.0   0.0   0.0    0.0  ...  0.0   0.0   \n",
       "3  0.0  0.0   0.0  0.0  0.0  0.0  0.0   0.0   0.0    0.0  ...  0.0   0.0   \n",
       "4  0.0  0.0   0.0  0.0  0.0  0.0  0.0   0.0   0.0    0.0  ...  0.0   0.0   \n",
       "\n",
       "   zealand  zen  zero  zoloft  zombie  zone  zoned  zoning  \n",
       "0      0.0  0.0   0.0     0.0     0.0   0.0    0.0     0.0  \n",
       "1      0.0  0.0   0.0     0.0     0.0   0.0    0.0     0.0  \n",
       "2      0.0  0.0   0.0     0.0     0.0   0.0    0.0     0.0  \n",
       "3      0.0  0.0   0.0     0.0     0.0   0.0    0.0     0.0  \n",
       "4      0.0  0.0   0.0     0.0     0.0   0.0    0.0     0.0  \n",
       "\n",
       "[5 rows x 8860 columns]"
      ]
     },
     "execution_count": 11,
     "metadata": {},
     "output_type": "execute_result"
    }
   ],
   "source": [
    "test_df.head()"
   ]
  },
  {
   "cell_type": "markdown",
   "metadata": {},
   "source": [
    "## Instantiate and Fit Random Forest Model"
   ]
  },
  {
   "cell_type": "markdown",
   "metadata": {},
   "source": [
    "### Random Forest Overview\n",
    "\n",
    "Random Forest is a decision tree modeling technique that seeks to overcome some of the disadvantages of standard decision trees. Decision trees are a non-parametric modeling technique that make sequential, hierarchical decisions on features in order to predict an outcome variable (i.e. Logical IF statements). They can be utilized in the regression and classification setting.\n",
    "\n",
    "Generally, the advantages of decision trees are that they're somewhat interpretable/explainable, they train/predict quickly, and there is little data prep needed (no scaling, no dummying, etc.). Among the disadvantages are that a single tree tends to be overfit to the data it was trained on.\n",
    "\n",
    "Random Forest attempts to address this issue in two main ways:\n",
    "1. We take many samples of the training data using a method called bootstraping. With bootstraping, we draw samples from the training data with replacement. We fit a decision trees on each one of these sample.\n",
    "\n",
    "2. In addition to bootstraping, each internal node of the fitted trees is only exposed to a subset of the total features (generally sqrt(p features)). This is done to ensure that individual trees are not highly correlated with each other by folowing a similar decision path.\n",
    "\n",
    "Splits are decided based on the 'purity' gain at each split. Purity refers to the proportion of observations in the leaf/terminal node that belong to the same class. If all the observations in the node belong to the same class the node is 100% pure."
   ]
  },
  {
   "cell_type": "markdown",
   "metadata": {},
   "source": [
    "## Hyperparameter Tuning Using RandomizedSearchCV()"
   ]
  },
  {
   "cell_type": "markdown",
   "metadata": {},
   "source": [
    "RandomizedSearchCV is a method for finding the optimal hyperparameters for a machine learning algorithm. In contrast to GridSearchCV, not all parameter values are tried out, but rather a fixed number of parameter settings is sampled from the specified distributions.\n",
    "\n",
    "[Source](https://scikit-learn.org/stable/modules/generated/sklearn.model_selection.RandomizedSearchCV.html)"
   ]
  },
  {
   "cell_type": "markdown",
   "metadata": {},
   "source": [
    "**Random Forest Hyperparameters to Test:**\n",
    "- n_estimators: the number of decision trees\n",
    "- max_depth: the max number of decion ndes. If None, then nodes are expanded until all leaves are pure or until all leaves contain less than min_samples_split samples.\n",
    "- min_samples_split: the minimum number of samples required to split an internal node\n",
    "- min_samples_leaf: the minimum number of samples required to be at a leaf node\n",
    "\n",
    "[Source](https://scikit-learn.org/stable/modules/generated/sklearn.ensemble.RandomForestClassifier.html)"
   ]
  },
  {
   "cell_type": "markdown",
   "metadata": {},
   "source": [
    "Create the parameter grid from which hyperparameters are sampled. Based on trial and error, we observed the highest test accuracy with the lowest prevalence of overfitting with the below values. N_estimators = 100, max_depth = 60, and min_samples_leaf = 10.\n",
    "\n",
    "We are hard coding these hyperparameter values and sampling from a distribution of min_sample_split values between 10 and 50. By default, `RandomizedSearchCV` will sample from the parameter grid 10 times."
   ]
  },
  {
   "cell_type": "code",
   "execution_count": 13,
   "metadata": {},
   "outputs": [],
   "source": [
    "# Adapted from:\n",
    "# https://towardsdatascience.com/hyperparameter-tuning-the-random-forest-in-python-using-scikit-learn-28d2aa77dd74\n",
    "\n",
    "random_grid = {'n_estimators': [100],\n",
    "               'max_depth': [60],\n",
    "               'min_samples_split': [int(x) for x in np.linspace(10, 80,10)],\n",
    "               'min_samples_leaf': [10]\n",
    "               }"
   ]
  },
  {
   "cell_type": "markdown",
   "metadata": {},
   "source": [
    "### Instantiate and Fit the Model"
   ]
  },
  {
   "cell_type": "markdown",
   "metadata": {},
   "source": [
    "In addition to using `RandomizedSearchCV()` to tune hpyerparameters, we'll also use 3-fold cross-validation to fit our hyperparameter combnations to 3 different samples of the training data."
   ]
  },
  {
   "cell_type": "code",
   "execution_count": 14,
   "metadata": {},
   "outputs": [
    {
     "name": "stdout",
     "output_type": "stream",
     "text": [
      "Fitting 3 folds for each of 10 candidates, totalling 30 fits\n"
     ]
    },
    {
     "name": "stderr",
     "output_type": "stream",
     "text": [
      "[Parallel(n_jobs=-1)]: Using backend LokyBackend with 4 concurrent workers.\n",
      "[Parallel(n_jobs=-1)]: Done  30 out of  30 | elapsed: 75.1min finished\n"
     ]
    },
    {
     "data": {
      "text/plain": [
       "RandomizedSearchCV(cv=3, error_score='raise-deprecating',\n",
       "          estimator=RandomForestClassifier(bootstrap=True, class_weight=None, criterion='gini',\n",
       "            max_depth=None, max_features='auto', max_leaf_nodes=None,\n",
       "            min_impurity_decrease=0.0, min_impurity_split=None,\n",
       "            min_samples_leaf=1, min_samples_split=2,\n",
       "            min_weight_fraction_leaf=0.0, n_estimators='warn', n_jobs=None,\n",
       "            oob_score=False, random_state=None, verbose=0,\n",
       "            warm_start=False),\n",
       "          fit_params=None, iid='warn', n_iter=10, n_jobs=-1,\n",
       "          param_distributions={'n_estimators': [100], 'max_depth': [60], 'min_samples_split': [10, 17, 25, 33, 41, 48, 56, 64, 72, 80], 'min_samples_leaf': [10]},\n",
       "          pre_dispatch='2*n_jobs', random_state=42, refit=True,\n",
       "          return_train_score=True, scoring=None, verbose=2)"
      ]
     },
     "execution_count": 14,
     "metadata": {},
     "output_type": "execute_result"
    }
   ],
   "source": [
    "rf = RandomForestClassifier()\n",
    "\n",
    "rf_random = RandomizedSearchCV(estimator = rf, \n",
    "                               param_distributions = random_grid, \n",
    "                               cv = 3, \n",
    "                               verbose=2, \n",
    "                               random_state=42, \n",
    "                               return_train_score=True,\n",
    "                               n_jobs = -1)\n",
    "\n",
    "rf_random.fit(train_df, y_train)"
   ]
  },
  {
   "cell_type": "markdown",
   "metadata": {},
   "source": [
    "Below we can see the best parameters from our fitted model, best on the highest mean accuracy score across the 3 folds."
   ]
  },
  {
   "cell_type": "code",
   "execution_count": 15,
   "metadata": {},
   "outputs": [
    {
     "data": {
      "text/plain": [
       "{'n_estimators': 100,\n",
       " 'min_samples_split': 64,\n",
       " 'min_samples_leaf': 10,\n",
       " 'max_depth': 60}"
      ]
     },
     "execution_count": 15,
     "metadata": {},
     "output_type": "execute_result"
    }
   ],
   "source": [
    "rf_random.best_params_"
   ]
  },
  {
   "cell_type": "markdown",
   "metadata": {},
   "source": [
    "We see that given a min_samples_leaf ranging from 10-80, the model selected 45, on the higher end of the range."
   ]
  },
  {
   "cell_type": "markdown",
   "metadata": {},
   "source": [
    "Calculating our train/test accuracy scores:"
   ]
  },
  {
   "cell_type": "code",
   "execution_count": 16,
   "metadata": {},
   "outputs": [
    {
     "data": {
      "text/plain": [
       "0.8260164997053624"
      ]
     },
     "execution_count": 16,
     "metadata": {},
     "output_type": "execute_result"
    }
   ],
   "source": [
    "rf_random.score(train_df, y_train)"
   ]
  },
  {
   "cell_type": "code",
   "execution_count": 17,
   "metadata": {},
   "outputs": [
    {
     "data": {
      "text/plain": [
       "0.7118868758285462"
      ]
     },
     "execution_count": 17,
     "metadata": {},
     "output_type": "execute_result"
    }
   ],
   "source": [
    "rf_random.score(test_df, y_test)"
   ]
  },
  {
   "cell_type": "markdown",
   "metadata": {},
   "source": [
    "We can see our accuracy on the training data is 83% and the accuracy on the test data is 71%. Previous Random Forest iterations had a much higher training score (95-99%), with around the same test score. This model is less overfit, and will likely generalize better to unseen data."
   ]
  },
  {
   "cell_type": "markdown",
   "metadata": {},
   "source": [
    "Below we can plot that mean test accuracy score for each 'min_samples_split' that was test"
   ]
  },
  {
   "cell_type": "code",
   "execution_count": 68,
   "metadata": {},
   "outputs": [
    {
     "data": {
      "text/plain": [
       "''"
      ]
     },
     "execution_count": 68,
     "metadata": {},
     "output_type": "execute_result"
    },
    {
     "data": {
      "image/png": "[encoded data removed]",
      "text/plain": [
       "<Figure size 432x288 with 1 Axes>"
      ]
     },
     "metadata": {
      "needs_background": "light"
     },
     "output_type": "display_data"
    }
   ],
   "source": [
    "tested_min_samples_split = [x['min_samples_split'] for x in rf_random.cv_results_['params']]\n",
    "rf_random.cv_results_['mean_test_score']\n",
    "plt.plot(tested_min_samples_split, rf_random.cv_results_['mean_test_score'], color = 'firebrick')\n",
    "plt.xlabel('Number of Min_Samples_Splits', fontsize=12)\n",
    "plt.ylabel('Mean Test Accuracy', fontsize=15);\n",
    ";"
   ]
  },
  {
   "cell_type": "markdown",
   "metadata": {},
   "source": [
    "We see that our accuracy peaked at mss=10, and mss=60."
   ]
  },
  {
   "cell_type": "markdown",
   "metadata": {},
   "source": [
    "### Analyzing the Confusion Matrix\n",
    "\n",
    "The confusion matrix is a simple visual representation of our how our predictions in each class correspond to the actual classification."
   ]
  },
  {
   "cell_type": "code",
   "execution_count": 30,
   "metadata": {},
   "outputs": [
    {
     "data": {
      "text/plain": [
       "array([[1593,  666],\n",
       "       [ 638, 1629]])"
      ]
     },
     "execution_count": 30,
     "metadata": {},
     "output_type": "execute_result"
    }
   ],
   "source": [
    "from sklearn.metrics import confusion_matrix\n",
    "predictions = rf_random.predict(test_df)\n",
    "confusion_matrix(y_test, predictions)"
   ]
  },
  {
   "cell_type": "markdown",
   "metadata": {},
   "source": [
    "The confusion matrix can be interpreted as follows:\n",
    "- **True Negative** (top left): observations we correctly identified as the negative class, which in this case refers to the depression subreddit (1593)\n",
    "- **False Positive** (top right): observations we incorrectly identified as the positive class, meaning we predicted it from the suicidewatch subreddit but it was from depression (666)\n",
    "- **False Negative** (bottom left): observations we incorrectly identified as the negative class, meaning we predicted it was from the depression subreddit but it was from suicidewatch (638)\n",
    "- **True Positive** (bottom right): observations we correctly identified as the positive class, which in this case refers to the suicidewatch subreddit (1629)"
   ]
  },
  {
   "cell_type": "code",
   "execution_count": 31,
   "metadata": {},
   "outputs": [],
   "source": [
    "tn, fp, fn, tp = confusion_matrix(y_test, predictions).ravel()"
   ]
  },
  {
   "cell_type": "markdown",
   "metadata": {},
   "source": [
    "### Confusion Matrix Summary"
   ]
  },
  {
   "cell_type": "code",
   "execution_count": 32,
   "metadata": {},
   "outputs": [
    {
     "name": "stdout",
     "output_type": "stream",
     "text": [
      "True Negatives: 1593\n",
      "False Positives: 666\n",
      "False Negatives: 638\n",
      "True Positives: 1629\n",
      "Sensitivty: 0.7185707984119982\n",
      "Specificty: 0.7051792828685259\n",
      "Accuracy: 0.7118868758285462\n"
     ]
    }
   ],
   "source": [
    "print(f\"True Negatives: {tn}\")\n",
    "print(f\"False Positives: {fp}\")\n",
    "print(f\"False Negatives: {fn}\")\n",
    "print(f\"True Positives: {tp}\")\n",
    "print(f\"Sensitivty: {tp/(tp+fn)}\")\n",
    "print(f\"Specificty: {tn/(tn+fp)}\")\n",
    "print(f\"Accuracy: {(tp+tn)/((tp+ tn+fp+fn))}\")"
   ]
  },
  {
   "cell_type": "markdown",
   "metadata": {},
   "source": [
    "Of the suicidewatch subreddit posts, we identified 72% of them accurately. This is denoted by the Sensitivity metric in the table above. Of the depression subreddit posts, we corectly identified 71% of them. \n",
    "\n",
    "Unlike our Naive Bayes model where our model was clearly more effective at identifying Suicidewatch submissions (Sensitivity-66%, Specificity-51%) the random forest predictions are on par for both classes."
   ]
  },
  {
   "cell_type": "markdown",
   "metadata": {},
   "source": [
    "### Visualizing the Predicted Probabilities"
   ]
  },
  {
   "cell_type": "markdown",
   "metadata": {},
   "source": [
    "Below we can visualize the predicted probabilities in the histogram"
   ]
  },
  {
   "cell_type": "code",
   "execution_count": 67,
   "metadata": {},
   "outputs": [
    {
     "data": {
      "image/png": "[encoded data removed]",
      "text/plain": [
       "<Figure size 432x288 with 1 Axes>"
      ]
     },
     "metadata": {
      "needs_background": "light"
     },
     "output_type": "display_data"
    }
   ],
   "source": [
    "rf_random_predprobs = rf_random.predict_proba(train_df)[:,1]\n",
    "\n",
    "plt.hist(rf_random_predprobs, bins=100, color= 'firebrick');\n",
    "plt.xlabel('Predicted Probabilities', fontsize=12)\n",
    "plt.ylabel('Frequency', fontsize=12)\n",
    "plt.title(f'Histogram of Predicted Probabilities', fontsize=20);"
   ]
  },
  {
   "cell_type": "code",
   "execution_count": 42,
   "metadata": {},
   "outputs": [
    {
     "name": "stdout",
     "output_type": "stream",
     "text": [
      "Max Predicted Proba is: 0.7966748233809297\n",
      "Min Predicted Proba is: 0.20055436624214845\n",
      "Median Predicted Proba is: 0.5082677683190719\n",
      "Mean Predicted Proba is: 0.5002923723951301\n"
     ]
    }
   ],
   "source": [
    "print(f'Max Predicted Proba is: {np.max(rf_random_predprobs)}')\n",
    "print(f'Min Predicted Proba is: {np.min(rf_random_predprobs)}')\n",
    "print(f'Median Predicted Proba is: {np.median(rf_random_predprobs)}')\n",
    "print(f'Mean Predicted Proba is: {np.mean(rf_random_predprobs)}')"
   ]
  },
  {
   "cell_type": "markdown",
   "metadata": {},
   "source": [
    "What we notice here is that while our overall accuracy is okay at 71%, we are not overly confident in any of the predictions, frankly. No predicted probabilities is greater than 80% and none are less than 20%."
   ]
  },
  {
   "cell_type": "markdown",
   "metadata": {},
   "source": [
    "### Top Features based on Importance"
   ]
  },
  {
   "cell_type": "markdown",
   "metadata": {},
   "source": [
    "The feature importance is a measure for how much each feature contributes to decreasing the weighted impurity (on avg. across all the tress)"
   ]
  },
  {
   "cell_type": "code",
   "execution_count": 57,
   "metadata": {},
   "outputs": [],
   "source": [
    "features = tfidf.get_feature_names()\n",
    "importance = rf_random.best_estimator_.feature_importances_"
   ]
  },
  {
   "cell_type": "code",
   "execution_count": 58,
   "metadata": {},
   "outputs": [],
   "source": [
    "rf_feature_weights = pd.DataFrame({'features':features, 'importance': importance})"
   ]
  },
  {
   "cell_type": "code",
   "execution_count": null,
   "metadata": {},
   "outputs": [],
   "source": [
    "rf_feature_weights.set_index('features',inplace=True)"
   ]
  },
  {
   "cell_type": "markdown",
   "metadata": {},
   "source": [
    "Plotting the top 20 features below:"
   ]
  },
  {
   "cell_type": "code",
   "execution_count": 64,
   "metadata": {},
   "outputs": [],
   "source": [
    "rf_top20 = rf_feature_weights.sort_values('importance', ascending=False)['importance'].head(20)\n",
    "rf_labels_top20 = rf_top20.index"
   ]
  },
  {
   "cell_type": "code",
   "execution_count": 66,
   "metadata": {},
   "outputs": [
    {
     "data": {
      "text/plain": [
       "''"
      ]
     },
     "execution_count": 66,
     "metadata": {},
     "output_type": "execute_result"
    },
    {
     "data": {
      "image/png": "[encoded data removed]",
      "text/plain": [
       "<Figure size 1440x720 with 1 Axes>"
      ]
     },
     "metadata": {
      "needs_background": "light"
     },
     "output_type": "display_data"
    }
   ],
   "source": [
    "plt.figure(figsize=(20,10))\n",
    "plt.barh(rf_labels_top20, rf_top20, color= 'firebrick')\n",
    "plt.yticks(fontsize=20)\n",
    "plt.xticks(fontsize=20)\n",
    "plt.xlabel('Feature Importance Measure', fontsize=30)\n",
    "# plt.ylabel('Feature', fontsize=30)\n",
    "plt.title(f'Top Features and Importance Measure', fontsize=30)\n",
    "plt.tight_layout()\n",
    "\n",
    "# Saving the image\n",
    "# plt.savefig('../images/rf_feat_weights.png')\n",
    ";"
   ]
  },
  {
   "cell_type": "markdown",
   "metadata": {},
   "source": [
    "### Saving Model"
   ]
  },
  {
   "cell_type": "code",
   "execution_count": null,
   "metadata": {},
   "outputs": [],
   "source": [
    "# import pickle\n",
    "\n",
    "# with open('../assets/random_forest/pkl','wb+') as f:\n",
    "#     pickle.dump(rf_random, f)"
   ]
  },
  {
   "cell_type": "markdown",
   "metadata": {},
   "source": [
    "### Loading Model"
   ]
  },
  {
   "cell_type": "code",
   "execution_count": null,
   "metadata": {},
   "outputs": [],
   "source": [
    "# import pickle\n",
    "\n",
    "# with open('../assets/filename/pkl','wb+') as f:\n",
    "#     pickle.load(rf_random, f)"
   ]
  }
 ],
 "metadata": {
  "kernelspec": {
   "display_name": "Python 3",
   "language": "python",
   "name": "python3"
  },
  "language_info": {
   "codemirror_mode": {
    "name": "ipython",
    "version": 3
   },
   "file_extension": ".py",
   "mimetype": "text/x-python",
   "name": "python",
   "nbconvert_exporter": "python",
   "pygments_lexer": "ipython3",
   "version": "3.7.1"
  }
 },
 "nbformat": 4,
 "nbformat_minor": 2
}
